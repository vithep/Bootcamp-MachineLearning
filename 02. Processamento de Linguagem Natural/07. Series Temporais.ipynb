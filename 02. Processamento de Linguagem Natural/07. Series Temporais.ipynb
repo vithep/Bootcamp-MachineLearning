{
 "cells": [
  {
   "cell_type": "markdown",
   "metadata": {},
   "source": [
    "# 7. Series Temporais "
   ]
  },
  {
   "cell_type": "code",
   "execution_count": 1,
   "metadata": {},
   "outputs": [],
   "source": [
    "import pandas as pd \n",
    "import numpy as np\n",
    "from matplotlib import pyplot as plt\n",
    "import seaborn as sns\n",
    "import datetime"
   ]
  },
  {
   "cell_type": "markdown",
   "metadata": {},
   "source": [
    "#### Lendo o dataset para o formato de dataframe"
   ]
  },
  {
   "cell_type": "code",
   "execution_count": 2,
   "metadata": {},
   "outputs": [],
   "source": [
    "df_poluicao_beijing = pd.read_csv(\"PRSA_data_2010.1.1-2014.12.31.csv\")"
   ]
  },
  {
   "cell_type": "markdown",
   "metadata": {},
   "source": [
    "#### Conhecendo o dataset"
   ]
  },
  {
   "cell_type": "code",
   "execution_count": 3,
   "metadata": {},
   "outputs": [
    {
     "data": {
      "text/html": [
       "<div>\n",
       "<style scoped>\n",
       "    .dataframe tbody tr th:only-of-type {\n",
       "        vertical-align: middle;\n",
       "    }\n",
       "\n",
       "    .dataframe tbody tr th {\n",
       "        vertical-align: top;\n",
       "    }\n",
       "\n",
       "    .dataframe thead th {\n",
       "        text-align: right;\n",
       "    }\n",
       "</style>\n",
       "<table border=\"1\" class=\"dataframe\">\n",
       "  <thead>\n",
       "    <tr style=\"text-align: right;\">\n",
       "      <th></th>\n",
       "      <th>No</th>\n",
       "      <th>year</th>\n",
       "      <th>month</th>\n",
       "      <th>day</th>\n",
       "      <th>hour</th>\n",
       "      <th>pm2.5</th>\n",
       "      <th>DEWP</th>\n",
       "      <th>TEMP</th>\n",
       "      <th>PRES</th>\n",
       "      <th>cbwd</th>\n",
       "      <th>Iws</th>\n",
       "      <th>Is</th>\n",
       "      <th>Ir</th>\n",
       "    </tr>\n",
       "  </thead>\n",
       "  <tbody>\n",
       "    <tr>\n",
       "      <th>0</th>\n",
       "      <td>1</td>\n",
       "      <td>2010</td>\n",
       "      <td>1</td>\n",
       "      <td>1</td>\n",
       "      <td>0</td>\n",
       "      <td>NaN</td>\n",
       "      <td>-21</td>\n",
       "      <td>-11.0</td>\n",
       "      <td>1021.0</td>\n",
       "      <td>NW</td>\n",
       "      <td>1.79</td>\n",
       "      <td>0</td>\n",
       "      <td>0</td>\n",
       "    </tr>\n",
       "    <tr>\n",
       "      <th>1</th>\n",
       "      <td>2</td>\n",
       "      <td>2010</td>\n",
       "      <td>1</td>\n",
       "      <td>1</td>\n",
       "      <td>1</td>\n",
       "      <td>NaN</td>\n",
       "      <td>-21</td>\n",
       "      <td>-12.0</td>\n",
       "      <td>1020.0</td>\n",
       "      <td>NW</td>\n",
       "      <td>4.92</td>\n",
       "      <td>0</td>\n",
       "      <td>0</td>\n",
       "    </tr>\n",
       "    <tr>\n",
       "      <th>2</th>\n",
       "      <td>3</td>\n",
       "      <td>2010</td>\n",
       "      <td>1</td>\n",
       "      <td>1</td>\n",
       "      <td>2</td>\n",
       "      <td>NaN</td>\n",
       "      <td>-21</td>\n",
       "      <td>-11.0</td>\n",
       "      <td>1019.0</td>\n",
       "      <td>NW</td>\n",
       "      <td>6.71</td>\n",
       "      <td>0</td>\n",
       "      <td>0</td>\n",
       "    </tr>\n",
       "    <tr>\n",
       "      <th>3</th>\n",
       "      <td>4</td>\n",
       "      <td>2010</td>\n",
       "      <td>1</td>\n",
       "      <td>1</td>\n",
       "      <td>3</td>\n",
       "      <td>NaN</td>\n",
       "      <td>-21</td>\n",
       "      <td>-14.0</td>\n",
       "      <td>1019.0</td>\n",
       "      <td>NW</td>\n",
       "      <td>9.84</td>\n",
       "      <td>0</td>\n",
       "      <td>0</td>\n",
       "    </tr>\n",
       "    <tr>\n",
       "      <th>4</th>\n",
       "      <td>5</td>\n",
       "      <td>2010</td>\n",
       "      <td>1</td>\n",
       "      <td>1</td>\n",
       "      <td>4</td>\n",
       "      <td>NaN</td>\n",
       "      <td>-20</td>\n",
       "      <td>-12.0</td>\n",
       "      <td>1018.0</td>\n",
       "      <td>NW</td>\n",
       "      <td>12.97</td>\n",
       "      <td>0</td>\n",
       "      <td>0</td>\n",
       "    </tr>\n",
       "  </tbody>\n",
       "</table>\n",
       "</div>"
      ],
      "text/plain": [
       "   No  year  month  day  hour  pm2.5  DEWP  TEMP    PRES cbwd    Iws  Is  Ir\n",
       "0   1  2010      1    1     0    NaN   -21 -11.0  1021.0   NW   1.79   0   0\n",
       "1   2  2010      1    1     1    NaN   -21 -12.0  1020.0   NW   4.92   0   0\n",
       "2   3  2010      1    1     2    NaN   -21 -11.0  1019.0   NW   6.71   0   0\n",
       "3   4  2010      1    1     3    NaN   -21 -14.0  1019.0   NW   9.84   0   0\n",
       "4   5  2010      1    1     4    NaN   -20 -12.0  1018.0   NW  12.97   0   0"
      ]
     },
     "execution_count": 3,
     "metadata": {},
     "output_type": "execute_result"
    }
   ],
   "source": [
    "df_poluicao_beijing.head()"
   ]
  },
  {
   "cell_type": "markdown",
   "metadata": {},
   "source": [
    "#### Verificando o shape do dataset"
   ]
  },
  {
   "cell_type": "code",
   "execution_count": 4,
   "metadata": {},
   "outputs": [
    {
     "data": {
      "text/plain": [
       "(43824, 13)"
      ]
     },
     "execution_count": 4,
     "metadata": {},
     "output_type": "execute_result"
    }
   ],
   "source": [
    "df_poluicao_beijing.shape"
   ]
  },
  {
   "cell_type": "markdown",
   "metadata": {},
   "source": [
    "#### Verificando o formato do dataset"
   ]
  },
  {
   "cell_type": "code",
   "execution_count": 5,
   "metadata": {},
   "outputs": [
    {
     "name": "stdout",
     "output_type": "stream",
     "text": [
      "<class 'pandas.core.frame.DataFrame'>\n",
      "RangeIndex: 43824 entries, 0 to 43823\n",
      "Data columns (total 13 columns):\n",
      " #   Column  Non-Null Count  Dtype  \n",
      "---  ------  --------------  -----  \n",
      " 0   No      43824 non-null  int64  \n",
      " 1   year    43824 non-null  int64  \n",
      " 2   month   43824 non-null  int64  \n",
      " 3   day     43824 non-null  int64  \n",
      " 4   hour    43824 non-null  int64  \n",
      " 5   pm2.5   41757 non-null  float64\n",
      " 6   DEWP    43824 non-null  int64  \n",
      " 7   TEMP    43824 non-null  float64\n",
      " 8   PRES    43824 non-null  float64\n",
      " 9   cbwd    43824 non-null  object \n",
      " 10  Iws     43824 non-null  float64\n",
      " 11  Is      43824 non-null  int64  \n",
      " 12  Ir      43824 non-null  int64  \n",
      "dtypes: float64(4), int64(8), object(1)\n",
      "memory usage: 4.3+ MB\n"
     ]
    }
   ],
   "source": [
    "df_poluicao_beijing.info()"
   ]
  },
  {
   "cell_type": "markdown",
   "metadata": {},
   "source": [
    "#### Contando valores nulos"
   ]
  },
  {
   "cell_type": "code",
   "execution_count": 6,
   "metadata": {},
   "outputs": [
    {
     "data": {
      "text/plain": [
       "No          0\n",
       "year        0\n",
       "month       0\n",
       "day         0\n",
       "hour        0\n",
       "pm2.5    2067\n",
       "DEWP        0\n",
       "TEMP        0\n",
       "PRES        0\n",
       "cbwd        0\n",
       "Iws         0\n",
       "Is          0\n",
       "Ir          0\n",
       "dtype: int64"
      ]
     },
     "execution_count": 6,
     "metadata": {},
     "output_type": "execute_result"
    }
   ],
   "source": [
    "df_poluicao_beijing.isnull().sum()"
   ]
  },
  {
   "cell_type": "markdown",
   "metadata": {},
   "source": [
    "#### Obtendo os dados em formato de datetime"
   ]
  },
  {
   "cell_type": "code",
   "execution_count": 7,
   "metadata": {},
   "outputs": [],
   "source": [
    "df_poluicao_beijing['datetime'] = df_poluicao_beijing[['year', 'month', 'day', 'hour']].apply(lambda row: datetime.datetime(year=row['year'],month=row['month'], day=row['day'],hour=row['hour']), axis=1)"
   ]
  },
  {
   "cell_type": "markdown",
   "metadata": {},
   "source": [
    "#### Mostrando a modificação"
   ]
  },
  {
   "cell_type": "code",
   "execution_count": 8,
   "metadata": {},
   "outputs": [
    {
     "data": {
      "text/html": [
       "<div>\n",
       "<style scoped>\n",
       "    .dataframe tbody tr th:only-of-type {\n",
       "        vertical-align: middle;\n",
       "    }\n",
       "\n",
       "    .dataframe tbody tr th {\n",
       "        vertical-align: top;\n",
       "    }\n",
       "\n",
       "    .dataframe thead th {\n",
       "        text-align: right;\n",
       "    }\n",
       "</style>\n",
       "<table border=\"1\" class=\"dataframe\">\n",
       "  <thead>\n",
       "    <tr style=\"text-align: right;\">\n",
       "      <th></th>\n",
       "      <th>No</th>\n",
       "      <th>year</th>\n",
       "      <th>month</th>\n",
       "      <th>day</th>\n",
       "      <th>hour</th>\n",
       "      <th>pm2.5</th>\n",
       "      <th>DEWP</th>\n",
       "      <th>TEMP</th>\n",
       "      <th>PRES</th>\n",
       "      <th>cbwd</th>\n",
       "      <th>Iws</th>\n",
       "      <th>Is</th>\n",
       "      <th>Ir</th>\n",
       "      <th>datetime</th>\n",
       "    </tr>\n",
       "  </thead>\n",
       "  <tbody>\n",
       "    <tr>\n",
       "      <th>0</th>\n",
       "      <td>1</td>\n",
       "      <td>2010</td>\n",
       "      <td>1</td>\n",
       "      <td>1</td>\n",
       "      <td>0</td>\n",
       "      <td>NaN</td>\n",
       "      <td>-21</td>\n",
       "      <td>-11.0</td>\n",
       "      <td>1021.0</td>\n",
       "      <td>NW</td>\n",
       "      <td>1.79</td>\n",
       "      <td>0</td>\n",
       "      <td>0</td>\n",
       "      <td>2010-01-01 00:00:00</td>\n",
       "    </tr>\n",
       "    <tr>\n",
       "      <th>1</th>\n",
       "      <td>2</td>\n",
       "      <td>2010</td>\n",
       "      <td>1</td>\n",
       "      <td>1</td>\n",
       "      <td>1</td>\n",
       "      <td>NaN</td>\n",
       "      <td>-21</td>\n",
       "      <td>-12.0</td>\n",
       "      <td>1020.0</td>\n",
       "      <td>NW</td>\n",
       "      <td>4.92</td>\n",
       "      <td>0</td>\n",
       "      <td>0</td>\n",
       "      <td>2010-01-01 01:00:00</td>\n",
       "    </tr>\n",
       "    <tr>\n",
       "      <th>2</th>\n",
       "      <td>3</td>\n",
       "      <td>2010</td>\n",
       "      <td>1</td>\n",
       "      <td>1</td>\n",
       "      <td>2</td>\n",
       "      <td>NaN</td>\n",
       "      <td>-21</td>\n",
       "      <td>-11.0</td>\n",
       "      <td>1019.0</td>\n",
       "      <td>NW</td>\n",
       "      <td>6.71</td>\n",
       "      <td>0</td>\n",
       "      <td>0</td>\n",
       "      <td>2010-01-01 02:00:00</td>\n",
       "    </tr>\n",
       "    <tr>\n",
       "      <th>3</th>\n",
       "      <td>4</td>\n",
       "      <td>2010</td>\n",
       "      <td>1</td>\n",
       "      <td>1</td>\n",
       "      <td>3</td>\n",
       "      <td>NaN</td>\n",
       "      <td>-21</td>\n",
       "      <td>-14.0</td>\n",
       "      <td>1019.0</td>\n",
       "      <td>NW</td>\n",
       "      <td>9.84</td>\n",
       "      <td>0</td>\n",
       "      <td>0</td>\n",
       "      <td>2010-01-01 03:00:00</td>\n",
       "    </tr>\n",
       "    <tr>\n",
       "      <th>4</th>\n",
       "      <td>5</td>\n",
       "      <td>2010</td>\n",
       "      <td>1</td>\n",
       "      <td>1</td>\n",
       "      <td>4</td>\n",
       "      <td>NaN</td>\n",
       "      <td>-20</td>\n",
       "      <td>-12.0</td>\n",
       "      <td>1018.0</td>\n",
       "      <td>NW</td>\n",
       "      <td>12.97</td>\n",
       "      <td>0</td>\n",
       "      <td>0</td>\n",
       "      <td>2010-01-01 04:00:00</td>\n",
       "    </tr>\n",
       "  </tbody>\n",
       "</table>\n",
       "</div>"
      ],
      "text/plain": [
       "   No  year  month  day  hour  pm2.5  DEWP  TEMP    PRES cbwd    Iws  Is  Ir  \\\n",
       "0   1  2010      1    1     0    NaN   -21 -11.0  1021.0   NW   1.79   0   0   \n",
       "1   2  2010      1    1     1    NaN   -21 -12.0  1020.0   NW   4.92   0   0   \n",
       "2   3  2010      1    1     2    NaN   -21 -11.0  1019.0   NW   6.71   0   0   \n",
       "3   4  2010      1    1     3    NaN   -21 -14.0  1019.0   NW   9.84   0   0   \n",
       "4   5  2010      1    1     4    NaN   -20 -12.0  1018.0   NW  12.97   0   0   \n",
       "\n",
       "             datetime  \n",
       "0 2010-01-01 00:00:00  \n",
       "1 2010-01-01 01:00:00  \n",
       "2 2010-01-01 02:00:00  \n",
       "3 2010-01-01 03:00:00  \n",
       "4 2010-01-01 04:00:00  "
      ]
     },
     "execution_count": 8,
     "metadata": {},
     "output_type": "execute_result"
    }
   ],
   "source": [
    "df_poluicao_beijing.head()"
   ]
  },
  {
   "cell_type": "markdown",
   "metadata": {},
   "source": [
    "#### Encontrando as datas máximas e mínimas do dataset"
   ]
  },
  {
   "cell_type": "code",
   "execution_count": 9,
   "metadata": {},
   "outputs": [
    {
     "name": "stdout",
     "output_type": "stream",
     "text": [
      "Data inicial de coleta 2010-01-01 00:00:00\n",
      "Data final de coleta 2014-12-31 23:00:00\n"
     ]
    }
   ],
   "source": [
    "print('Data inicial de coleta',df_poluicao_beijing['datetime'].min())\n",
    "print('Data final de coleta',df_poluicao_beijing['datetime'].max())"
   ]
  },
  {
   "cell_type": "code",
   "execution_count": 12,
   "metadata": {},
   "outputs": [
    {
     "data": {
      "text/html": [
       "<div>\n",
       "<style scoped>\n",
       "    .dataframe tbody tr th:only-of-type {\n",
       "        vertical-align: middle;\n",
       "    }\n",
       "\n",
       "    .dataframe tbody tr th {\n",
       "        vertical-align: top;\n",
       "    }\n",
       "\n",
       "    .dataframe thead th {\n",
       "        text-align: right;\n",
       "    }\n",
       "</style>\n",
       "<table border=\"1\" class=\"dataframe\">\n",
       "  <thead>\n",
       "    <tr style=\"text-align: right;\">\n",
       "      <th></th>\n",
       "      <th>datetime</th>\n",
       "      <th>PRES</th>\n",
       "    </tr>\n",
       "  </thead>\n",
       "  <tbody>\n",
       "    <tr>\n",
       "      <th>0</th>\n",
       "      <td>2010-01-01 00:00:00</td>\n",
       "      <td>1021.0</td>\n",
       "    </tr>\n",
       "    <tr>\n",
       "      <th>1</th>\n",
       "      <td>2010-01-01 01:00:00</td>\n",
       "      <td>1020.0</td>\n",
       "    </tr>\n",
       "    <tr>\n",
       "      <th>2</th>\n",
       "      <td>2010-01-01 02:00:00</td>\n",
       "      <td>1019.0</td>\n",
       "    </tr>\n",
       "    <tr>\n",
       "      <th>3</th>\n",
       "      <td>2010-01-01 03:00:00</td>\n",
       "      <td>1019.0</td>\n",
       "    </tr>\n",
       "    <tr>\n",
       "      <th>4</th>\n",
       "      <td>2010-01-01 04:00:00</td>\n",
       "      <td>1018.0</td>\n",
       "    </tr>\n",
       "  </tbody>\n",
       "</table>\n",
       "</div>"
      ],
      "text/plain": [
       "             datetime    PRES\n",
       "0 2010-01-01 00:00:00  1021.0\n",
       "1 2010-01-01 01:00:00  1020.0\n",
       "2 2010-01-01 02:00:00  1019.0\n",
       "3 2010-01-01 03:00:00  1019.0\n",
       "4 2010-01-01 04:00:00  1018.0"
      ]
     },
     "execution_count": 12,
     "metadata": {},
     "output_type": "execute_result"
    }
   ],
   "source": [
    "df_pressao_atmosferica = df_poluicao_beijing[['datetime','PRES']] #pressão em hPa\n",
    "df_pressao_atmosferica.head()"
   ]
  },
  {
   "cell_type": "code",
   "execution_count": 11,
   "metadata": {},
   "outputs": [
    {
     "name": "stderr",
     "output_type": "stream",
     "text": [
      "<ipython-input-11-9b20426de338>:1: SettingWithCopyWarning: \n",
      "A value is trying to be set on a copy of a slice from a DataFrame\n",
      "\n",
      "See the caveats in the documentation: https://pandas.pydata.org/pandas-docs/stable/user_guide/indexing.html#returning-a-view-versus-a-copy\n",
      "  df_pressao_atmosferica.sort_values('datetime', ascending=True, inplace=True) #ordenando os valores pela data\n"
     ]
    }
   ],
   "source": [
    "df_pressao_atmosferica.sort_values('datetime', ascending=True, inplace=True) #ordenando os valores pela data"
   ]
  },
  {
   "cell_type": "code",
   "execution_count": 13,
   "metadata": {},
   "outputs": [
    {
     "data": {
      "text/html": [
       "<div>\n",
       "<style scoped>\n",
       "    .dataframe tbody tr th:only-of-type {\n",
       "        vertical-align: middle;\n",
       "    }\n",
       "\n",
       "    .dataframe tbody tr th {\n",
       "        vertical-align: top;\n",
       "    }\n",
       "\n",
       "    .dataframe thead th {\n",
       "        text-align: right;\n",
       "    }\n",
       "</style>\n",
       "<table border=\"1\" class=\"dataframe\">\n",
       "  <thead>\n",
       "    <tr style=\"text-align: right;\">\n",
       "      <th></th>\n",
       "      <th>datetime</th>\n",
       "      <th>PRES</th>\n",
       "    </tr>\n",
       "  </thead>\n",
       "  <tbody>\n",
       "    <tr>\n",
       "      <th>0</th>\n",
       "      <td>2010-01-01 00:00:00</td>\n",
       "      <td>1021.0</td>\n",
       "    </tr>\n",
       "    <tr>\n",
       "      <th>1</th>\n",
       "      <td>2010-01-01 01:00:00</td>\n",
       "      <td>1020.0</td>\n",
       "    </tr>\n",
       "    <tr>\n",
       "      <th>2</th>\n",
       "      <td>2010-01-01 02:00:00</td>\n",
       "      <td>1019.0</td>\n",
       "    </tr>\n",
       "    <tr>\n",
       "      <th>3</th>\n",
       "      <td>2010-01-01 03:00:00</td>\n",
       "      <td>1019.0</td>\n",
       "    </tr>\n",
       "    <tr>\n",
       "      <th>4</th>\n",
       "      <td>2010-01-01 04:00:00</td>\n",
       "      <td>1018.0</td>\n",
       "    </tr>\n",
       "  </tbody>\n",
       "</table>\n",
       "</div>"
      ],
      "text/plain": [
       "             datetime    PRES\n",
       "0 2010-01-01 00:00:00  1021.0\n",
       "1 2010-01-01 01:00:00  1020.0\n",
       "2 2010-01-01 02:00:00  1019.0\n",
       "3 2010-01-01 03:00:00  1019.0\n",
       "4 2010-01-01 04:00:00  1018.0"
      ]
     },
     "execution_count": 13,
     "metadata": {},
     "output_type": "execute_result"
    }
   ],
   "source": [
    "df_pressao_atmosferica.head()"
   ]
  },
  {
   "cell_type": "markdown",
   "metadata": {},
   "source": [
    "#### Verificando possíveis outlier com o boxplot"
   ]
  },
  {
   "cell_type": "code",
   "execution_count": 14,
   "metadata": {},
   "outputs": [
    {
     "name": "stderr",
     "output_type": "stream",
     "text": [
      "C:\\Users\\Vithep\\anaconda3\\lib\\site-packages\\seaborn\\_decorators.py:36: FutureWarning: Pass the following variable as a keyword arg: x. From version 0.12, the only valid positional argument will be `data`, and passing other arguments without an explicit keyword will result in an error or misinterpretation.\n",
      "  warnings.warn(\n"
     ]
    },
    {
     "data": {
      "text/plain": [
       "Text(0.5, 1.0, 'Box plot para a Pressão Atmosférica')"
      ]
     },
     "execution_count": 14,
     "metadata": {},
     "output_type": "execute_result"
    },
    {
     "data": {
      "image/png": "[encoded data removed]",
      "text/plain": [
       "<Figure size 504x504 with 1 Axes>"
      ]
     },
     "metadata": {
      "needs_background": "light"
     },
     "output_type": "display_data"
    }
   ],
   "source": [
    "plt.figure(figsize=(7, 7))\n",
    "g = sns.boxplot(df_pressao_atmosferica['PRES'])\n",
    "g.set_title('Box plot para a Pressão Atmosférica')"
   ]
  },
  {
   "cell_type": "markdown",
   "metadata": {},
   "source": [
    "#### Plotando os valores de pressão atmosférica"
   ]
  },
  {
   "cell_type": "code",
   "execution_count": 15,
   "metadata": {},
   "outputs": [
    {
     "data": {
      "text/plain": [
       "Text(0, 0.5, 'Pressão Atmosférica em hPa')"
      ]
     },
     "execution_count": 15,
     "metadata": {},
     "output_type": "execute_result"
    },
    {
     "data": {
      "image/png": "[encoded data removed]",
      "text/plain": [
       "<Figure size 504x504 with 1 Axes>"
      ]
     },
     "metadata": {
      "needs_background": "light"
     },
     "output_type": "display_data"
    }
   ],
   "source": [
    "plt.figure(figsize=(7, 7))\n",
    "g = sns.lineplot(x=df_pressao_atmosferica.index,y=df_pressao_atmosferica['PRES'])\n",
    "g.set_title('Serie temporal para a pressão atmosférica')\n",
    "g.set_xlabel('Indice do dataset')\n",
    "g.set_ylabel('Pressão Atmosférica em hPa')"
   ]
  },
  {
   "cell_type": "markdown",
   "metadata": {},
   "source": [
    "**Preparando os dados para serem utilizados no modelo de previsão via MLP**"
   ]
  },
  {
   "cell_type": "code",
   "execution_count": 16,
   "metadata": {},
   "outputs": [
    {
     "name": "stderr",
     "output_type": "stream",
     "text": [
      "<ipython-input-16-d239dc8d287c>:3: SettingWithCopyWarning: \n",
      "A value is trying to be set on a copy of a slice from a DataFrame.\n",
      "Try using .loc[row_indexer,col_indexer] = value instead\n",
      "\n",
      "See the caveats in the documentation: https://pandas.pydata.org/pandas-docs/stable/user_guide/indexing.html#returning-a-view-versus-a-copy\n",
      "  df_pressao_atmosferica['PRES_normalizado'] = scaler.fit_transform(np.array(df_pressao_atmosferica['PRES']).reshape(-1, 1))\n"
     ]
    }
   ],
   "source": [
    "from sklearn.preprocessing import MinMaxScaler  #aplicando a normalização dos dados\n",
    "scaler = MinMaxScaler(feature_range=(0, 1))  #define o intervalor entre 0 e 1 para os dados serem normalizados\n",
    "df_pressao_atmosferica['PRES_normalizado'] = scaler.fit_transform(np.array(df_pressao_atmosferica['PRES']).reshape(-1, 1))"
   ]
  },
  {
   "cell_type": "code",
   "execution_count": 17,
   "metadata": {},
   "outputs": [
    {
     "data": {
      "text/html": [
       "<div>\n",
       "<style scoped>\n",
       "    .dataframe tbody tr th:only-of-type {\n",
       "        vertical-align: middle;\n",
       "    }\n",
       "\n",
       "    .dataframe tbody tr th {\n",
       "        vertical-align: top;\n",
       "    }\n",
       "\n",
       "    .dataframe thead th {\n",
       "        text-align: right;\n",
       "    }\n",
       "</style>\n",
       "<table border=\"1\" class=\"dataframe\">\n",
       "  <thead>\n",
       "    <tr style=\"text-align: right;\">\n",
       "      <th></th>\n",
       "      <th>datetime</th>\n",
       "      <th>PRES</th>\n",
       "      <th>PRES_normalizado</th>\n",
       "    </tr>\n",
       "  </thead>\n",
       "  <tbody>\n",
       "    <tr>\n",
       "      <th>0</th>\n",
       "      <td>2010-01-01 00:00:00</td>\n",
       "      <td>1021.0</td>\n",
       "      <td>0.545455</td>\n",
       "    </tr>\n",
       "    <tr>\n",
       "      <th>1</th>\n",
       "      <td>2010-01-01 01:00:00</td>\n",
       "      <td>1020.0</td>\n",
       "      <td>0.527273</td>\n",
       "    </tr>\n",
       "    <tr>\n",
       "      <th>2</th>\n",
       "      <td>2010-01-01 02:00:00</td>\n",
       "      <td>1019.0</td>\n",
       "      <td>0.509091</td>\n",
       "    </tr>\n",
       "    <tr>\n",
       "      <th>3</th>\n",
       "      <td>2010-01-01 03:00:00</td>\n",
       "      <td>1019.0</td>\n",
       "      <td>0.509091</td>\n",
       "    </tr>\n",
       "    <tr>\n",
       "      <th>4</th>\n",
       "      <td>2010-01-01 04:00:00</td>\n",
       "      <td>1018.0</td>\n",
       "      <td>0.490909</td>\n",
       "    </tr>\n",
       "  </tbody>\n",
       "</table>\n",
       "</div>"
      ],
      "text/plain": [
       "             datetime    PRES  PRES_normalizado\n",
       "0 2010-01-01 00:00:00  1021.0          0.545455\n",
       "1 2010-01-01 01:00:00  1020.0          0.527273\n",
       "2 2010-01-01 02:00:00  1019.0          0.509091\n",
       "3 2010-01-01 03:00:00  1019.0          0.509091\n",
       "4 2010-01-01 04:00:00  1018.0          0.490909"
      ]
     },
     "execution_count": 17,
     "metadata": {},
     "output_type": "execute_result"
    }
   ],
   "source": [
    "df_pressao_atmosferica.head()"
   ]
  },
  {
   "cell_type": "markdown",
   "metadata": {},
   "source": [
    "#### Dividindo os dados entre treinamento e teste"
   ]
  },
  {
   "cell_type": "code",
   "execution_count": 18,
   "metadata": {},
   "outputs": [
    {
     "name": "stdout",
     "output_type": "stream",
     "text": [
      "Quantidade de dados para treinamento: (35064, 3)\n",
      "Quantidade de dados para teste: (8760, 3)\n"
     ]
    }
   ],
   "source": [
    "data_de_corte = datetime.datetime(year=2014, month=1, day=1, hour=0)  #difine a data de corte para 01/01/2014\n",
    "df_treinamento = df_pressao_atmosferica.loc[df_pressao_atmosferica['datetime']<data_de_corte]\n",
    "df_teste = df_pressao_atmosferica.loc[df_pressao_atmosferica['datetime']>=data_de_corte]\n",
    "print('Quantidade de dados para treinamento:', df_treinamento.shape)\n",
    "print('Quantidade de dados para teste:', df_teste.shape)"
   ]
  },
  {
   "cell_type": "markdown",
   "metadata": {},
   "source": [
    "#### Verificando \"a cara\" dos dados de treinamento "
   ]
  },
  {
   "cell_type": "code",
   "execution_count": 19,
   "metadata": {},
   "outputs": [
    {
     "data": {
      "text/plain": [
       "Text(0, 0.5, 'Leituras normalizadas')"
      ]
     },
     "execution_count": 19,
     "metadata": {},
     "output_type": "execute_result"
    },
    {
     "data": {
      "image/png": "[encoded data removed]",
      "text/plain": [
       "<Figure size 504x504 with 1 Axes>"
      ]
     },
     "metadata": {
      "needs_background": "light"
     },
     "output_type": "display_data"
    }
   ],
   "source": [
    "plt.figure(figsize=(7, 7))\n",
    "g = sns.lineplot(x=df_treinamento.index,y=df_treinamento['PRES_normalizado'], color='b')\n",
    "g.set_title('Série Temporal para a pressão normalizada no treinamento do modelo')\n",
    "g.set_xlabel('Indices')\n",
    "g.set_ylabel('Leituras normalizadas')"
   ]
  },
  {
   "cell_type": "markdown",
   "metadata": {},
   "source": [
    "#### Verificando \"a cara\" dos dados de teste"
   ]
  },
  {
   "cell_type": "code",
   "execution_count": 20,
   "metadata": {},
   "outputs": [
    {
     "data": {
      "text/plain": [
       "Text(0, 0.5, 'Leituras normalizadas')"
      ]
     },
     "execution_count": 20,
     "metadata": {},
     "output_type": "execute_result"
    },
    {
     "data": {
      "image/png": "[encoded data removed]",
      "text/plain": [
       "<Figure size 504x504 with 1 Axes>"
      ]
     },
     "metadata": {
      "needs_background": "light"
     },
     "output_type": "display_data"
    }
   ],
   "source": [
    "plt.figure(figsize=(7, 7))\n",
    "g = sns.lineplot(x=df_teste.index,y=df_teste['PRES_normalizado'], color='r')\n",
    "g.set_title('Série Temporal para a pressão normalizada no teste do modelo')\n",
    "g.set_xlabel('Indices')\n",
    "g.set_ylabel('Leituras normalizadas')"
   ]
  },
  {
   "cell_type": "markdown",
   "metadata": {},
   "source": [
    "#### Definindo o número de valores a serem utilizados para a previsão "
   ]
  },
  {
   "cell_type": "code",
   "execution_count": 21,
   "metadata": {},
   "outputs": [],
   "source": [
    "def formata_entrada_saida(serie_temporal_original, numero_de_passos):\n",
    "    \n",
    "    X = []\n",
    "    y = []\n",
    "    for i in range(numero_de_passos, serie_temporal_original.shape[0]):\n",
    "        X.append(list(serie_temporal_original.loc[i-numero_de_passos:i-1]))\n",
    "        y.append(serie_temporal_original.loc[i])\n",
    "    X, y = np.array(X), np.array(y)\n",
    "    return X, y"
   ]
  },
  {
   "cell_type": "markdown",
   "metadata": {},
   "source": [
    "#### Formata os dados para o treinamento do modelo"
   ]
  },
  {
   "cell_type": "code",
   "execution_count": 22,
   "metadata": {},
   "outputs": [
    {
     "name": "stdout",
     "output_type": "stream",
     "text": [
      "Formato dos dados: (35054, 10) (35054,)\n"
     ]
    }
   ],
   "source": [
    "X_train, y_train = formata_entrada_saida(df_treinamento['PRES_normalizado'], 10)\n",
    "print('Formato dos dados:', X_train.shape, y_train.shape)"
   ]
  },
  {
   "cell_type": "code",
   "execution_count": 23,
   "metadata": {},
   "outputs": [
    {
     "data": {
      "text/plain": [
       "array([[0.52727273, 0.50909091, 0.50909091, 0.49090909, 0.47272727,\n",
       "        0.47272727, 0.47272727, 0.47272727, 0.47272727, 0.47272727],\n",
       "       [0.50909091, 0.50909091, 0.49090909, 0.47272727, 0.47272727,\n",
       "        0.47272727, 0.47272727, 0.47272727, 0.47272727, 0.47272727],\n",
       "       [0.50909091, 0.49090909, 0.47272727, 0.47272727, 0.47272727,\n",
       "        0.47272727, 0.47272727, 0.47272727, 0.47272727, 0.43636364],\n",
       "       [0.49090909, 0.47272727, 0.47272727, 0.47272727, 0.47272727,\n",
       "        0.47272727, 0.47272727, 0.47272727, 0.43636364, 0.43636364],\n",
       "       [0.47272727, 0.47272727, 0.47272727, 0.47272727, 0.47272727,\n",
       "        0.47272727, 0.47272727, 0.43636364, 0.43636364, 0.41818182],\n",
       "       [0.47272727, 0.47272727, 0.47272727, 0.47272727, 0.47272727,\n",
       "        0.47272727, 0.43636364, 0.43636364, 0.41818182, 0.41818182],\n",
       "       [0.47272727, 0.47272727, 0.47272727, 0.47272727, 0.47272727,\n",
       "        0.43636364, 0.43636364, 0.41818182, 0.41818182, 0.43636364],\n",
       "       [0.47272727, 0.47272727, 0.47272727, 0.47272727, 0.43636364,\n",
       "        0.43636364, 0.41818182, 0.41818182, 0.43636364, 0.43636364],\n",
       "       [0.47272727, 0.47272727, 0.47272727, 0.43636364, 0.43636364,\n",
       "        0.41818182, 0.41818182, 0.43636364, 0.43636364, 0.45454545],\n",
       "       [0.47272727, 0.47272727, 0.43636364, 0.43636364, 0.41818182,\n",
       "        0.41818182, 0.43636364, 0.43636364, 0.45454545, 0.47272727],\n",
       "       [0.47272727, 0.43636364, 0.43636364, 0.41818182, 0.41818182,\n",
       "        0.43636364, 0.43636364, 0.45454545, 0.47272727, 0.47272727],\n",
       "       [0.43636364, 0.43636364, 0.41818182, 0.41818182, 0.43636364,\n",
       "        0.43636364, 0.45454545, 0.47272727, 0.47272727, 0.49090909],\n",
       "       [0.43636364, 0.41818182, 0.41818182, 0.43636364, 0.43636364,\n",
       "        0.45454545, 0.47272727, 0.47272727, 0.49090909, 0.49090909],\n",
       "       [0.41818182, 0.41818182, 0.43636364, 0.43636364, 0.45454545,\n",
       "        0.47272727, 0.47272727, 0.49090909, 0.49090909, 0.52727273]])"
      ]
     },
     "execution_count": 23,
     "metadata": {},
     "output_type": "execute_result"
    }
   ],
   "source": [
    "X_train[1:15,:]"
   ]
  },
  {
   "cell_type": "code",
   "execution_count": 24,
   "metadata": {},
   "outputs": [
    {
     "name": "stdout",
     "output_type": "stream",
     "text": [
      "Formato dos dados de normalizacao: (8750, 10) (8750,)\n"
     ]
    }
   ],
   "source": [
    "X_teste, y_teste = formata_entrada_saida(df_teste['PRES_normalizado'].reset_index(drop=True),10)\n",
    "print('Formato dos dados de normalizacao:', X_teste.shape, y_teste.shape)"
   ]
  },
  {
   "cell_type": "code",
   "execution_count": 25,
   "metadata": {},
   "outputs": [
    {
     "data": {
      "text/plain": [
       "array([[0.4       , 0.4       , 0.4       , 0.38181818, 0.38181818,\n",
       "        0.38181818, 0.4       , 0.4       , 0.41818182, 0.43636364],\n",
       "       [0.4       , 0.4       , 0.38181818, 0.38181818, 0.38181818,\n",
       "        0.4       , 0.4       , 0.41818182, 0.43636364, 0.43636364],\n",
       "       [0.4       , 0.38181818, 0.38181818, 0.38181818, 0.4       ,\n",
       "        0.4       , 0.41818182, 0.43636364, 0.43636364, 0.43636364],\n",
       "       [0.38181818, 0.38181818, 0.38181818, 0.4       , 0.4       ,\n",
       "        0.41818182, 0.43636364, 0.43636364, 0.43636364, 0.41818182],\n",
       "       [0.38181818, 0.38181818, 0.4       , 0.4       , 0.41818182,\n",
       "        0.43636364, 0.43636364, 0.43636364, 0.41818182, 0.41818182],\n",
       "       [0.38181818, 0.4       , 0.4       , 0.41818182, 0.43636364,\n",
       "        0.43636364, 0.43636364, 0.41818182, 0.41818182, 0.41818182],\n",
       "       [0.4       , 0.4       , 0.41818182, 0.43636364, 0.43636364,\n",
       "        0.43636364, 0.41818182, 0.41818182, 0.41818182, 0.41818182],\n",
       "       [0.4       , 0.41818182, 0.43636364, 0.43636364, 0.43636364,\n",
       "        0.41818182, 0.41818182, 0.41818182, 0.41818182, 0.43636364],\n",
       "       [0.41818182, 0.43636364, 0.43636364, 0.43636364, 0.41818182,\n",
       "        0.41818182, 0.41818182, 0.41818182, 0.43636364, 0.43636364],\n",
       "       [0.43636364, 0.43636364, 0.43636364, 0.41818182, 0.41818182,\n",
       "        0.41818182, 0.41818182, 0.43636364, 0.43636364, 0.45454545],\n",
       "       [0.43636364, 0.43636364, 0.41818182, 0.41818182, 0.41818182,\n",
       "        0.41818182, 0.43636364, 0.43636364, 0.45454545, 0.47272727],\n",
       "       [0.43636364, 0.41818182, 0.41818182, 0.41818182, 0.41818182,\n",
       "        0.43636364, 0.43636364, 0.45454545, 0.47272727, 0.47272727],\n",
       "       [0.41818182, 0.41818182, 0.41818182, 0.41818182, 0.43636364,\n",
       "        0.43636364, 0.45454545, 0.47272727, 0.47272727, 0.49090909],\n",
       "       [0.41818182, 0.41818182, 0.41818182, 0.43636364, 0.43636364,\n",
       "        0.45454545, 0.47272727, 0.47272727, 0.49090909, 0.50909091]])"
      ]
     },
     "execution_count": 25,
     "metadata": {},
     "output_type": "execute_result"
    }
   ],
   "source": [
    "X_teste[1:15,:]"
   ]
  },
  {
   "cell_type": "markdown",
   "metadata": {},
   "source": [
    "**Inicia o processo de construção da Previsão via MLP**"
   ]
  },
  {
   "cell_type": "markdown",
   "metadata": {},
   "source": [
    "#### Importando as bibliotecas "
   ]
  },
  {
   "cell_type": "code",
   "execution_count": 26,
   "metadata": {},
   "outputs": [],
   "source": [
    "import tensorflow as tf\n",
    "from tensorflow.keras.layers import Dense, Input, Dropout  #define os tipos de camadas a serem utilizadas pelo modelo\n",
    "from tensorflow.keras.optimizers import SGD  #define o modelo de otimização via gradiente descendente"
   ]
  },
  {
   "cell_type": "markdown",
   "metadata": {},
   "source": [
    "#### Define a camada de entrada"
   ]
  },
  {
   "cell_type": "code",
   "execution_count": 27,
   "metadata": {},
   "outputs": [],
   "source": [
    "camada_entrada = Input(shape=(10,), dtype='float32')"
   ]
  },
  {
   "cell_type": "markdown",
   "metadata": {},
   "source": [
    "#### Adiciona as camadas escondidas"
   ]
  },
  {
   "cell_type": "code",
   "execution_count": 28,
   "metadata": {},
   "outputs": [],
   "source": [
    "densa1 = Dense(32, activation='linear')(camada_entrada)\n",
    "densa2 = Dense(16, activation='linear')(densa1)\n",
    "densa3 = Dense(16, activation='linear')(densa2)"
   ]
  },
  {
   "cell_type": "markdown",
   "metadata": {},
   "source": [
    "#### Adiciona a camada de dropout como forma de regularização do modelo (ajuda a evitar overfitting)"
   ]
  },
  {
   "cell_type": "code",
   "execution_count": 29,
   "metadata": {},
   "outputs": [],
   "source": [
    "camada_dropout = Dropout(0.2)(densa3)"
   ]
  },
  {
   "cell_type": "markdown",
   "metadata": {},
   "source": [
    "#### Camada de saída da rede (1 dimensão, pois queremos prever a pressão atmosférica baseada em valores anteriores)"
   ]
  },
  {
   "cell_type": "code",
   "execution_count": 30,
   "metadata": {},
   "outputs": [],
   "source": [
    "camada_de_saida = Dense(1, activation='linear')(camada_dropout)"
   ]
  },
  {
   "cell_type": "markdown",
   "metadata": {},
   "source": [
    "#### Definindo o modelo MLP"
   ]
  },
  {
   "cell_type": "code",
   "execution_count": 31,
   "metadata": {},
   "outputs": [],
   "source": [
    "modelo_MLP = tf.keras.Model(inputs=camada_entrada, outputs=camada_de_saida)"
   ]
  },
  {
   "cell_type": "markdown",
   "metadata": {},
   "source": [
    "#### Mostrando as características do modelo "
   ]
  },
  {
   "cell_type": "code",
   "execution_count": 32,
   "metadata": {},
   "outputs": [
    {
     "name": "stdout",
     "output_type": "stream",
     "text": [
      "Model: \"model\"\n",
      "_________________________________________________________________\n",
      "Layer (type)                 Output Shape              Param #   \n",
      "=================================================================\n",
      "input_1 (InputLayer)         [(None, 10)]              0         \n",
      "_________________________________________________________________\n",
      "dense (Dense)                (None, 32)                352       \n",
      "_________________________________________________________________\n",
      "dense_1 (Dense)              (None, 16)                528       \n",
      "_________________________________________________________________\n",
      "dense_2 (Dense)              (None, 16)                272       \n",
      "_________________________________________________________________\n",
      "dropout (Dropout)            (None, 16)                0         \n",
      "_________________________________________________________________\n",
      "dense_3 (Dense)              (None, 1)                 17        \n",
      "=================================================================\n",
      "Total params: 1,169\n",
      "Trainable params: 1,169\n",
      "Non-trainable params: 0\n",
      "_________________________________________________________________\n"
     ]
    }
   ],
   "source": [
    "modelo_MLP.summary()"
   ]
  },
  {
   "cell_type": "markdown",
   "metadata": {},
   "source": [
    "#### Definindo a função de erro e o otimizador a ser utilizado"
   ]
  },
  {
   "cell_type": "code",
   "execution_count": 33,
   "metadata": {},
   "outputs": [],
   "source": [
    "modelo_MLP.compile(loss='mean_squared_error', optimizer='adam')  #função perda MSE e otimizador de Adam"
   ]
  },
  {
   "cell_type": "markdown",
   "metadata": {},
   "source": [
    "#### Treina o modelo"
   ]
  },
  {
   "cell_type": "code",
   "execution_count": 34,
   "metadata": {},
   "outputs": [
    {
     "name": "stdout",
     "output_type": "stream",
     "text": [
      "Epoch 1/20\n",
      "2191/2191 [==============================] - 4s 1ms/step - loss: 0.0264\n",
      "Epoch 2/20\n",
      "2191/2191 [==============================] - 3s 1ms/step - loss: 0.0019\n",
      "Epoch 3/20\n",
      "2191/2191 [==============================] - 3s 1ms/step - loss: 9.3029e-04\n",
      "Epoch 4/20\n",
      "2191/2191 [==============================] - 3s 1ms/step - loss: 8.6268e-04\n",
      "Epoch 5/20\n",
      "2191/2191 [==============================] - 3s 1ms/step - loss: 8.4127e-04\n",
      "Epoch 6/20\n",
      "2191/2191 [==============================] - 3s 1ms/step - loss: 7.9504e-04\n",
      "Epoch 7/20\n",
      "2191/2191 [==============================] - 3s 1ms/step - loss: 7.9002e-04\n",
      "Epoch 8/20\n",
      "2191/2191 [==============================] - 3s 1ms/step - loss: 7.8261e-04\n",
      "Epoch 9/20\n",
      "2191/2191 [==============================] - 3s 1ms/step - loss: 7.9185e-04\n",
      "Epoch 10/20\n",
      "2191/2191 [==============================] - 3s 1ms/step - loss: 7.9024e-04\n",
      "Epoch 11/20\n",
      "2191/2191 [==============================] - 3s 1ms/step - loss: 7.8194e-04\n",
      "Epoch 12/20\n",
      "2191/2191 [==============================] - 3s 1ms/step - loss: 7.8057e-04\n",
      "Epoch 13/20\n",
      "2191/2191 [==============================] - 3s 1ms/step - loss: 7.6805e-04\n",
      "Epoch 14/20\n",
      "2191/2191 [==============================] - 3s 1ms/step - loss: 7.4870e-04\n",
      "Epoch 15/20\n",
      "2191/2191 [==============================] - 3s 1ms/step - loss: 7.6252e-04\n",
      "Epoch 16/20\n",
      "2191/2191 [==============================] - 2s 1ms/step - loss: 7.3687e-04\n",
      "Epoch 17/20\n",
      "2191/2191 [==============================] - 3s 1ms/step - loss: 7.1292e-04\n",
      "Epoch 18/20\n",
      "2191/2191 [==============================] - 3s 1ms/step - loss: 7.2565e-04\n",
      "Epoch 19/20\n",
      "2191/2191 [==============================] - 3s 1ms/step - loss: 7.6203e-04\n",
      "Epoch 20/20\n",
      "2191/2191 [==============================] - 4s 2ms/step - loss: 7.3955e-04\n"
     ]
    },
    {
     "data": {
      "text/plain": [
       "<tensorflow.python.keras.callbacks.History at 0x180bbd1daf0>"
      ]
     },
     "execution_count": 34,
     "metadata": {},
     "output_type": "execute_result"
    }
   ],
   "source": [
    "modelo_MLP.fit(x=X_train, y=y_train, batch_size=16, epochs=20,verbose=1, shuffle=True)"
   ]
  },
  {
   "cell_type": "markdown",
   "metadata": {},
   "source": [
    "#### Realiza a previsão com o modelo MLP"
   ]
  },
  {
   "cell_type": "code",
   "execution_count": 35,
   "metadata": {},
   "outputs": [
    {
     "data": {
      "text/plain": [
       "(8750, 1)"
      ]
     },
     "execution_count": 35,
     "metadata": {},
     "output_type": "execute_result"
    }
   ],
   "source": [
    "previsao = modelo_MLP.predict(X_teste)\n",
    "previsao_PRES = scaler.inverse_transform(previsao)  #aplica o inverso da transformação\n",
    "previsao_PRES.shape"
   ]
  },
  {
   "cell_type": "code",
   "execution_count": 36,
   "metadata": {},
   "outputs": [
    {
     "data": {
      "text/plain": [
       "(8750,)"
      ]
     },
     "execution_count": 36,
     "metadata": {},
     "output_type": "execute_result"
    }
   ],
   "source": [
    "previsao_PRES = np.squeeze(previsao_PRES)  #remove entradas de uma dimensão\n",
    "previsao_PRES.shape"
   ]
  },
  {
   "cell_type": "code",
   "execution_count": 37,
   "metadata": {},
   "outputs": [],
   "source": [
    "from sklearn.metrics import r2_score  #importa o coeficiente de determinação"
   ]
  },
  {
   "cell_type": "code",
   "execution_count": 38,
   "metadata": {},
   "outputs": [
    {
     "name": "stdout",
     "output_type": "stream",
     "text": [
      "Coeficiente de Determinação Para o Teste (MLP): 0.9893\n"
     ]
    }
   ],
   "source": [
    "r2 = r2_score(df_teste['PRES'].iloc[10:], previsao_PRES)\n",
    "print('Coeficiente de Determinação Para o Teste (MLP):', round(r2,4))"
   ]
  },
  {
   "cell_type": "markdown",
   "metadata": {},
   "source": [
    "#### Plotando os valores reais x previstos"
   ]
  },
  {
   "cell_type": "code",
   "execution_count": 39,
   "metadata": {},
   "outputs": [
    {
     "data": {
      "text/plain": [
       "Text(0.5, 0, 'Indice')"
      ]
     },
     "execution_count": 39,
     "metadata": {},
     "output_type": "execute_result"
    },
    {
     "data": {
      "image/png": "[encoded data removed]",
      "text/plain": [
       "<Figure size 504x504 with 1 Axes>"
      ]
     },
     "metadata": {
      "needs_background": "light"
     },
     "output_type": "display_data"
    }
   ],
   "source": [
    "plt.figure(figsize=(7,7))\n",
    "plt.plot(range(50), df_teste['PRES'].iloc[10:60], linestyle='-', marker='*', color='r')\n",
    "plt.plot(range(50), previsao_PRES[:50], linestyle='-', marker='.', color='b')\n",
    "plt.legend(['Real','Previsto'], loc=2)\n",
    "plt.title('Valor de Pressão Atmosferica Medido vs Valor de Pressão Atmosférica Previsto (MLP)')\n",
    "plt.ylabel('Pressão Atmosférica')\n",
    "plt.xlabel('Indice')"
   ]
  },
  {
   "cell_type": "markdown",
   "metadata": {},
   "source": [
    "**Inciando o processo de previsão via CNN**"
   ]
  },
  {
   "cell_type": "code",
   "execution_count": 40,
   "metadata": {},
   "outputs": [],
   "source": [
    "from tensorflow.keras.layers import Flatten  #camada flatten para transformar os dados em uma dimensão \n",
    "from tensorflow.keras.layers import ZeroPadding1D  #completa os dados após a convolução\n",
    "from tensorflow.keras.layers import Conv1D  #camada de convolução\n",
    "from tensorflow.keras.layers import AveragePooling1D  #camada de redução (média dos dados encontrados)"
   ]
  },
  {
   "cell_type": "markdown",
   "metadata": {},
   "source": [
    "#### Define a camada de entrada "
   ]
  },
  {
   "cell_type": "code",
   "execution_count": 41,
   "metadata": {},
   "outputs": [],
   "source": [
    "camada_entrada = Input(shape=(10,1), dtype='float32')"
   ]
  },
  {
   "cell_type": "markdown",
   "metadata": {},
   "source": [
    "#### Adiciona a camada de padding"
   ]
  },
  {
   "cell_type": "code",
   "execution_count": 42,
   "metadata": {},
   "outputs": [],
   "source": [
    "camada_padding = ZeroPadding1D(padding=1)(camada_entrada)  #matém a quantidade de dados"
   ]
  },
  {
   "cell_type": "markdown",
   "metadata": {},
   "source": [
    "#### Adiciona a camada de convolução"
   ]
  },
  {
   "cell_type": "code",
   "execution_count": 43,
   "metadata": {},
   "outputs": [],
   "source": [
    "camada_convolucao_1D = Conv1D(64, 3, strides=1, use_bias=True)(camada_padding) #adiciona 64 filtros com uma janela de convolução=3"
   ]
  },
  {
   "cell_type": "markdown",
   "metadata": {},
   "source": [
    "#### Camada de pooling"
   ]
  },
  {
   "cell_type": "code",
   "execution_count": 44,
   "metadata": {},
   "outputs": [],
   "source": [
    "camada_pooling = AveragePooling1D(pool_size=3, strides=1)(camada_convolucao_1D)  #reduz através do valor médio encontrado para a convolução (pode ser também o valor máximo)"
   ]
  },
  {
   "cell_type": "markdown",
   "metadata": {},
   "source": [
    "#### Camada flatten"
   ]
  },
  {
   "cell_type": "code",
   "execution_count": 45,
   "metadata": {},
   "outputs": [],
   "source": [
    "camada_flatten = Flatten()(camada_pooling) #utilizada para realizar o \"reshape\" dos dados para um vetor "
   ]
  },
  {
   "cell_type": "markdown",
   "metadata": {},
   "source": [
    "#### Adicionando a camada de dropout"
   ]
  },
  {
   "cell_type": "code",
   "execution_count": 46,
   "metadata": {},
   "outputs": [],
   "source": [
    "camada_dropout_cnn = Dropout(0.2)(camada_flatten)"
   ]
  },
  {
   "cell_type": "markdown",
   "metadata": {},
   "source": [
    "#### Camada de saída"
   ]
  },
  {
   "cell_type": "code",
   "execution_count": 47,
   "metadata": {},
   "outputs": [],
   "source": [
    "camada_saida = Dense(1, activation='linear')(camada_dropout_cnn)"
   ]
  },
  {
   "cell_type": "markdown",
   "metadata": {},
   "source": [
    "#### Contruindo o modelo"
   ]
  },
  {
   "cell_type": "code",
   "execution_count": 48,
   "metadata": {},
   "outputs": [],
   "source": [
    "modelo_CNN = tf.keras.Model(inputs=camada_entrada, outputs=camada_saida)"
   ]
  },
  {
   "cell_type": "markdown",
   "metadata": {},
   "source": [
    "#### Mostrando o modelo"
   ]
  },
  {
   "cell_type": "code",
   "execution_count": 49,
   "metadata": {},
   "outputs": [
    {
     "name": "stdout",
     "output_type": "stream",
     "text": [
      "Model: \"model_1\"\n",
      "_________________________________________________________________\n",
      "Layer (type)                 Output Shape              Param #   \n",
      "=================================================================\n",
      "input_2 (InputLayer)         [(None, 10, 1)]           0         \n",
      "_________________________________________________________________\n",
      "zero_padding1d (ZeroPadding1 (None, 12, 1)             0         \n",
      "_________________________________________________________________\n",
      "conv1d (Conv1D)              (None, 10, 64)            256       \n",
      "_________________________________________________________________\n",
      "average_pooling1d (AveragePo (None, 8, 64)             0         \n",
      "_________________________________________________________________\n",
      "flatten (Flatten)            (None, 512)               0         \n",
      "_________________________________________________________________\n",
      "dropout_1 (Dropout)          (None, 512)               0         \n",
      "_________________________________________________________________\n",
      "dense_4 (Dense)              (None, 1)                 513       \n",
      "=================================================================\n",
      "Total params: 769\n",
      "Trainable params: 769\n",
      "Non-trainable params: 0\n",
      "_________________________________________________________________\n"
     ]
    }
   ],
   "source": [
    "modelo_CNN.summary()"
   ]
  },
  {
   "cell_type": "markdown",
   "metadata": {},
   "source": [
    "#### Adionando a função perda e o otimizados"
   ]
  },
  {
   "cell_type": "code",
   "execution_count": 50,
   "metadata": {},
   "outputs": [],
   "source": [
    "modelo_CNN.compile(loss='mean_absolute_error', optimizer='adam')"
   ]
  },
  {
   "cell_type": "markdown",
   "metadata": {},
   "source": [
    "#### Transforma os dados de treinamento e teste para o 3D, pois a rede CNN exige essa transformação"
   ]
  },
  {
   "cell_type": "code",
   "execution_count": 51,
   "metadata": {},
   "outputs": [
    {
     "name": "stdout",
     "output_type": "stream",
     "text": [
      "Formatos para o treinamento e teste: (35054, 10, 1) (8750, 10, 1)\n"
     ]
    }
   ],
   "source": [
    "X_train, X_teste = X_train.reshape((X_train.shape[0], X_train.shape[1], 1)),X_teste.reshape((X_teste.shape[0], X_teste.shape[1], 1))\n",
    "print('Formatos para o treinamento e teste:', X_train.shape, X_teste.shape)"
   ]
  },
  {
   "cell_type": "markdown",
   "metadata": {},
   "source": [
    "#### Realizando o treinamento do modelo"
   ]
  },
  {
   "cell_type": "code",
   "execution_count": 52,
   "metadata": {},
   "outputs": [
    {
     "name": "stdout",
     "output_type": "stream",
     "text": [
      "Epoch 1/20\n",
      "2191/2191 [==============================] - 6s 2ms/step - loss: 0.0421\n",
      "Epoch 2/20\n",
      "2191/2191 [==============================] - 5s 2ms/step - loss: 0.0188\n",
      "Epoch 3/20\n",
      "2191/2191 [==============================] - 5s 2ms/step - loss: 0.0157\n",
      "Epoch 4/20\n",
      "2191/2191 [==============================] - 4s 2ms/step - loss: 0.0151\n",
      "Epoch 5/20\n",
      "2191/2191 [==============================] - 4s 2ms/step - loss: 0.0141\n",
      "Epoch 6/20\n",
      "2191/2191 [==============================] - 5s 2ms/step - loss: 0.0138\n",
      "Epoch 7/20\n",
      "2191/2191 [==============================] - 5s 2ms/step - loss: 0.0136\n",
      "Epoch 8/20\n",
      "2191/2191 [==============================] - 4s 2ms/step - loss: 0.0135\n",
      "Epoch 9/20\n",
      "2191/2191 [==============================] - 4s 2ms/step - loss: 0.0137\n",
      "Epoch 10/20\n",
      "2191/2191 [==============================] - 4s 2ms/step - loss: 0.0135\n",
      "Epoch 11/20\n",
      "2191/2191 [==============================] - 4s 2ms/step - loss: 0.0134\n",
      "Epoch 12/20\n",
      "2191/2191 [==============================] - 4s 2ms/step - loss: 0.0132\n",
      "Epoch 13/20\n",
      "2191/2191 [==============================] - 4s 2ms/step - loss: 0.0133\n",
      "Epoch 14/20\n",
      "2191/2191 [==============================] - 4s 2ms/step - loss: 0.0132\n",
      "Epoch 15/20\n",
      "2191/2191 [==============================] - 5s 2ms/step - loss: 0.0133\n",
      "Epoch 16/20\n",
      "2191/2191 [==============================] - 5s 2ms/step - loss: 0.0129\n",
      "Epoch 17/20\n",
      "2191/2191 [==============================] - 5s 2ms/step - loss: 0.0131\n",
      "Epoch 18/20\n",
      "2191/2191 [==============================] - 4s 2ms/step - loss: 0.0132\n",
      "Epoch 19/20\n",
      "2191/2191 [==============================] - 4s 2ms/step - loss: 0.0132\n",
      "Epoch 20/20\n",
      "2191/2191 [==============================] - 4s 2ms/step - loss: 0.0130\n"
     ]
    },
    {
     "data": {
      "text/plain": [
       "<tensorflow.python.keras.callbacks.History at 0x180bd4095e0>"
      ]
     },
     "execution_count": 52,
     "metadata": {},
     "output_type": "execute_result"
    }
   ],
   "source": [
    "modelo_CNN.fit(x=X_train, y=y_train, batch_size=16, epochs=20,verbose=1,shuffle=True)"
   ]
  },
  {
   "cell_type": "markdown",
   "metadata": {},
   "source": [
    "#### Previsão CNN"
   ]
  },
  {
   "cell_type": "code",
   "execution_count": 53,
   "metadata": {},
   "outputs": [],
   "source": [
    "previsao_cnn = modelo_CNN.predict(X_teste)\n",
    "PRES_cnn = np.squeeze(scaler.inverse_transform(previsao_cnn))"
   ]
  },
  {
   "cell_type": "code",
   "execution_count": 54,
   "metadata": {},
   "outputs": [
    {
     "name": "stdout",
     "output_type": "stream",
     "text": [
      "Coeficiente de Determinação Para o Teste (CNN): 0.9893\n"
     ]
    }
   ],
   "source": [
    "r2_cnn = r2_score(df_teste['PRES'].iloc[10:], PRES_cnn)\n",
    "print('Coeficiente de Determinação Para o Teste (CNN):', round(r2, 4))"
   ]
  },
  {
   "cell_type": "markdown",
   "metadata": {},
   "source": [
    "#### Plotando os valores reais x previstos"
   ]
  },
  {
   "cell_type": "code",
   "execution_count": 55,
   "metadata": {},
   "outputs": [
    {
     "data": {
      "text/plain": [
       "Text(0.5, 0, 'Indice')"
      ]
     },
     "execution_count": 55,
     "metadata": {},
     "output_type": "execute_result"
    },
    {
     "data": {
      "image/png": "[encoded data removed]",
      "text/plain": [
       "<Figure size 504x504 with 1 Axes>"
      ]
     },
     "metadata": {
      "needs_background": "light"
     },
     "output_type": "display_data"
    }
   ],
   "source": [
    "plt.figure(figsize=(7,7))\n",
    "plt.plot(range(50), df_teste['PRES'].iloc[10:60], linestyle='-', marker='*', color='r')\n",
    "plt.plot(range(50), PRES_cnn[:50], linestyle='-', marker='.', color='b')\n",
    "plt.legend(['Real','Previsto'], loc=2)\n",
    "plt.title('Valor de Pressão Atmosferica Medido vs Valor de Pressão Atmosférica Previsto (CNN)')\n",
    "plt.ylabel('Pressão Atmosférica')\n",
    "plt.xlabel('Indice')"
   ]
  },
  {
   "cell_type": "code",
   "execution_count": null,
   "metadata": {},
   "outputs": [],
   "source": []
  }
 ],
 "metadata": {
  "kernelspec": {
   "display_name": "Python 3",
   "language": "python",
   "name": "python3"
  },
  "language_info": {
   "codemirror_mode": {
    "name": "ipython",
    "version": 3
   },
   "file_extension": ".py",
   "mimetype": "text/x-python",
   "name": "python",
   "nbconvert_exporter": "python",
   "pygments_lexer": "ipython3",
   "version": "3.8.5"
  }
 },
 "nbformat": 4,
 "nbformat_minor": 4
}
