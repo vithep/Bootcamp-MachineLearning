{
 "cells": [
  {
   "cell_type": "markdown",
   "metadata": {},
   "source": [
    "# 5. Algoritmo Mineração"
   ]
  },
  {
   "cell_type": "markdown",
   "metadata": {},
   "source": [
    "**Exemplo do algoritmo  não supervisionado k-means**"
   ]
  },
  {
   "cell_type": "markdown",
   "metadata": {},
   "source": [
    "#### Importação das Bibliotecas"
   ]
  },
  {
   "cell_type": "code",
   "execution_count": 1,
   "metadata": {},
   "outputs": [],
   "source": [
    "from pandas import DataFrame\n",
    "import matplotlib.pyplot as plt"
   ]
  },
  {
   "cell_type": "code",
   "execution_count": 2,
   "metadata": {},
   "outputs": [],
   "source": [
    "dados = {'x': [25,34,22,27,33,33,31,22,35,34,67,54,57,43,50,57,59,52,65,47,49,48,35,33,44,45,38,43,51,46],\n",
    "        'y': [79,51,53,78,59,74,73,57,69,75,51,32,40,47,53,36,35,58,59,50,25,20,14,12,20,5,29,27,8,7]\n",
    "       }"
   ]
  },
  {
   "cell_type": "code",
   "execution_count": 3,
   "metadata": {},
   "outputs": [
    {
     "name": "stdout",
     "output_type": "stream",
     "text": [
      "    x   y\n",
      "0  25  79\n",
      "1  34  51\n",
      "2  22  53\n",
      "3  27  78\n",
      "4  33  59\n"
     ]
    }
   ],
   "source": [
    "df = DataFrame(dados,columns=['x','y'])\n",
    "print (df.head())"
   ]
  },
  {
   "cell_type": "code",
   "execution_count": 4,
   "metadata": {},
   "outputs": [],
   "source": [
    "from sklearn.cluster import KMeans"
   ]
  },
  {
   "cell_type": "code",
   "execution_count": 5,
   "metadata": {},
   "outputs": [
    {
     "name": "stdout",
     "output_type": "stream",
     "text": [
      "[[38.75       61.625     ]\n",
      " [47.07142857 22.14285714]]\n"
     ]
    }
   ],
   "source": [
    "kmeans = KMeans(n_clusters=2)    # cria o objeto de para o algoritmo k-means para encontrar 2 clusters\n",
    "kmeans.fit(df)  #aplica o algoritmo\n",
    "centroides = kmeans.cluster_centers_   #encontra as coordenadas dos centroids\n",
    "print(centroides)"
   ]
  },
  {
   "cell_type": "markdown",
   "metadata": {},
   "source": [
    "#### Realizar o plot do gráfico da saída"
   ]
  },
  {
   "cell_type": "code",
   "execution_count": 6,
   "metadata": {},
   "outputs": [
    {
     "data": {
      "text/plain": [
       "Text(0, 0.5, 'Y')"
      ]
     },
     "execution_count": 6,
     "metadata": {},
     "output_type": "execute_result"
    },
    {
     "data": {
      "image/png": "[encoded data removed]",
      "text/plain": [
       "<Figure size 432x288 with 1 Axes>"
      ]
     },
     "metadata": {
      "needs_background": "light"
     },
     "output_type": "display_data"
    }
   ],
   "source": [
    "plt.scatter(df['x'], df['y'], c= kmeans.labels_.astype(float), s=50, alpha=0.5)\n",
    "plt.scatter(centroides[:, 0], centroides[:, 1], c='red', s=50)\n",
    "plt.xlabel(\"X\")\n",
    "plt.ylabel(\"Y\")"
   ]
  },
  {
   "cell_type": "markdown",
   "metadata": {},
   "source": [
    "**Exemplo do algoritmo Supervisionado  - KNN**"
   ]
  },
  {
   "cell_type": "markdown",
   "metadata": {},
   "source": [
    "#### Importação das Bibliotecas"
   ]
  },
  {
   "cell_type": "code",
   "execution_count": 8,
   "metadata": {},
   "outputs": [],
   "source": [
    "import pylab as pl # utilizado para plotar os gráficos\n",
    "from sklearn import neighbors, datasets\n",
    "import pandas as pd\n",
    "import numpy as np"
   ]
  },
  {
   "cell_type": "code",
   "execution_count": 9,
   "metadata": {},
   "outputs": [],
   "source": [
    "iris = datasets.load_iris()"
   ]
  },
  {
   "cell_type": "code",
   "execution_count": 10,
   "metadata": {},
   "outputs": [],
   "source": [
    "df_iris = pd.DataFrame(data= np.c_[iris['data'], iris['target']],\n",
    "                     columns= iris['feature_names'] + ['target'])"
   ]
  },
  {
   "cell_type": "code",
   "execution_count": 11,
   "metadata": {},
   "outputs": [
    {
     "name": "stdout",
     "output_type": "stream",
     "text": [
      "   sepal length (cm)  sepal width (cm)  petal length (cm)  petal width (cm)  \\\n",
      "0                5.1               3.5                1.4               0.2   \n",
      "1                4.9               3.0                1.4               0.2   \n",
      "2                4.7               3.2                1.3               0.2   \n",
      "3                4.6               3.1                1.5               0.2   \n",
      "4                5.0               3.6                1.4               0.2   \n",
      "\n",
      "   target  \n",
      "0     0.0  \n",
      "1     0.0  \n",
      "2     0.0  \n",
      "3     0.0  \n",
      "4     0.0  \n"
     ]
    }
   ],
   "source": [
    "print(df_iris.head())"
   ]
  },
  {
   "cell_type": "code",
   "execution_count": 12,
   "metadata": {},
   "outputs": [],
   "source": [
    "X = df_iris.iloc[:, :-1].values  #dados de entrada\n",
    "y = df_iris.iloc[:, 4].values  # saídas ou target"
   ]
  },
  {
   "cell_type": "code",
   "execution_count": 13,
   "metadata": {},
   "outputs": [],
   "source": [
    "from sklearn.model_selection import train_test_split   # função que realiza a divisão do dataset\n",
    "X_train, X_test, y_train, y_test = train_test_split(X, y, test_size=0.20)# divide 20% para teste"
   ]
  },
  {
   "cell_type": "code",
   "execution_count": 14,
   "metadata": {},
   "outputs": [],
   "source": [
    "from sklearn.preprocessing import StandardScaler\n",
    "scaler = StandardScaler()  #objeto que normaliza os dados\n",
    "scaler.fit(X_train)  #realiza a normalização dos dados\n",
    "\n",
    "X_train = scaler.transform(X_train)\n",
    "X_test = scaler.transform(X_test)"
   ]
  },
  {
   "cell_type": "code",
   "execution_count": 15,
   "metadata": {},
   "outputs": [
    {
     "data": {
      "text/plain": [
       "KNeighborsClassifier()"
      ]
     },
     "execution_count": 15,
     "metadata": {},
     "output_type": "execute_result"
    }
   ],
   "source": [
    "from sklearn.neighbors import KNeighborsClassifier\n",
    "classifier = KNeighborsClassifier(n_neighbors=5) #utiliza a construção por meio de 5 vizinhos\n",
    "classifier.fit(X_train, y_train) # aplica a classificação"
   ]
  },
  {
   "cell_type": "markdown",
   "metadata": {},
   "source": [
    "#### Realiza a previsão"
   ]
  },
  {
   "cell_type": "code",
   "execution_count": 16,
   "metadata": {},
   "outputs": [],
   "source": [
    "y_pred = classifier.predict(X_test)"
   ]
  },
  {
   "cell_type": "code",
   "execution_count": 17,
   "metadata": {},
   "outputs": [
    {
     "name": "stdout",
     "output_type": "stream",
     "text": [
      "[[ 8  0  0]\n",
      " [ 0  7  0]\n",
      " [ 0  2 13]]\n",
      "              precision    recall  f1-score   support\n",
      "\n",
      "         0.0       1.00      1.00      1.00         8\n",
      "         1.0       0.78      1.00      0.88         7\n",
      "         2.0       1.00      0.87      0.93        15\n",
      "\n",
      "    accuracy                           0.93        30\n",
      "   macro avg       0.93      0.96      0.93        30\n",
      "weighted avg       0.95      0.93      0.94        30\n",
      "\n"
     ]
    }
   ],
   "source": [
    "from sklearn.metrics import classification_report, confusion_matrix\n",
    "print(confusion_matrix(y_test, y_pred))\n",
    "print(classification_report(y_test, y_pred))"
   ]
  },
  {
   "cell_type": "code",
   "execution_count": 20,
   "metadata": {},
   "outputs": [
    {
     "name": "stdout",
     "output_type": "stream",
     "text": [
      "Collecting package metadata (current_repodata.json): ...working... done\n",
      "Solving environment: ...working... done\n",
      "\n",
      "## Package Plan ##\n",
      "\n",
      "Note: you may need to restart the kernel to use updated packages.\n"
     ]
    },
    {
     "name": "stderr",
     "output_type": "stream",
     "text": [
      "\n",
      "\n",
      "==> WARNING: A newer version of conda exists. <==\n",
      "  current version: 4.10.0\n",
      "  latest version: 4.10.1\n",
      "\n",
      "Please update conda by running\n",
      "\n",
      "    $ conda update -n base -c defaults conda\n",
      "\n",
      "\n"
     ]
    },
    {
     "name": "stdout",
     "output_type": "stream",
     "text": [
      "\n",
      "  environment location: C:\\Users\\Vithep\\anaconda3\n",
      "\n",
      "  added / updated specs:\n",
      "    - mlxtend\n",
      "\n",
      "\n",
      "The following packages will be downloaded:\n",
      "\n",
      "    package                    |            build\n",
      "    ---------------------------|-----------------\n",
      "    conda-4.10.1               |   py38haa244fe_0         3.1 MB  conda-forge\n",
      "    ------------------------------------------------------------\n",
      "                                           Total:         3.1 MB\n",
      "\n",
      "The following NEW packages will be INSTALLED:\n",
      "\n",
      "  mlxtend            conda-forge/noarch::mlxtend-0.18.0-pyhd3deb0d_0\n",
      "  python_abi         conda-forge/win-64::python_abi-3.8-1_cp38\n",
      "\n",
      "The following packages will be UPDATED:\n",
      "\n",
      "  conda              pkgs/main::conda-4.10.0-py38haa95532_0 --> conda-forge::conda-4.10.1-py38haa244fe_0\n",
      "\n",
      "\n",
      "\n",
      "Downloading and Extracting Packages\n",
      "\n",
      "conda-4.10.1         | 3.1 MB    |            |   0% \n",
      "conda-4.10.1         | 3.1 MB    |            |   1% \n",
      "conda-4.10.1         | 3.1 MB    | #1         |  11% \n",
      "conda-4.10.1         | 3.1 MB    | ##6        |  27% \n",
      "conda-4.10.1         | 3.1 MB    | ####1      |  42% \n",
      "conda-4.10.1         | 3.1 MB    | ######1    |  61% \n",
      "conda-4.10.1         | 3.1 MB    | #######7   |  78% \n",
      "conda-4.10.1         | 3.1 MB    | #########7 |  98% \n",
      "conda-4.10.1         | 3.1 MB    | ########## | 100% \n",
      "Preparing transaction: ...working... done\n",
      "Verifying transaction: ...working... done\n",
      "Executing transaction: ...working... done\n"
     ]
    }
   ],
   "source": [
    "conda install -c conda-forge mlxtend"
   ]
  },
  {
   "cell_type": "code",
   "execution_count": 25,
   "metadata": {},
   "outputs": [
    {
     "data": {
      "image/png": "[encoded data removed]",
      "text/plain": [
       "<Figure size 432x288 with 1 Axes>"
      ]
     },
     "metadata": {
      "needs_background": "light"
     },
     "output_type": "display_data"
    }
   ],
   "source": [
    "matriz_confusao = confusion_matrix(y_test, y_pred)\n",
    "from mlxtend.plotting import plot_confusion_matrix\n",
    "\n",
    "fig, ax = plot_confusion_matrix(conf_mat=matriz_confusao)\n",
    "plt.show()"
   ]
  },
  {
   "cell_type": "markdown",
   "metadata": {},
   "source": [
    "**Exemplo do algoritmo Supervisionado  - Árvore de Decisão**"
   ]
  },
  {
   "cell_type": "code",
   "execution_count": 21,
   "metadata": {},
   "outputs": [],
   "source": [
    "from sklearn.tree import DecisionTreeClassifier # importa o classificador árvore de decisão\n",
    "from sklearn import metrics #importa as métricas para avaliação"
   ]
  },
  {
   "cell_type": "code",
   "execution_count": 22,
   "metadata": {},
   "outputs": [],
   "source": [
    "# Cria o objeto de classificação através do \n",
    "clf = DecisionTreeClassifier()\n",
    "\n",
    "# Realiza o treinamento do classificador\n",
    "clf = clf.fit(X_train,y_train)\n",
    "\n",
    "#Realiza a previsão de classificaçao \n",
    "y_pred = clf.predict(X_test)"
   ]
  },
  {
   "cell_type": "markdown",
   "metadata": {},
   "source": [
    "#### Realiza o plot da matriz de confusão"
   ]
  },
  {
   "cell_type": "code",
   "execution_count": 23,
   "metadata": {},
   "outputs": [
    {
     "data": {
      "image/png": "[encoded data removed]",
      "text/plain": [
       "<Figure size 432x288 with 1 Axes>"
      ]
     },
     "metadata": {
      "needs_background": "light"
     },
     "output_type": "display_data"
    }
   ],
   "source": [
    "matriz_confusao = confusion_matrix(y_test, y_pred)\n",
    "from mlxtend.plotting import plot_confusion_matrix\n",
    "\n",
    "fig, ax = plot_confusion_matrix(conf_mat=matriz_confusao)\n",
    "plt.show()"
   ]
  },
  {
   "cell_type": "code",
   "execution_count": 26,
   "metadata": {
    "collapsed": true,
    "jupyter": {
     "outputs_hidden": true
    }
   },
   "outputs": [
    {
     "name": "stdout",
     "output_type": "stream",
     "text": [
      "Collecting scikit-learn==0.20.3\n",
      "  Downloading scikit-learn-0.20.3.tar.gz (11.8 MB)\n",
      "Requirement already satisfied, skipping upgrade: numpy>=1.8.2 in c:\\users\\vithep\\anaconda3\\lib\\site-packages (from scikit-learn==0.20.3) (1.19.2)\n",
      "Requirement already satisfied, skipping upgrade: scipy>=0.13.3 in c:\\users\\vithep\\anaconda3\\lib\\site-packages (from scikit-learn==0.20.3) (1.5.2)\n",
      "Building wheels for collected packages: scikit-learn\n",
      "  Building wheel for scikit-learn (setup.py): started\n",
      "  Building wheel for scikit-learn (setup.py): finished with status 'error'\n",
      "  Running setup.py clean for scikit-learn\n",
      "Failed to build scikit-learn\n",
      "Installing collected packages: scikit-learn\n",
      "  Attempting uninstall: scikit-learn\n",
      "    Found existing installation: scikit-learn 0.23.2\n",
      "    Uninstalling scikit-learn-0.23.2:\n",
      "      Successfully uninstalled scikit-learn-0.23.2\n",
      "    Running setup.py install for scikit-learn: started\n",
      "    Running setup.py install for scikit-learn: finished with status 'error'\n",
      "  Rolling back uninstall of scikit-learn\n",
      "  Moving to c:\\users\\vithep\\anaconda3\\lib\\site-packages\\scikit_learn-0.23.2.dist-info\\\n",
      "   from C:\\Users\\Vithep\\anaconda3\\Lib\\site-packages\\~cikit_learn-0.23.2.dist-info\n",
      "  Moving to c:\\users\\vithep\\anaconda3\\lib\\site-packages\\sklearn\\\n",
      "   from C:\\Users\\Vithep\\anaconda3\\Lib\\site-packages\\~klearn\n"
     ]
    },
    {
     "name": "stderr",
     "output_type": "stream",
     "text": [
      "  ERROR: Command errored out with exit status 1:\n",
      "   command: 'C:\\Users\\Vithep\\anaconda3\\python.exe' -u -c 'import sys, setuptools, tokenize; sys.argv[0] = '\"'\"'C:\\\\Users\\\\Vithep\\\\AppData\\\\Local\\\\Temp\\\\pip-install-6f6fiwqw\\\\scikit-learn\\\\setup.py'\"'\"'; __file__='\"'\"'C:\\\\Users\\\\Vithep\\\\AppData\\\\Local\\\\Temp\\\\pip-install-6f6fiwqw\\\\scikit-learn\\\\setup.py'\"'\"';f=getattr(tokenize, '\"'\"'open'\"'\"', open)(__file__);code=f.read().replace('\"'\"'\\r\\n'\"'\"', '\"'\"'\\n'\"'\"');f.close();exec(compile(code, __file__, '\"'\"'exec'\"'\"'))' bdist_wheel -d 'C:\\Users\\Vithep\\AppData\\Local\\Temp\\pip-wheel-jujh8kyv'\n",
      "       cwd: C:\\Users\\Vithep\\AppData\\Local\\Temp\\pip-install-6f6fiwqw\\scikit-learn\\\n",
      "  Complete output (678 lines):\n",
      "  Partial import of sklearn during the build process.\n",
      "  blas_opt_info:\n",
      "  blas_mkl_info:\n",
      "  No module named 'numpy.distutils._msvccompiler' in numpy.distutils; trying from distutils\n",
      "  customize MSVCCompiler\n",
      "    libraries mkl_rt not found in ['C:/Users/Vithep/anaconda3\\\\Library\\\\lib']\n",
      "    NOT AVAILABLE\n",
      "  \n",
      "  blis_info:\n",
      "    libraries blis not found in ['C:\\\\Users\\\\Vithep\\\\anaconda3\\\\lib', 'C:\\\\', 'C:\\\\Users\\\\Vithep\\\\anaconda3\\\\libs']\n",
      "    NOT AVAILABLE\n",
      "  \n",
      "  openblas_info:\n",
      "    libraries openblas not found in ['C:\\\\Users\\\\Vithep\\\\anaconda3\\\\lib', 'C:\\\\', 'C:\\\\Users\\\\Vithep\\\\anaconda3\\\\libs']\n",
      "  get_default_fcompiler: matching types: '['gnu', 'intelv', 'absoft', 'compaqv', 'intelev', 'gnu95', 'g95', 'intelvem', 'intelem', 'flang']'\n",
      "  customize GnuFCompiler\n",
      "  Could not locate executable g77\n",
      "  Could not locate executable f77\n",
      "  customize IntelVisualFCompiler\n",
      "  Could not locate executable ifort\n",
      "  Could not locate executable ifl\n",
      "  customize AbsoftFCompiler\n",
      "  Could not locate executable f90\n",
      "  customize CompaqVisualFCompiler\n",
      "  Could not locate executable DF\n",
      "  customize IntelItaniumVisualFCompiler\n",
      "  Could not locate executable efl\n",
      "  customize Gnu95FCompiler\n",
      "  Could not locate executable gfortran\n",
      "  Could not locate executable f95\n",
      "  customize G95FCompiler\n",
      "  Could not locate executable g95\n",
      "  customize IntelEM64VisualFCompiler\n",
      "  customize IntelEM64TFCompiler\n",
      "  Could not locate executable efort\n",
      "  Could not locate executable efc\n",
      "  customize PGroupFlangCompiler\n",
      "  Could not locate executable flang\n",
      "  don't know how to compile Fortran code on platform 'nt'\n",
      "    NOT AVAILABLE\n",
      "  \n",
      "  atlas_3_10_blas_threads_info:\n",
      "  Setting PTATLAS=ATLAS\n",
      "    libraries tatlas not found in ['C:\\\\Users\\\\Vithep\\\\anaconda3\\\\lib', 'C:\\\\', 'C:\\\\Users\\\\Vithep\\\\anaconda3\\\\libs']\n",
      "    NOT AVAILABLE\n",
      "  \n",
      "  atlas_3_10_blas_info:\n",
      "    libraries satlas not found in ['C:\\\\Users\\\\Vithep\\\\anaconda3\\\\lib', 'C:\\\\', 'C:\\\\Users\\\\Vithep\\\\anaconda3\\\\libs']\n",
      "    NOT AVAILABLE\n",
      "  \n",
      "  atlas_blas_threads_info:\n",
      "  Setting PTATLAS=ATLAS\n",
      "    libraries ptf77blas,ptcblas,atlas not found in ['C:\\\\Users\\\\Vithep\\\\anaconda3\\\\lib', 'C:\\\\', 'C:\\\\Users\\\\Vithep\\\\anaconda3\\\\libs']\n",
      "    NOT AVAILABLE\n",
      "  \n",
      "  atlas_blas_info:\n",
      "    libraries f77blas,cblas,atlas not found in ['C:\\\\Users\\\\Vithep\\\\anaconda3\\\\lib', 'C:\\\\', 'C:\\\\Users\\\\Vithep\\\\anaconda3\\\\libs']\n",
      "    NOT AVAILABLE\n",
      "  \n",
      "  accelerate_info:\n",
      "    NOT AVAILABLE\n",
      "  \n",
      "  C:\\Users\\Vithep\\anaconda3\\lib\\site-packages\\numpy\\distutils\\system_info.py:1914: UserWarning:\n",
      "      Optimized (vendor) Blas libraries are not found.\n",
      "      Falls back to netlib Blas library which has worse performance.\n",
      "      A better performance should be easily gained by switching\n",
      "      Blas library.\n",
      "    if self._calc_info(blas):\n",
      "  blas_info:\n",
      "    libraries blas not found in ['C:\\\\Users\\\\Vithep\\\\anaconda3\\\\lib', 'C:\\\\', 'C:\\\\Users\\\\Vithep\\\\anaconda3\\\\libs']\n",
      "    NOT AVAILABLE\n",
      "  \n",
      "  C:\\Users\\Vithep\\anaconda3\\lib\\site-packages\\numpy\\distutils\\system_info.py:1914: UserWarning:\n",
      "      Blas (http://www.netlib.org/blas/) libraries not found.\n",
      "      Directories to search for the libraries can be specified in the\n",
      "      numpy/distutils/site.cfg file (section [blas]) or by setting\n",
      "      the BLAS environment variable.\n",
      "    if self._calc_info(blas):\n",
      "  blas_src_info:\n",
      "    NOT AVAILABLE\n",
      "  \n",
      "  C:\\Users\\Vithep\\anaconda3\\lib\\site-packages\\numpy\\distutils\\system_info.py:1914: UserWarning:\n",
      "      Blas (http://www.netlib.org/blas/) sources not found.\n",
      "      Directories to search for the sources can be specified in the\n",
      "      numpy/distutils/site.cfg file (section [blas_src]) or by setting\n",
      "      the BLAS_SRC environment variable.\n",
      "    if self._calc_info(blas):\n",
      "    NOT AVAILABLE\n",
      "  \n",
      "  sklearn\\setup.py:73: UserWarning:\n",
      "      Blas (http://www.netlib.org/blas/) libraries not found.\n",
      "      Directories to search for the libraries can be specified in the\n",
      "      numpy/distutils/site.cfg file (section [blas]) or by setting\n",
      "      the BLAS environment variable.\n",
      "    warnings.warn(BlasNotFoundError.__doc__)\n",
      "  running bdist_wheel\n",
      "  running build\n",
      "  running config_cc\n",
      "  unifing config_cc, config, build_clib, build_ext, build commands --compiler options\n",
      "  running config_fc\n",
      "  unifing config_fc, config, build_clib, build_ext, build commands --fcompiler options\n",
      "  running build_src\n",
      "  build_src\n",
      "  building library \"libsvm-skl\" sources\n",
      "  building library \"cblas\" sources\n",
      "  building extension \"sklearn.__check_build._check_build\" sources\n",
      "  building extension \"sklearn.cluster._dbscan_inner\" sources\n",
      "  building extension \"sklearn.cluster._hierarchical\" sources\n",
      "  building extension \"sklearn.cluster._k_means_elkan\" sources\n",
      "  building extension \"sklearn.cluster._k_means\" sources\n",
      "  building extension \"sklearn.datasets._svmlight_format\" sources\n",
      "  building extension \"sklearn.decomposition._online_lda\" sources\n",
      "  building extension \"sklearn.decomposition.cdnmf_fast\" sources\n",
      "  building extension \"sklearn.ensemble._gradient_boosting\" sources\n",
      "  building extension \"sklearn.feature_extraction._hashing\" sources\n",
      "  building extension \"sklearn.manifold._utils\" sources\n",
      "  building extension \"sklearn.manifold._barnes_hut_tsne\" sources\n",
      "  building extension \"sklearn.metrics.cluster.expected_mutual_info_fast\" sources\n",
      "  building extension \"sklearn.metrics.pairwise_fast\" sources\n",
      "  building extension \"sklearn.neighbors.ball_tree\" sources\n",
      "  building extension \"sklearn.neighbors.kd_tree\" sources\n",
      "  building extension \"sklearn.neighbors.dist_metrics\" sources\n",
      "  building extension \"sklearn.neighbors.typedefs\" sources\n",
      "  building extension \"sklearn.neighbors.quad_tree\" sources\n",
      "  building extension \"sklearn.tree._tree\" sources\n",
      "  building extension \"sklearn.tree._splitter\" sources\n",
      "  building extension \"sklearn.tree._criterion\" sources\n",
      "  building extension \"sklearn.tree._utils\" sources\n",
      "  building extension \"sklearn.svm.libsvm\" sources\n",
      "  building extension \"sklearn.svm.liblinear\" sources\n",
      "  building extension \"sklearn.svm.libsvm_sparse\" sources\n",
      "  building extension \"sklearn._isotonic\" sources\n",
      "  building extension \"sklearn.linear_model.cd_fast\" sources\n",
      "  building extension \"sklearn.linear_model.sgd_fast\" sources\n",
      "  building extension \"sklearn.linear_model.sag_fast\" sources\n",
      "  building extension \"sklearn.utils.sparsefuncs_fast\" sources\n",
      "  building extension \"sklearn.utils.arrayfuncs\" sources\n",
      "  building extension \"sklearn.utils.murmurhash\" sources\n",
      "  building extension \"sklearn.utils.lgamma\" sources\n",
      "  building extension \"sklearn.utils.graph_shortest_path\" sources\n",
      "  building extension \"sklearn.utils.fast_dict\" sources\n",
      "  building extension \"sklearn.utils.seq_dataset\" sources\n",
      "  building extension \"sklearn.utils.weight_vector\" sources\n",
      "  building extension \"sklearn.utils._random\" sources\n",
      "  building extension \"sklearn.utils._logistic_sigmoid\" sources\n",
      "  building data_files sources\n",
      "  build_src: building npy-pkg config files\n",
      "  running build_py\n",
      "  creating build\n",
      "  creating build\\lib.win-amd64-3.8\n",
      "  creating build\\lib.win-amd64-3.8\\sklearn\n",
      "  copying sklearn\\base.py -> build\\lib.win-amd64-3.8\\sklearn\n",
      "  copying sklearn\\calibration.py -> build\\lib.win-amd64-3.8\\sklearn\n",
      "  copying sklearn\\discriminant_analysis.py -> build\\lib.win-amd64-3.8\\sklearn\n",
      "  copying sklearn\\dummy.py -> build\\lib.win-amd64-3.8\\sklearn\n",
      "  copying sklearn\\exceptions.py -> build\\lib.win-amd64-3.8\\sklearn\n",
      "  copying sklearn\\impute.py -> build\\lib.win-amd64-3.8\\sklearn\n",
      "  copying sklearn\\isotonic.py -> build\\lib.win-amd64-3.8\\sklearn\n",
      "  copying sklearn\\kernel_approximation.py -> build\\lib.win-amd64-3.8\\sklearn\n",
      "  copying sklearn\\kernel_ridge.py -> build\\lib.win-amd64-3.8\\sklearn\n",
      "  copying sklearn\\multiclass.py -> build\\lib.win-amd64-3.8\\sklearn\n",
      "  copying sklearn\\multioutput.py -> build\\lib.win-amd64-3.8\\sklearn\n",
      "  copying sklearn\\naive_bayes.py -> build\\lib.win-amd64-3.8\\sklearn\n",
      "  copying sklearn\\pipeline.py -> build\\lib.win-amd64-3.8\\sklearn\n",
      "  copying sklearn\\random_projection.py -> build\\lib.win-amd64-3.8\\sklearn\n",
      "  copying sklearn\\setup.py -> build\\lib.win-amd64-3.8\\sklearn\n",
      "  copying sklearn\\_config.py -> build\\lib.win-amd64-3.8\\sklearn\n",
      "  copying sklearn\\__init__.py -> build\\lib.win-amd64-3.8\\sklearn\n",
      "  creating build\\lib.win-amd64-3.8\\sklearn\\__check_build\n",
      "  copying sklearn\\__check_build\\setup.py -> build\\lib.win-amd64-3.8\\sklearn\\__check_build\n",
      "  copying sklearn\\__check_build\\__init__.py -> build\\lib.win-amd64-3.8\\sklearn\\__check_build\n",
      "  creating build\\lib.win-amd64-3.8\\sklearn\\_build_utils\n",
      "  copying sklearn\\_build_utils\\__init__.py -> build\\lib.win-amd64-3.8\\sklearn\\_build_utils\n",
      "  creating build\\lib.win-amd64-3.8\\sklearn\\compose\n",
      "  copying sklearn\\compose\\_column_transformer.py -> build\\lib.win-amd64-3.8\\sklearn\\compose\n",
      "  copying sklearn\\compose\\_target.py -> build\\lib.win-amd64-3.8\\sklearn\\compose\n",
      "  copying sklearn\\compose\\__init__.py -> build\\lib.win-amd64-3.8\\sklearn\\compose\n",
      "  creating build\\lib.win-amd64-3.8\\sklearn\\compose\\tests\n",
      "  copying sklearn\\compose\\tests\\test_column_transformer.py -> build\\lib.win-amd64-3.8\\sklearn\\compose/tests\n",
      "  copying sklearn\\compose\\tests\\test_target.py -> build\\lib.win-amd64-3.8\\sklearn\\compose/tests\n",
      "  copying sklearn\\compose\\tests\\__init__.py -> build\\lib.win-amd64-3.8\\sklearn\\compose/tests\n",
      "  creating build\\lib.win-amd64-3.8\\sklearn\\covariance\n",
      "  copying sklearn\\covariance\\elliptic_envelope.py -> build\\lib.win-amd64-3.8\\sklearn\\covariance\n",
      "  copying sklearn\\covariance\\empirical_covariance_.py -> build\\lib.win-amd64-3.8\\sklearn\\covariance\n",
      "  copying sklearn\\covariance\\graph_lasso_.py -> build\\lib.win-amd64-3.8\\sklearn\\covariance\n",
      "  copying sklearn\\covariance\\robust_covariance.py -> build\\lib.win-amd64-3.8\\sklearn\\covariance\n",
      "  copying sklearn\\covariance\\shrunk_covariance_.py -> build\\lib.win-amd64-3.8\\sklearn\\covariance\n",
      "  copying sklearn\\covariance\\__init__.py -> build\\lib.win-amd64-3.8\\sklearn\\covariance\n",
      "  creating build\\lib.win-amd64-3.8\\sklearn\\covariance\\tests\n",
      "  copying sklearn\\covariance\\tests\\test_covariance.py -> build\\lib.win-amd64-3.8\\sklearn\\covariance/tests\n",
      "  copying sklearn\\covariance\\tests\\test_elliptic_envelope.py -> build\\lib.win-amd64-3.8\\sklearn\\covariance/tests\n",
      "  copying sklearn\\covariance\\tests\\test_graphical_lasso.py -> build\\lib.win-amd64-3.8\\sklearn\\covariance/tests\n",
      "  copying sklearn\\covariance\\tests\\test_graph_lasso.py -> build\\lib.win-amd64-3.8\\sklearn\\covariance/tests\n",
      "  copying sklearn\\covariance\\tests\\test_robust_covariance.py -> build\\lib.win-amd64-3.8\\sklearn\\covariance/tests\n",
      "  copying sklearn\\covariance\\tests\\__init__.py -> build\\lib.win-amd64-3.8\\sklearn\\covariance/tests\n",
      "  creating build\\lib.win-amd64-3.8\\sklearn\\cross_decomposition\n",
      "  copying sklearn\\cross_decomposition\\cca_.py -> build\\lib.win-amd64-3.8\\sklearn\\cross_decomposition\n",
      "  copying sklearn\\cross_decomposition\\pls_.py -> build\\lib.win-amd64-3.8\\sklearn\\cross_decomposition\n",
      "  copying sklearn\\cross_decomposition\\__init__.py -> build\\lib.win-amd64-3.8\\sklearn\\cross_decomposition\n",
      "  creating build\\lib.win-amd64-3.8\\sklearn\\cross_decomposition\\tests\n",
      "  copying sklearn\\cross_decomposition\\tests\\test_pls.py -> build\\lib.win-amd64-3.8\\sklearn\\cross_decomposition/tests\n",
      "  copying sklearn\\cross_decomposition\\tests\\__init__.py -> build\\lib.win-amd64-3.8\\sklearn\\cross_decomposition/tests\n",
      "  creating build\\lib.win-amd64-3.8\\sklearn\\feature_selection\n",
      "  copying sklearn\\feature_selection\\base.py -> build\\lib.win-amd64-3.8\\sklearn\\feature_selection\n",
      "  copying sklearn\\feature_selection\\from_model.py -> build\\lib.win-amd64-3.8\\sklearn\\feature_selection\n",
      "  copying sklearn\\feature_selection\\mutual_info_.py -> build\\lib.win-amd64-3.8\\sklearn\\feature_selection\n",
      "  copying sklearn\\feature_selection\\rfe.py -> build\\lib.win-amd64-3.8\\sklearn\\feature_selection\n",
      "  copying sklearn\\feature_selection\\univariate_selection.py -> build\\lib.win-amd64-3.8\\sklearn\\feature_selection\n",
      "  copying sklearn\\feature_selection\\variance_threshold.py -> build\\lib.win-amd64-3.8\\sklearn\\feature_selection\n",
      "  copying sklearn\\feature_selection\\__init__.py -> build\\lib.win-amd64-3.8\\sklearn\\feature_selection\n",
      "  creating build\\lib.win-amd64-3.8\\sklearn\\feature_selection\\tests\n",
      "  copying sklearn\\feature_selection\\tests\\test_base.py -> build\\lib.win-amd64-3.8\\sklearn\\feature_selection/tests\n",
      "  copying sklearn\\feature_selection\\tests\\test_chi2.py -> build\\lib.win-amd64-3.8\\sklearn\\feature_selection/tests\n",
      "  copying sklearn\\feature_selection\\tests\\test_feature_select.py -> build\\lib.win-amd64-3.8\\sklearn\\feature_selection/tests\n",
      "  copying sklearn\\feature_selection\\tests\\test_from_model.py -> build\\lib.win-amd64-3.8\\sklearn\\feature_selection/tests\n",
      "  copying sklearn\\feature_selection\\tests\\test_mutual_info.py -> build\\lib.win-amd64-3.8\\sklearn\\feature_selection/tests\n",
      "  copying sklearn\\feature_selection\\tests\\test_rfe.py -> build\\lib.win-amd64-3.8\\sklearn\\feature_selection/tests\n",
      "  copying sklearn\\feature_selection\\tests\\test_variance_threshold.py -> build\\lib.win-amd64-3.8\\sklearn\\feature_selection/tests\n",
      "  copying sklearn\\feature_selection\\tests\\__init__.py -> build\\lib.win-amd64-3.8\\sklearn\\feature_selection/tests\n",
      "  creating build\\lib.win-amd64-3.8\\sklearn\\gaussian_process\n",
      "  copying sklearn\\gaussian_process\\correlation_models.py -> build\\lib.win-amd64-3.8\\sklearn\\gaussian_process\n",
      "  copying sklearn\\gaussian_process\\gpc.py -> build\\lib.win-amd64-3.8\\sklearn\\gaussian_process\n",
      "  copying sklearn\\gaussian_process\\gpr.py -> build\\lib.win-amd64-3.8\\sklearn\\gaussian_process\n",
      "  copying sklearn\\gaussian_process\\kernels.py -> build\\lib.win-amd64-3.8\\sklearn\\gaussian_process\n",
      "  copying sklearn\\gaussian_process\\regression_models.py -> build\\lib.win-amd64-3.8\\sklearn\\gaussian_process\n",
      "  copying sklearn\\gaussian_process\\__init__.py -> build\\lib.win-amd64-3.8\\sklearn\\gaussian_process\n",
      "  creating build\\lib.win-amd64-3.8\\sklearn\\gaussian_process\\tests\n",
      "  copying sklearn\\gaussian_process\\tests\\test_gpc.py -> build\\lib.win-amd64-3.8\\sklearn\\gaussian_process/tests\n",
      "  copying sklearn\\gaussian_process\\tests\\test_gpr.py -> build\\lib.win-amd64-3.8\\sklearn\\gaussian_process/tests\n",
      "  copying sklearn\\gaussian_process\\tests\\test_kernels.py -> build\\lib.win-amd64-3.8\\sklearn\\gaussian_process/tests\n",
      "  copying sklearn\\gaussian_process\\tests\\__init__.py -> build\\lib.win-amd64-3.8\\sklearn\\gaussian_process/tests\n",
      "  creating build\\lib.win-amd64-3.8\\sklearn\\mixture\n",
      "  copying sklearn\\mixture\\base.py -> build\\lib.win-amd64-3.8\\sklearn\\mixture\n",
      "  copying sklearn\\mixture\\bayesian_mixture.py -> build\\lib.win-amd64-3.8\\sklearn\\mixture\n",
      "  copying sklearn\\mixture\\gaussian_mixture.py -> build\\lib.win-amd64-3.8\\sklearn\\mixture\n",
      "  copying sklearn\\mixture\\__init__.py -> build\\lib.win-amd64-3.8\\sklearn\\mixture\n"
     ]
    }
   ],
   "source": [
    "!pip install --upgrade scikit-learn==0.20.3"
   ]
  },
  {
   "cell_type": "markdown",
   "metadata": {},
   "source": [
    "#### Impor das bibliotecas necessárias para realizar a visualização da árvore de decisão"
   ]
  },
  {
   "cell_type": "code",
   "execution_count": 27,
   "metadata": {
    "collapsed": true,
    "jupyter": {
     "outputs_hidden": true
    }
   },
   "outputs": [
    {
     "name": "stderr",
     "output_type": "stream",
     "text": [
      "  creating build\\lib.win-amd64-3.8\\sklearn\\mixture\\tests\n",
      "  copying sklearn\\mixture\\tests\\test_bayesian_mixture.py -> build\\lib.win-amd64-3.8\\sklearn\\mixture/tests\n",
      "  copying sklearn\\mixture\\tests\\test_gaussian_mixture.py -> build\\lib.win-amd64-3.8\\sklearn\\mixture/tests\n",
      "  copying sklearn\\mixture\\tests\\test_mixture.py -> build\\lib.win-amd64-3.8\\sklearn\\mixture/tests\n",
      "  copying sklearn\\mixture\\tests\\__init__.py -> build\\lib.win-amd64-3.8\\sklearn\\mixture/tests\n",
      "  creating build\\lib.win-amd64-3.8\\sklearn\\model_selection\n",
      "  copying sklearn\\model_selection\\_search.py -> build\\lib.win-amd64-3.8\\sklearn\\model_selection\n",
      "  copying sklearn\\model_selection\\_split.py -> build\\lib.win-amd64-3.8\\sklearn\\model_selection\n",
      "  copying sklearn\\model_selection\\_validation.py -> build\\lib.win-amd64-3.8\\sklearn\\model_selection\n",
      "  copying sklearn\\model_selection\\__init__.py -> build\\lib.win-amd64-3.8\\sklearn\\model_selection\n",
      "  creating build\\lib.win-amd64-3.8\\sklearn\\model_selection\\tests\n",
      "  copying sklearn\\model_selection\\tests\\common.py -> build\\lib.win-amd64-3.8\\sklearn\\model_selection/tests\n",
      "  copying sklearn\\model_selection\\tests\\test_search.py -> build\\lib.win-amd64-3.8\\sklearn\\model_selection/tests\n",
      "  copying sklearn\\model_selection\\tests\\test_split.py -> build\\lib.win-amd64-3.8\\sklearn\\model_selection/tests\n",
      "  copying sklearn\\model_selection\\tests\\test_validation.py -> build\\lib.win-amd64-3.8\\sklearn\\model_selection/tests\n",
      "  copying sklearn\\model_selection\\tests\\__init__.py -> build\\lib.win-amd64-3.8\\sklearn\\model_selection/tests\n",
      "  creating build\\lib.win-amd64-3.8\\sklearn\\neural_network\n",
      "  copying sklearn\\neural_network\\multilayer_perceptron.py -> build\\lib.win-amd64-3.8\\sklearn\\neural_network\n",
      "  copying sklearn\\neural_network\\rbm.py -> build\\lib.win-amd64-3.8\\sklearn\\neural_network\n",
      "  copying sklearn\\neural_network\\_base.py -> build\\lib.win-amd64-3.8\\sklearn\\neural_network\n",
      "  copying sklearn\\neural_network\\_stochastic_optimizers.py -> build\\lib.win-amd64-3.8\\sklearn\\neural_network\n",
      "  copying sklearn\\neural_network\\__init__.py -> build\\lib.win-amd64-3.8\\sklearn\\neural_network\n",
      "  creating build\\lib.win-amd64-3.8\\sklearn\\neural_network\\tests\n",
      "  copying sklearn\\neural_network\\tests\\test_mlp.py -> build\\lib.win-amd64-3.8\\sklearn\\neural_network/tests\n",
      "  copying sklearn\\neural_network\\tests\\test_rbm.py -> build\\lib.win-amd64-3.8\\sklearn\\neural_network/tests\n",
      "  copying sklearn\\neural_network\\tests\\test_stochastic_optimizers.py -> build\\lib.win-amd64-3.8\\sklearn\\neural_network/tests\n",
      "  copying sklearn\\neural_network\\tests\\__init__.py -> build\\lib.win-amd64-3.8\\sklearn\\neural_network/tests\n",
      "  creating build\\lib.win-amd64-3.8\\sklearn\\preprocessing\n",
      "  copying sklearn\\preprocessing\\base.py -> build\\lib.win-amd64-3.8\\sklearn\\preprocessing\n",
      "  copying sklearn\\preprocessing\\data.py -> build\\lib.win-amd64-3.8\\sklearn\\preprocessing\n",
      "  copying sklearn\\preprocessing\\imputation.py -> build\\lib.win-amd64-3.8\\sklearn\\preprocessing\n",
      "  copying sklearn\\preprocessing\\label.py -> build\\lib.win-amd64-3.8\\sklearn\\preprocessing\n",
      "  copying sklearn\\preprocessing\\_discretization.py -> build\\lib.win-amd64-3.8\\sklearn\\preprocessing\n",
      "  copying sklearn\\preprocessing\\_encoders.py -> build\\lib.win-amd64-3.8\\sklearn\\preprocessing\n",
      "  copying sklearn\\preprocessing\\_function_transformer.py -> build\\lib.win-amd64-3.8\\sklearn\\preprocessing\n",
      "  copying sklearn\\preprocessing\\__init__.py -> build\\lib.win-amd64-3.8\\sklearn\\preprocessing\n",
      "  creating build\\lib.win-amd64-3.8\\sklearn\\preprocessing\\tests\n",
      "  copying sklearn\\preprocessing\\tests\\test_base.py -> build\\lib.win-amd64-3.8\\sklearn\\preprocessing/tests\n",
      "  copying sklearn\\preprocessing\\tests\\test_common.py -> build\\lib.win-amd64-3.8\\sklearn\\preprocessing/tests\n",
      "  copying sklearn\\preprocessing\\tests\\test_data.py -> build\\lib.win-amd64-3.8\\sklearn\\preprocessing/tests\n",
      "  copying sklearn\\preprocessing\\tests\\test_discretization.py -> build\\lib.win-amd64-3.8\\sklearn\\preprocessing/tests\n",
      "  copying sklearn\\preprocessing\\tests\\test_encoders.py -> build\\lib.win-amd64-3.8\\sklearn\\preprocessing/tests\n",
      "  copying sklearn\\preprocessing\\tests\\test_function_transformer.py -> build\\lib.win-amd64-3.8\\sklearn\\preprocessing/tests\n",
      "  copying sklearn\\preprocessing\\tests\\test_imputation.py -> build\\lib.win-amd64-3.8\\sklearn\\preprocessing/tests\n",
      "  copying sklearn\\preprocessing\\tests\\test_label.py -> build\\lib.win-amd64-3.8\\sklearn\\preprocessing/tests\n",
      "  copying sklearn\\preprocessing\\tests\\__init__.py -> build\\lib.win-amd64-3.8\\sklearn\\preprocessing/tests\n",
      "  creating build\\lib.win-amd64-3.8\\sklearn\\semi_supervised\n",
      "  copying sklearn\\semi_supervised\\label_propagation.py -> build\\lib.win-amd64-3.8\\sklearn\\semi_supervised\n",
      "  copying sklearn\\semi_supervised\\__init__.py -> build\\lib.win-amd64-3.8\\sklearn\\semi_supervised\n",
      "  creating build\\lib.win-amd64-3.8\\sklearn\\semi_supervised\\tests\n",
      "  copying sklearn\\semi_supervised\\tests\\test_label_propagation.py -> build\\lib.win-amd64-3.8\\sklearn\\semi_supervised/tests\n",
      "  copying sklearn\\semi_supervised\\tests\\__init__.py -> build\\lib.win-amd64-3.8\\sklearn\\semi_supervised/tests\n",
      "  creating build\\lib.win-amd64-3.8\\sklearn\\cluster\n",
      "  copying sklearn\\cluster\\affinity_propagation_.py -> build\\lib.win-amd64-3.8\\sklearn\\cluster\n",
      "  copying sklearn\\cluster\\bicluster.py -> build\\lib.win-amd64-3.8\\sklearn\\cluster\n",
      "  copying sklearn\\cluster\\birch.py -> build\\lib.win-amd64-3.8\\sklearn\\cluster\n",
      "  copying sklearn\\cluster\\dbscan_.py -> build\\lib.win-amd64-3.8\\sklearn\\cluster\n",
      "  copying sklearn\\cluster\\hierarchical.py -> build\\lib.win-amd64-3.8\\sklearn\\cluster\n",
      "  copying sklearn\\cluster\\k_means_.py -> build\\lib.win-amd64-3.8\\sklearn\\cluster\n",
      "  copying sklearn\\cluster\\mean_shift_.py -> build\\lib.win-amd64-3.8\\sklearn\\cluster\n",
      "  copying sklearn\\cluster\\setup.py -> build\\lib.win-amd64-3.8\\sklearn\\cluster\n",
      "  copying sklearn\\cluster\\spectral.py -> build\\lib.win-amd64-3.8\\sklearn\\cluster\n",
      "  copying sklearn\\cluster\\_feature_agglomeration.py -> build\\lib.win-amd64-3.8\\sklearn\\cluster\n",
      "  copying sklearn\\cluster\\__init__.py -> build\\lib.win-amd64-3.8\\sklearn\\cluster\n",
      "  creating build\\lib.win-amd64-3.8\\sklearn\\cluster\\tests\n",
      "  copying sklearn\\cluster\\tests\\common.py -> build\\lib.win-amd64-3.8\\sklearn\\cluster\\tests\n",
      "  copying sklearn\\cluster\\tests\\test_affinity_propagation.py -> build\\lib.win-amd64-3.8\\sklearn\\cluster\\tests\n",
      "  copying sklearn\\cluster\\tests\\test_bicluster.py -> build\\lib.win-amd64-3.8\\sklearn\\cluster\\tests\n",
      "  copying sklearn\\cluster\\tests\\test_birch.py -> build\\lib.win-amd64-3.8\\sklearn\\cluster\\tests\n",
      "  copying sklearn\\cluster\\tests\\test_dbscan.py -> build\\lib.win-amd64-3.8\\sklearn\\cluster\\tests\n",
      "  copying sklearn\\cluster\\tests\\test_feature_agglomeration.py -> build\\lib.win-amd64-3.8\\sklearn\\cluster\\tests\n",
      "  copying sklearn\\cluster\\tests\\test_hierarchical.py -> build\\lib.win-amd64-3.8\\sklearn\\cluster\\tests\n",
      "  copying sklearn\\cluster\\tests\\test_k_means.py -> build\\lib.win-amd64-3.8\\sklearn\\cluster\\tests\n",
      "  copying sklearn\\cluster\\tests\\test_mean_shift.py -> build\\lib.win-amd64-3.8\\sklearn\\cluster\\tests\n",
      "  copying sklearn\\cluster\\tests\\test_spectral.py -> build\\lib.win-amd64-3.8\\sklearn\\cluster\\tests\n",
      "  copying sklearn\\cluster\\tests\\__init__.py -> build\\lib.win-amd64-3.8\\sklearn\\cluster\\tests\n",
      "  creating build\\lib.win-amd64-3.8\\sklearn\\datasets\n",
      "  copying sklearn\\datasets\\base.py -> build\\lib.win-amd64-3.8\\sklearn\\datasets\n",
      "  copying sklearn\\datasets\\california_housing.py -> build\\lib.win-amd64-3.8\\sklearn\\datasets\n",
      "  copying sklearn\\datasets\\covtype.py -> build\\lib.win-amd64-3.8\\sklearn\\datasets\n",
      "  copying sklearn\\datasets\\kddcup99.py -> build\\lib.win-amd64-3.8\\sklearn\\datasets\n",
      "  copying sklearn\\datasets\\lfw.py -> build\\lib.win-amd64-3.8\\sklearn\\datasets\n",
      "  copying sklearn\\datasets\\mlcomp.py -> build\\lib.win-amd64-3.8\\sklearn\\datasets\n",
      "  copying sklearn\\datasets\\mldata.py -> build\\lib.win-amd64-3.8\\sklearn\\datasets\n",
      "  copying sklearn\\datasets\\olivetti_faces.py -> build\\lib.win-amd64-3.8\\sklearn\\datasets\n",
      "  copying sklearn\\datasets\\openml.py -> build\\lib.win-amd64-3.8\\sklearn\\datasets\n",
      "  copying sklearn\\datasets\\rcv1.py -> build\\lib.win-amd64-3.8\\sklearn\\datasets\n",
      "  copying sklearn\\datasets\\samples_generator.py -> build\\lib.win-amd64-3.8\\sklearn\\datasets\n",
      "  copying sklearn\\datasets\\setup.py -> build\\lib.win-amd64-3.8\\sklearn\\datasets\n",
      "  copying sklearn\\datasets\\species_distributions.py -> build\\lib.win-amd64-3.8\\sklearn\\datasets\n",
      "  copying sklearn\\datasets\\svmlight_format.py -> build\\lib.win-amd64-3.8\\sklearn\\datasets\n",
      "  copying sklearn\\datasets\\twenty_newsgroups.py -> build\\lib.win-amd64-3.8\\sklearn\\datasets\n",
      "  copying sklearn\\datasets\\__init__.py -> build\\lib.win-amd64-3.8\\sklearn\\datasets\n",
      "  creating build\\lib.win-amd64-3.8\\sklearn\\datasets\\tests\n",
      "  copying sklearn\\datasets\\tests\\test_20news.py -> build\\lib.win-amd64-3.8\\sklearn\\datasets\\tests\n",
      "  copying sklearn\\datasets\\tests\\test_base.py -> build\\lib.win-amd64-3.8\\sklearn\\datasets\\tests\n",
      "  copying sklearn\\datasets\\tests\\test_california_housing.py -> build\\lib.win-amd64-3.8\\sklearn\\datasets\\tests\n",
      "  copying sklearn\\datasets\\tests\\test_common.py -> build\\lib.win-amd64-3.8\\sklearn\\datasets\\tests\n",
      "  copying sklearn\\datasets\\tests\\test_covtype.py -> build\\lib.win-amd64-3.8\\sklearn\\datasets\\tests\n",
      "  copying sklearn\\datasets\\tests\\test_kddcup99.py -> build\\lib.win-amd64-3.8\\sklearn\\datasets\\tests\n",
      "  copying sklearn\\datasets\\tests\\test_lfw.py -> build\\lib.win-amd64-3.8\\sklearn\\datasets\\tests\n",
      "  copying sklearn\\datasets\\tests\\test_mldata.py -> build\\lib.win-amd64-3.8\\sklearn\\datasets\\tests\n",
      "  copying sklearn\\datasets\\tests\\test_openml.py -> build\\lib.win-amd64-3.8\\sklearn\\datasets\\tests\n",
      "  copying sklearn\\datasets\\tests\\test_rcv1.py -> build\\lib.win-amd64-3.8\\sklearn\\datasets\\tests\n",
      "  copying sklearn\\datasets\\tests\\test_samples_generator.py -> build\\lib.win-amd64-3.8\\sklearn\\datasets\\tests\n",
      "  copying sklearn\\datasets\\tests\\test_svmlight_format.py -> build\\lib.win-amd64-3.8\\sklearn\\datasets\\tests\n",
      "  copying sklearn\\datasets\\tests\\__init__.py -> build\\lib.win-amd64-3.8\\sklearn\\datasets\\tests\n",
      "  creating build\\lib.win-amd64-3.8\\sklearn\\decomposition\n",
      "  copying sklearn\\decomposition\\base.py -> build\\lib.win-amd64-3.8\\sklearn\\decomposition\n",
      "  copying sklearn\\decomposition\\dict_learning.py -> build\\lib.win-amd64-3.8\\sklearn\\decomposition\n",
      "  copying sklearn\\decomposition\\factor_analysis.py -> build\\lib.win-amd64-3.8\\sklearn\\decomposition\n",
      "  copying sklearn\\decomposition\\fastica_.py -> build\\lib.win-amd64-3.8\\sklearn\\decomposition\n",
      "  copying sklearn\\decomposition\\incremental_pca.py -> build\\lib.win-amd64-3.8\\sklearn\\decomposition\n",
      "  copying sklearn\\decomposition\\kernel_pca.py -> build\\lib.win-amd64-3.8\\sklearn\\decomposition\n",
      "  copying sklearn\\decomposition\\nmf.py -> build\\lib.win-amd64-3.8\\sklearn\\decomposition\n",
      "  copying sklearn\\decomposition\\online_lda.py -> build\\lib.win-amd64-3.8\\sklearn\\decomposition\n",
      "  copying sklearn\\decomposition\\pca.py -> build\\lib.win-amd64-3.8\\sklearn\\decomposition\n",
      "  copying sklearn\\decomposition\\setup.py -> build\\lib.win-amd64-3.8\\sklearn\\decomposition\n",
      "  copying sklearn\\decomposition\\sparse_pca.py -> build\\lib.win-amd64-3.8\\sklearn\\decomposition\n",
      "  copying sklearn\\decomposition\\truncated_svd.py -> build\\lib.win-amd64-3.8\\sklearn\\decomposition\n",
      "  copying sklearn\\decomposition\\__init__.py -> build\\lib.win-amd64-3.8\\sklearn\\decomposition\n",
      "  creating build\\lib.win-amd64-3.8\\sklearn\\decomposition\\tests\n",
      "  copying sklearn\\decomposition\\tests\\test_dict_learning.py -> build\\lib.win-amd64-3.8\\sklearn\\decomposition\\tests\n",
      "  copying sklearn\\decomposition\\tests\\test_factor_analysis.py -> build\\lib.win-amd64-3.8\\sklearn\\decomposition\\tests\n",
      "  copying sklearn\\decomposition\\tests\\test_fastica.py -> build\\lib.win-amd64-3.8\\sklearn\\decomposition\\tests\n",
      "  copying sklearn\\decomposition\\tests\\test_incremental_pca.py -> build\\lib.win-amd64-3.8\\sklearn\\decomposition\\tests\n",
      "  copying sklearn\\decomposition\\tests\\test_kernel_pca.py -> build\\lib.win-amd64-3.8\\sklearn\\decomposition\\tests\n",
      "  copying sklearn\\decomposition\\tests\\test_nmf.py -> build\\lib.win-amd64-3.8\\sklearn\\decomposition\\tests\n",
      "  copying sklearn\\decomposition\\tests\\test_online_lda.py -> build\\lib.win-amd64-3.8\\sklearn\\decomposition\\tests\n",
      "  copying sklearn\\decomposition\\tests\\test_pca.py -> build\\lib.win-amd64-3.8\\sklearn\\decomposition\\tests\n",
      "  copying sklearn\\decomposition\\tests\\test_sparse_pca.py -> build\\lib.win-amd64-3.8\\sklearn\\decomposition\\tests\n",
      "  copying sklearn\\decomposition\\tests\\test_truncated_svd.py -> build\\lib.win-amd64-3.8\\sklearn\\decomposition\\tests\n",
      "  copying sklearn\\decomposition\\tests\\__init__.py -> build\\lib.win-amd64-3.8\\sklearn\\decomposition\\tests\n",
      "  creating build\\lib.win-amd64-3.8\\sklearn\\ensemble\n",
      "  copying sklearn\\ensemble\\bagging.py -> build\\lib.win-amd64-3.8\\sklearn\\ensemble\n",
      "  copying sklearn\\ensemble\\base.py -> build\\lib.win-amd64-3.8\\sklearn\\ensemble\n",
      "  copying sklearn\\ensemble\\forest.py -> build\\lib.win-amd64-3.8\\sklearn\\ensemble\n",
      "  copying sklearn\\ensemble\\gradient_boosting.py -> build\\lib.win-amd64-3.8\\sklearn\\ensemble\n",
      "  copying sklearn\\ensemble\\iforest.py -> build\\lib.win-amd64-3.8\\sklearn\\ensemble\n",
      "  copying sklearn\\ensemble\\partial_dependence.py -> build\\lib.win-amd64-3.8\\sklearn\\ensemble\n",
      "  copying sklearn\\ensemble\\setup.py -> build\\lib.win-amd64-3.8\\sklearn\\ensemble\n",
      "  copying sklearn\\ensemble\\voting_classifier.py -> build\\lib.win-amd64-3.8\\sklearn\\ensemble\n",
      "  copying sklearn\\ensemble\\weight_boosting.py -> build\\lib.win-amd64-3.8\\sklearn\\ensemble\n",
      "  copying sklearn\\ensemble\\__init__.py -> build\\lib.win-amd64-3.8\\sklearn\\ensemble\n",
      "  creating build\\lib.win-amd64-3.8\\sklearn\\ensemble\\tests\n",
      "  copying sklearn\\ensemble\\tests\\test_bagging.py -> build\\lib.win-amd64-3.8\\sklearn\\ensemble\\tests\n",
      "  copying sklearn\\ensemble\\tests\\test_base.py -> build\\lib.win-amd64-3.8\\sklearn\\ensemble\\tests\n",
      "  copying sklearn\\ensemble\\tests\\test_forest.py -> build\\lib.win-amd64-3.8\\sklearn\\ensemble\\tests\n",
      "  copying sklearn\\ensemble\\tests\\test_gradient_boosting.py -> build\\lib.win-amd64-3.8\\sklearn\\ensemble\\tests\n",
      "  copying sklearn\\ensemble\\tests\\test_gradient_boosting_loss_functions.py -> build\\lib.win-amd64-3.8\\sklearn\\ensemble\\tests\n",
      "  copying sklearn\\ensemble\\tests\\test_iforest.py -> build\\lib.win-amd64-3.8\\sklearn\\ensemble\\tests\n",
      "  copying sklearn\\ensemble\\tests\\test_partial_dependence.py -> build\\lib.win-amd64-3.8\\sklearn\\ensemble\\tests\n",
      "  copying sklearn\\ensemble\\tests\\test_voting_classifier.py -> build\\lib.win-amd64-3.8\\sklearn\\ensemble\\tests\n",
      "  copying sklearn\\ensemble\\tests\\test_weight_boosting.py -> build\\lib.win-amd64-3.8\\sklearn\\ensemble\\tests\n",
      "  copying sklearn\\ensemble\\tests\\__init__.py -> build\\lib.win-amd64-3.8\\sklearn\\ensemble\\tests\n",
      "  creating build\\lib.win-amd64-3.8\\sklearn\\externals\n",
      "  copying sklearn\\externals\\conftest.py -> build\\lib.win-amd64-3.8\\sklearn\\externals\n",
      "  copying sklearn\\externals\\funcsigs.py -> build\\lib.win-amd64-3.8\\sklearn\\externals\n",
      "  copying sklearn\\externals\\setup.py -> build\\lib.win-amd64-3.8\\sklearn\\externals\n",
      "  copying sklearn\\externals\\six.py -> build\\lib.win-amd64-3.8\\sklearn\\externals\n",
      "  copying sklearn\\externals\\_arff.py -> build\\lib.win-amd64-3.8\\sklearn\\externals\n",
      "  copying sklearn\\externals\\_pilutil.py -> build\\lib.win-amd64-3.8\\sklearn\\externals\n",
      "  copying sklearn\\externals\\__init__.py -> build\\lib.win-amd64-3.8\\sklearn\\externals\n",
      "  creating build\\lib.win-amd64-3.8\\sklearn\\externals\\joblib\n",
      "  copying sklearn\\externals\\joblib\\backports.py -> build\\lib.win-amd64-3.8\\sklearn\\externals\\joblib\n",
      "  copying sklearn\\externals\\joblib\\compressor.py -> build\\lib.win-amd64-3.8\\sklearn\\externals\\joblib\n",
      "  copying sklearn\\externals\\joblib\\disk.py -> build\\lib.win-amd64-3.8\\sklearn\\externals\\joblib\n",
      "  copying sklearn\\externals\\joblib\\executor.py -> build\\lib.win-amd64-3.8\\sklearn\\externals\\joblib\n",
      "  copying sklearn\\externals\\joblib\\format_stack.py -> build\\lib.win-amd64-3.8\\sklearn\\externals\\joblib\n",
      "  copying sklearn\\externals\\joblib\\func_inspect.py -> build\\lib.win-amd64-3.8\\sklearn\\externals\\joblib\n",
      "  copying sklearn\\externals\\joblib\\hashing.py -> build\\lib.win-amd64-3.8\\sklearn\\externals\\joblib\n",
      "  copying sklearn\\externals\\joblib\\logger.py -> build\\lib.win-amd64-3.8\\sklearn\\externals\\joblib\n",
      "  copying sklearn\\externals\\joblib\\memory.py -> build\\lib.win-amd64-3.8\\sklearn\\externals\\joblib\n",
      "  copying sklearn\\externals\\joblib\\my_exceptions.py -> build\\lib.win-amd64-3.8\\sklearn\\externals\\joblib\n",
      "  copying sklearn\\externals\\joblib\\numpy_pickle.py -> build\\lib.win-amd64-3.8\\sklearn\\externals\\joblib\n",
      "  copying sklearn\\externals\\joblib\\numpy_pickle_compat.py -> build\\lib.win-amd64-3.8\\sklearn\\externals\\joblib\n",
      "  copying sklearn\\externals\\joblib\\numpy_pickle_utils.py -> build\\lib.win-amd64-3.8\\sklearn\\externals\\joblib\n",
      "  copying sklearn\\externals\\joblib\\parallel.py -> build\\lib.win-amd64-3.8\\sklearn\\externals\\joblib\n",
      "  copying sklearn\\externals\\joblib\\pool.py -> build\\lib.win-amd64-3.8\\sklearn\\externals\\joblib\n",
      "  copying sklearn\\externals\\joblib\\testing.py -> build\\lib.win-amd64-3.8\\sklearn\\externals\\joblib\n",
      "  copying sklearn\\externals\\joblib\\_compat.py -> build\\lib.win-amd64-3.8\\sklearn\\externals\\joblib\n",
      "  copying sklearn\\externals\\joblib\\_dask.py -> build\\lib.win-amd64-3.8\\sklearn\\externals\\joblib\n",
      "  copying sklearn\\externals\\joblib\\_memmapping_reducer.py -> build\\lib.win-amd64-3.8\\sklearn\\externals\\joblib\n",
      "  copying sklearn\\externals\\joblib\\_memory_helpers.py -> build\\lib.win-amd64-3.8\\sklearn\\externals\\joblib\n",
      "  copying sklearn\\externals\\joblib\\_multiprocessing_helpers.py -> build\\lib.win-amd64-3.8\\sklearn\\externals\\joblib\n",
      "  copying sklearn\\externals\\joblib\\_parallel_backends.py -> build\\lib.win-amd64-3.8\\sklearn\\externals\\joblib\n",
      "  copying sklearn\\externals\\joblib\\_store_backends.py -> build\\lib.win-amd64-3.8\\sklearn\\externals\\joblib\n",
      "  copying sklearn\\externals\\joblib\\__init__.py -> build\\lib.win-amd64-3.8\\sklearn\\externals\\joblib\n",
      "  creating build\\lib.win-amd64-3.8\\sklearn\\externals\\joblib\\externals\n",
      "  copying sklearn\\externals\\joblib\\externals\\__init__.py -> build\\lib.win-amd64-3.8\\sklearn\\externals\\joblib/externals\n",
      "  creating build\\lib.win-amd64-3.8\\sklearn\\externals\\joblib\\externals\\loky\n",
      "  copying sklearn\\externals\\joblib\\externals\\loky\\cloudpickle_wrapper.py -> build\\lib.win-amd64-3.8\\sklearn\\externals\\joblib/externals/loky\n",
      "  copying sklearn\\externals\\joblib\\externals\\loky\\process_executor.py -> build\\lib.win-amd64-3.8\\sklearn\\externals\\joblib/externals/loky\n",
      "  copying sklearn\\externals\\joblib\\externals\\loky\\reusable_executor.py -> build\\lib.win-amd64-3.8\\sklearn\\externals\\joblib/externals/loky\n",
      "  copying sklearn\\externals\\joblib\\externals\\loky\\_base.py -> build\\lib.win-amd64-3.8\\sklearn\\externals\\joblib/externals/loky\n",
      "  copying sklearn\\externals\\joblib\\externals\\loky\\__init__.py -> build\\lib.win-amd64-3.8\\sklearn\\externals\\joblib/externals/loky\n",
      "  creating build\\lib.win-amd64-3.8\\sklearn\\externals\\joblib\\externals\\loky\\backend\n",
      "  copying sklearn\\externals\\joblib\\externals\\loky\\backend\\compat.py -> build\\lib.win-amd64-3.8\\sklearn\\externals\\joblib/externals/loky/backend\n",
      "  copying sklearn\\externals\\joblib\\externals\\loky\\backend\\compat_posix.py -> build\\lib.win-amd64-3.8\\sklearn\\externals\\joblib/externals/loky/backend\n",
      "  copying sklearn\\externals\\joblib\\externals\\loky\\backend\\compat_win32.py -> build\\lib.win-amd64-3.8\\sklearn\\externals\\joblib/externals/loky/backend\n",
      "  copying sklearn\\externals\\joblib\\externals\\loky\\backend\\context.py -> build\\lib.win-amd64-3.8\\sklearn\\externals\\joblib/externals/loky/backend\n",
      "  copying sklearn\\externals\\joblib\\externals\\loky\\backend\\fork_exec.py -> build\\lib.win-amd64-3.8\\sklearn\\externals\\joblib/externals/loky/backend\n",
      "  copying sklearn\\externals\\joblib\\externals\\loky\\backend\\managers.py -> build\\lib.win-amd64-3.8\\sklearn\\externals\\joblib/externals/loky/backend\n",
      "  copying sklearn\\externals\\joblib\\externals\\loky\\backend\\popen_loky_posix.py -> build\\lib.win-amd64-3.8\\sklearn\\externals\\joblib/externals/loky/backend\n",
      "  copying sklearn\\externals\\joblib\\externals\\loky\\backend\\popen_loky_win32.py -> build\\lib.win-amd64-3.8\\sklearn\\externals\\joblib/externals/loky/backend\n",
      "  copying sklearn\\externals\\joblib\\externals\\loky\\backend\\process.py -> build\\lib.win-amd64-3.8\\sklearn\\externals\\joblib/externals/loky/backend\n",
      "  copying sklearn\\externals\\joblib\\externals\\loky\\backend\\queues.py -> build\\lib.win-amd64-3.8\\sklearn\\externals\\joblib/externals/loky/backend\n",
      "  copying sklearn\\externals\\joblib\\externals\\loky\\backend\\reduction.py -> build\\lib.win-amd64-3.8\\sklearn\\externals\\joblib/externals/loky/backend\n",
      "  copying sklearn\\externals\\joblib\\externals\\loky\\backend\\semaphore_tracker.py -> build\\lib.win-amd64-3.8\\sklearn\\externals\\joblib/externals/loky/backend\n",
      "  copying sklearn\\externals\\joblib\\externals\\loky\\backend\\semlock.py -> build\\lib.win-amd64-3.8\\sklearn\\externals\\joblib/externals/loky/backend\n",
      "  copying sklearn\\externals\\joblib\\externals\\loky\\backend\\spawn.py -> build\\lib.win-amd64-3.8\\sklearn\\externals\\joblib/externals/loky/backend\n",
      "  copying sklearn\\externals\\joblib\\externals\\loky\\backend\\synchronize.py -> build\\lib.win-amd64-3.8\\sklearn\\externals\\joblib/externals/loky/backend\n",
      "  copying sklearn\\externals\\joblib\\externals\\loky\\backend\\utils.py -> build\\lib.win-amd64-3.8\\sklearn\\externals\\joblib/externals/loky/backend\n",
      "  copying sklearn\\externals\\joblib\\externals\\loky\\backend\\_posix_reduction.py -> build\\lib.win-amd64-3.8\\sklearn\\externals\\joblib/externals/loky/backend\n",
      "  copying sklearn\\externals\\joblib\\externals\\loky\\backend\\_posix_wait.py -> build\\lib.win-amd64-3.8\\sklearn\\externals\\joblib/externals/loky/backend\n",
      "  copying sklearn\\externals\\joblib\\externals\\loky\\backend\\_win_reduction.py -> build\\lib.win-amd64-3.8\\sklearn\\externals\\joblib/externals/loky/backend\n",
      "  copying sklearn\\externals\\joblib\\externals\\loky\\backend\\_win_wait.py -> build\\lib.win-amd64-3.8\\sklearn\\externals\\joblib/externals/loky/backend\n",
      "  copying sklearn\\externals\\joblib\\externals\\loky\\backend\\__init__.py -> build\\lib.win-amd64-3.8\\sklearn\\externals\\joblib/externals/loky/backend\n",
      "  creating build\\lib.win-amd64-3.8\\sklearn\\externals\\joblib\\externals\\cloudpickle\n",
      "  copying sklearn\\externals\\joblib\\externals\\cloudpickle\\cloudpickle.py -> build\\lib.win-amd64-3.8\\sklearn\\externals\\joblib/externals/cloudpickle\n",
      "  copying sklearn\\externals\\joblib\\externals\\cloudpickle\\__init__.py -> build\\lib.win-amd64-3.8\\sklearn\\externals\\joblib/externals/cloudpickle\n",
      "  creating build\\lib.win-amd64-3.8\\sklearn\\feature_extraction\n",
      "  copying sklearn\\feature_extraction\\dict_vectorizer.py -> build\\lib.win-amd64-3.8\\sklearn\\feature_extraction\n",
      "  copying sklearn\\feature_extraction\\hashing.py -> build\\lib.win-amd64-3.8\\sklearn\\feature_extraction\n",
      "  copying sklearn\\feature_extraction\\image.py -> build\\lib.win-amd64-3.8\\sklearn\\feature_extraction\n",
      "  copying sklearn\\feature_extraction\\setup.py -> build\\lib.win-amd64-3.8\\sklearn\\feature_extraction\n",
      "  copying sklearn\\feature_extraction\\stop_words.py -> build\\lib.win-amd64-3.8\\sklearn\\feature_extraction\n",
      "  copying sklearn\\feature_extraction\\text.py -> build\\lib.win-amd64-3.8\\sklearn\\feature_extraction\n",
      "  copying sklearn\\feature_extraction\\__init__.py -> build\\lib.win-amd64-3.8\\sklearn\\feature_extraction\n",
      "  creating build\\lib.win-amd64-3.8\\sklearn\\feature_extraction\\tests\n",
      "  copying sklearn\\feature_extraction\\tests\\test_dict_vectorizer.py -> build\\lib.win-amd64-3.8\\sklearn\\feature_extraction\\tests\n",
      "  copying sklearn\\feature_extraction\\tests\\test_feature_hasher.py -> build\\lib.win-amd64-3.8\\sklearn\\feature_extraction\\tests\n",
      "  copying sklearn\\feature_extraction\\tests\\test_image.py -> build\\lib.win-amd64-3.8\\sklearn\\feature_extraction\\tests\n",
      "  copying sklearn\\feature_extraction\\tests\\test_text.py -> build\\lib.win-amd64-3.8\\sklearn\\feature_extraction\\tests\n",
      "  copying sklearn\\feature_extraction\\tests\\__init__.py -> build\\lib.win-amd64-3.8\\sklearn\\feature_extraction\\tests\n",
      "  creating build\\lib.win-amd64-3.8\\sklearn\\manifold\n",
      "  copying sklearn\\manifold\\isomap.py -> build\\lib.win-amd64-3.8\\sklearn\\manifold\n",
      "  copying sklearn\\manifold\\locally_linear.py -> build\\lib.win-amd64-3.8\\sklearn\\manifold\n",
      "  copying sklearn\\manifold\\mds.py -> build\\lib.win-amd64-3.8\\sklearn\\manifold\n",
      "  copying sklearn\\manifold\\setup.py -> build\\lib.win-amd64-3.8\\sklearn\\manifold\n",
      "  copying sklearn\\manifold\\spectral_embedding_.py -> build\\lib.win-amd64-3.8\\sklearn\\manifold\n",
      "  copying sklearn\\manifold\\t_sne.py -> build\\lib.win-amd64-3.8\\sklearn\\manifold\n",
      "  copying sklearn\\manifold\\__init__.py -> build\\lib.win-amd64-3.8\\sklearn\\manifold\n",
      "  creating build\\lib.win-amd64-3.8\\sklearn\\manifold\\tests\n",
      "  copying sklearn\\manifold\\tests\\test_isomap.py -> build\\lib.win-amd64-3.8\\sklearn\\manifold\\tests\n",
      "  copying sklearn\\manifold\\tests\\test_locally_linear.py -> build\\lib.win-amd64-3.8\\sklearn\\manifold\\tests\n",
      "  copying sklearn\\manifold\\tests\\test_mds.py -> build\\lib.win-amd64-3.8\\sklearn\\manifold\\tests\n",
      "  copying sklearn\\manifold\\tests\\test_spectral_embedding.py -> build\\lib.win-amd64-3.8\\sklearn\\manifold\\tests\n",
      "  copying sklearn\\manifold\\tests\\test_t_sne.py -> build\\lib.win-amd64-3.8\\sklearn\\manifold\\tests\n",
      "  copying sklearn\\manifold\\tests\\__init__.py -> build\\lib.win-amd64-3.8\\sklearn\\manifold\\tests\n",
      "  creating build\\lib.win-amd64-3.8\\sklearn\\metrics\n",
      "  copying sklearn\\metrics\\base.py -> build\\lib.win-amd64-3.8\\sklearn\\metrics\n",
      "  copying sklearn\\metrics\\classification.py -> build\\lib.win-amd64-3.8\\sklearn\\metrics\n",
      "  copying sklearn\\metrics\\pairwise.py -> build\\lib.win-amd64-3.8\\sklearn\\metrics\n",
      "  copying sklearn\\metrics\\ranking.py -> build\\lib.win-amd64-3.8\\sklearn\\metrics\n",
      "  copying sklearn\\metrics\\regression.py -> build\\lib.win-amd64-3.8\\sklearn\\metrics\n",
      "  copying sklearn\\metrics\\scorer.py -> build\\lib.win-amd64-3.8\\sklearn\\metrics\n",
      "  copying sklearn\\metrics\\setup.py -> build\\lib.win-amd64-3.8\\sklearn\\metrics\n",
      "  copying sklearn\\metrics\\__init__.py -> build\\lib.win-amd64-3.8\\sklearn\\metrics\n",
      "  creating build\\lib.win-amd64-3.8\\sklearn\\metrics\\cluster\n",
      "  copying sklearn\\metrics\\cluster\\bicluster.py -> build\\lib.win-amd64-3.8\\sklearn\\metrics\\cluster\n",
      "  copying sklearn\\metrics\\cluster\\setup.py -> build\\lib.win-amd64-3.8\\sklearn\\metrics\\cluster\n",
      "  copying sklearn\\metrics\\cluster\\supervised.py -> build\\lib.win-amd64-3.8\\sklearn\\metrics\\cluster\n",
      "  copying sklearn\\metrics\\cluster\\unsupervised.py -> build\\lib.win-amd64-3.8\\sklearn\\metrics\\cluster\n",
      "  copying sklearn\\metrics\\cluster\\__init__.py -> build\\lib.win-amd64-3.8\\sklearn\\metrics\\cluster\n",
      "  creating build\\lib.win-amd64-3.8\\sklearn\\metrics\\cluster\\tests\n",
      "  copying sklearn\\metrics\\cluster\\tests\\test_bicluster.py -> build\\lib.win-amd64-3.8\\sklearn\\metrics\\cluster\\tests\n",
      "  copying sklearn\\metrics\\cluster\\tests\\test_common.py -> build\\lib.win-amd64-3.8\\sklearn\\metrics\\cluster\\tests\n",
      "  copying sklearn\\metrics\\cluster\\tests\\test_supervised.py -> build\\lib.win-amd64-3.8\\sklearn\\metrics\\cluster\\tests\n",
      "  copying sklearn\\metrics\\cluster\\tests\\test_unsupervised.py -> build\\lib.win-amd64-3.8\\sklearn\\metrics\\cluster\\tests\n",
      "  copying sklearn\\metrics\\cluster\\tests\\__init__.py -> build\\lib.win-amd64-3.8\\sklearn\\metrics\\cluster\\tests\n",
      "  creating build\\lib.win-amd64-3.8\\sklearn\\metrics\\tests\n",
      "  copying sklearn\\metrics\\tests\\test_classification.py -> build\\lib.win-amd64-3.8\\sklearn\\metrics\\tests\n",
      "  copying sklearn\\metrics\\tests\\test_common.py -> build\\lib.win-amd64-3.8\\sklearn\\metrics\\tests\n",
      "  copying sklearn\\metrics\\tests\\test_pairwise.py -> build\\lib.win-amd64-3.8\\sklearn\\metrics\\tests\n",
      "  copying sklearn\\metrics\\tests\\test_ranking.py -> build\\lib.win-amd64-3.8\\sklearn\\metrics\\tests\n",
      "  copying sklearn\\metrics\\tests\\test_regression.py -> build\\lib.win-amd64-3.8\\sklearn\\metrics\\tests\n",
      "  copying sklearn\\metrics\\tests\\test_score_objects.py -> build\\lib.win-amd64-3.8\\sklearn\\metrics\\tests\n",
      "  copying sklearn\\metrics\\tests\\__init__.py -> build\\lib.win-amd64-3.8\\sklearn\\metrics\\tests\n",
      "  creating build\\lib.win-amd64-3.8\\sklearn\\neighbors\n",
      "  copying sklearn\\neighbors\\approximate.py -> build\\lib.win-amd64-3.8\\sklearn\\neighbors\n",
      "  copying sklearn\\neighbors\\base.py -> build\\lib.win-amd64-3.8\\sklearn\\neighbors\n",
      "  copying sklearn\\neighbors\\classification.py -> build\\lib.win-amd64-3.8\\sklearn\\neighbors\n",
      "  copying sklearn\\neighbors\\graph.py -> build\\lib.win-amd64-3.8\\sklearn\\neighbors\n",
      "  copying sklearn\\neighbors\\kde.py -> build\\lib.win-amd64-3.8\\sklearn\\neighbors\n",
      "  copying sklearn\\neighbors\\lof.py -> build\\lib.win-amd64-3.8\\sklearn\\neighbors\n",
      "  copying sklearn\\neighbors\\nearest_centroid.py -> build\\lib.win-amd64-3.8\\sklearn\\neighbors\n",
      "  copying sklearn\\neighbors\\regression.py -> build\\lib.win-amd64-3.8\\sklearn\\neighbors\n",
      "  copying sklearn\\neighbors\\setup.py -> build\\lib.win-amd64-3.8\\sklearn\\neighbors\n",
      "  copying sklearn\\neighbors\\unsupervised.py -> build\\lib.win-amd64-3.8\\sklearn\\neighbors\n",
      "  copying sklearn\\neighbors\\__init__.py -> build\\lib.win-amd64-3.8\\sklearn\\neighbors\n",
      "  creating build\\lib.win-amd64-3.8\\sklearn\\neighbors\\tests\n",
      "  copying sklearn\\neighbors\\tests\\test_approximate.py -> build\\lib.win-amd64-3.8\\sklearn\\neighbors\\tests\n",
      "  copying sklearn\\neighbors\\tests\\test_ball_tree.py -> build\\lib.win-amd64-3.8\\sklearn\\neighbors\\tests\n",
      "  copying sklearn\\neighbors\\tests\\test_dist_metrics.py -> build\\lib.win-amd64-3.8\\sklearn\\neighbors\\tests\n",
      "  copying sklearn\\neighbors\\tests\\test_kde.py -> build\\lib.win-amd64-3.8\\sklearn\\neighbors\\tests\n",
      "  copying sklearn\\neighbors\\tests\\test_kd_tree.py -> build\\lib.win-amd64-3.8\\sklearn\\neighbors\\tests\n",
      "  copying sklearn\\neighbors\\tests\\test_lof.py -> build\\lib.win-amd64-3.8\\sklearn\\neighbors\\tests\n",
      "  copying sklearn\\neighbors\\tests\\test_nearest_centroid.py -> build\\lib.win-amd64-3.8\\sklearn\\neighbors\\tests\n",
      "  copying sklearn\\neighbors\\tests\\test_neighbors.py -> build\\lib.win-amd64-3.8\\sklearn\\neighbors\\tests\n",
      "  copying sklearn\\neighbors\\tests\\test_quad_tree.py -> build\\lib.win-amd64-3.8\\sklearn\\neighbors\\tests\n",
      "  copying sklearn\\neighbors\\tests\\__init__.py -> build\\lib.win-amd64-3.8\\sklearn\\neighbors\\tests\n",
      "  creating build\\lib.win-amd64-3.8\\sklearn\\tree\n",
      "  copying sklearn\\tree\\export.py -> build\\lib.win-amd64-3.8\\sklearn\\tree\n",
      "  copying sklearn\\tree\\setup.py -> build\\lib.win-amd64-3.8\\sklearn\\tree\n",
      "  copying sklearn\\tree\\tree.py -> build\\lib.win-amd64-3.8\\sklearn\\tree\n",
      "  copying sklearn\\tree\\__init__.py -> build\\lib.win-amd64-3.8\\sklearn\\tree\n",
      "  creating build\\lib.win-amd64-3.8\\sklearn\\tree\\tests\n",
      "  copying sklearn\\tree\\tests\\test_export.py -> build\\lib.win-amd64-3.8\\sklearn\\tree\\tests\n",
      "  copying sklearn\\tree\\tests\\test_tree.py -> build\\lib.win-amd64-3.8\\sklearn\\tree\\tests\n",
      "  copying sklearn\\tree\\tests\\__init__.py -> build\\lib.win-amd64-3.8\\sklearn\\tree\\tests\n",
      "  creating build\\lib.win-amd64-3.8\\sklearn\\svm\n",
      "  copying sklearn\\svm\\base.py -> build\\lib.win-amd64-3.8\\sklearn\\svm\n",
      "  copying sklearn\\svm\\bounds.py -> build\\lib.win-amd64-3.8\\sklearn\\svm\n",
      "  copying sklearn\\svm\\classes.py -> build\\lib.win-amd64-3.8\\sklearn\\svm\n",
      "  copying sklearn\\svm\\setup.py -> build\\lib.win-amd64-3.8\\sklearn\\svm\n",
      "  copying sklearn\\svm\\__init__.py -> build\\lib.win-amd64-3.8\\sklearn\\svm\n",
      "  creating build\\lib.win-amd64-3.8\\sklearn\\svm\\tests\n",
      "  copying sklearn\\svm\\tests\\test_bounds.py -> build\\lib.win-amd64-3.8\\sklearn\\svm\\tests\n",
      "  copying sklearn\\svm\\tests\\test_sparse.py -> build\\lib.win-amd64-3.8\\sklearn\\svm\\tests\n",
      "  copying sklearn\\svm\\tests\\test_svm.py -> build\\lib.win-amd64-3.8\\sklearn\\svm\\tests\n",
      "  copying sklearn\\svm\\tests\\__init__.py -> build\\lib.win-amd64-3.8\\sklearn\\svm\\tests\n",
      "  creating build\\lib.win-amd64-3.8\\sklearn\\linear_model\n",
      "  copying sklearn\\linear_model\\base.py -> build\\lib.win-amd64-3.8\\sklearn\\linear_model\n",
      "  copying sklearn\\linear_model\\bayes.py -> build\\lib.win-amd64-3.8\\sklearn\\linear_model\n",
      "  copying sklearn\\linear_model\\coordinate_descent.py -> build\\lib.win-amd64-3.8\\sklearn\\linear_model\n",
      "  copying sklearn\\linear_model\\huber.py -> build\\lib.win-amd64-3.8\\sklearn\\linear_model\n",
      "  copying sklearn\\linear_model\\least_angle.py -> build\\lib.win-amd64-3.8\\sklearn\\linear_model\n",
      "  copying sklearn\\linear_model\\logistic.py -> build\\lib.win-amd64-3.8\\sklearn\\linear_model\n",
      "  copying sklearn\\linear_model\\omp.py -> build\\lib.win-amd64-3.8\\sklearn\\linear_model\n",
      "  copying sklearn\\linear_model\\passive_aggressive.py -> build\\lib.win-amd64-3.8\\sklearn\\linear_model\n",
      "  copying sklearn\\linear_model\\perceptron.py -> build\\lib.win-amd64-3.8\\sklearn\\linear_model\n",
      "  copying sklearn\\linear_model\\randomized_l1.py -> build\\lib.win-amd64-3.8\\sklearn\\linear_model\n",
      "  copying sklearn\\linear_model\\ransac.py -> build\\lib.win-amd64-3.8\\sklearn\\linear_model\n",
      "  copying sklearn\\linear_model\\ridge.py -> build\\lib.win-amd64-3.8\\sklearn\\linear_model\n",
      "  copying sklearn\\linear_model\\sag.py -> build\\lib.win-amd64-3.8\\sklearn\\linear_model\n",
      "  copying sklearn\\linear_model\\setup.py -> build\\lib.win-amd64-3.8\\sklearn\\linear_model\n",
      "  copying sklearn\\linear_model\\stochastic_gradient.py -> build\\lib.win-amd64-3.8\\sklearn\\linear_model\n",
      "  copying sklearn\\linear_model\\theil_sen.py -> build\\lib.win-amd64-3.8\\sklearn\\linear_model\n",
      "  copying sklearn\\linear_model\\__init__.py -> build\\lib.win-amd64-3.8\\sklearn\\linear_model\n",
      "  creating build\\lib.win-amd64-3.8\\sklearn\\linear_model\\tests\n",
      "  copying sklearn\\linear_model\\tests\\test_base.py -> build\\lib.win-amd64-3.8\\sklearn\\linear_model\\tests\n",
      "  copying sklearn\\linear_model\\tests\\test_bayes.py -> build\\lib.win-amd64-3.8\\sklearn\\linear_model\\tests\n",
      "  copying sklearn\\linear_model\\tests\\test_coordinate_descent.py -> build\\lib.win-amd64-3.8\\sklearn\\linear_model\\tests\n",
      "  copying sklearn\\linear_model\\tests\\test_huber.py -> build\\lib.win-amd64-3.8\\sklearn\\linear_model\\tests\n",
      "  copying sklearn\\linear_model\\tests\\test_least_angle.py -> build\\lib.win-amd64-3.8\\sklearn\\linear_model\\tests\n",
      "  copying sklearn\\linear_model\\tests\\test_logistic.py -> build\\lib.win-amd64-3.8\\sklearn\\linear_model\\tests\n",
      "  copying sklearn\\linear_model\\tests\\test_omp.py -> build\\lib.win-amd64-3.8\\sklearn\\linear_model\\tests\n",
      "  copying sklearn\\linear_model\\tests\\test_passive_aggressive.py -> build\\lib.win-amd64-3.8\\sklearn\\linear_model\\tests\n",
      "  copying sklearn\\linear_model\\tests\\test_perceptron.py -> build\\lib.win-amd64-3.8\\sklearn\\linear_model\\tests\n",
      "  copying sklearn\\linear_model\\tests\\test_randomized_l1.py -> build\\lib.win-amd64-3.8\\sklearn\\linear_model\\tests\n",
      "  copying sklearn\\linear_model\\tests\\test_ransac.py -> build\\lib.win-amd64-3.8\\sklearn\\linear_model\\tests\n",
      "  copying sklearn\\linear_model\\tests\\test_ridge.py -> build\\lib.win-amd64-3.8\\sklearn\\linear_model\\tests\n",
      "  copying sklearn\\linear_model\\tests\\test_sag.py -> build\\lib.win-amd64-3.8\\sklearn\\linear_model\\tests\n",
      "  copying sklearn\\linear_model\\tests\\test_sgd.py -> build\\lib.win-amd64-3.8\\sklearn\\linear_model\\tests\n",
      "  copying sklearn\\linear_model\\tests\\test_sparse_coordinate_descent.py -> build\\lib.win-amd64-3.8\\sklearn\\linear_model\\tests\n",
      "  copying sklearn\\linear_model\\tests\\test_theil_sen.py -> build\\lib.win-amd64-3.8\\sklearn\\linear_model\\tests\n",
      "  copying sklearn\\linear_model\\tests\\__init__.py -> build\\lib.win-amd64-3.8\\sklearn\\linear_model\\tests\n",
      "  creating build\\lib.win-amd64-3.8\\sklearn\\utils\n",
      "  copying sklearn\\utils\\arpack.py -> build\\lib.win-amd64-3.8\\sklearn\\utils\n",
      "  copying sklearn\\utils\\bench.py -> build\\lib.win-amd64-3.8\\sklearn\\utils\n",
      "  copying sklearn\\utils\\class_weight.py -> build\\lib.win-amd64-3.8\\sklearn\\utils\n",
      "  copying sklearn\\utils\\deprecation.py -> build\\lib.win-amd64-3.8\\sklearn\\utils\n",
      "  copying sklearn\\utils\\estimator_checks.py -> build\\lib.win-amd64-3.8\\sklearn\\utils\n",
      "  copying sklearn\\utils\\extmath.py -> build\\lib.win-amd64-3.8\\sklearn\\utils\n",
      "  copying sklearn\\utils\\fixes.py -> build\\lib.win-amd64-3.8\\sklearn\\utils\n",
      "  copying sklearn\\utils\\graph.py -> build\\lib.win-amd64-3.8\\sklearn\\utils\n",
      "  copying sklearn\\utils\\linear_assignment_.py -> build\\lib.win-amd64-3.8\\sklearn\\utils\n",
      "  copying sklearn\\utils\\metaestimators.py -> build\\lib.win-amd64-3.8\\sklearn\\utils\n",
      "  copying sklearn\\utils\\mocking.py -> build\\lib.win-amd64-3.8\\sklearn\\utils\n",
      "  copying sklearn\\utils\\multiclass.py -> build\\lib.win-amd64-3.8\\sklearn\\utils\n",
      "  copying sklearn\\utils\\optimize.py -> build\\lib.win-amd64-3.8\\sklearn\\utils\n",
      "  copying sklearn\\utils\\random.py -> build\\lib.win-amd64-3.8\\sklearn\\utils\n",
      "  copying sklearn\\utils\\setup.py -> build\\lib.win-amd64-3.8\\sklearn\\utils\n",
      "  copying sklearn\\utils\\sparsefuncs.py -> build\\lib.win-amd64-3.8\\sklearn\\utils\n",
      "  copying sklearn\\utils\\stats.py -> build\\lib.win-amd64-3.8\\sklearn\\utils\n",
      "  copying sklearn\\utils\\testing.py -> build\\lib.win-amd64-3.8\\sklearn\\utils\n",
      "  copying sklearn\\utils\\validation.py -> build\\lib.win-amd64-3.8\\sklearn\\utils\n",
      "  copying sklearn\\utils\\_joblib.py -> build\\lib.win-amd64-3.8\\sklearn\\utils\n",
      "  copying sklearn\\utils\\_scipy_sparse_lsqr_backport.py -> build\\lib.win-amd64-3.8\\sklearn\\utils\n",
      "  copying sklearn\\utils\\_show_versions.py -> build\\lib.win-amd64-3.8\\sklearn\\utils\n",
      "  copying sklearn\\utils\\_unittest_backport.py -> build\\lib.win-amd64-3.8\\sklearn\\utils\n",
      "  copying sklearn\\utils\\__init__.py -> build\\lib.win-amd64-3.8\\sklearn\\utils\n",
      "  creating build\\lib.win-amd64-3.8\\sklearn\\utils\\sparsetools\n",
      "  copying sklearn\\utils\\sparsetools\\setup.py -> build\\lib.win-amd64-3.8\\sklearn\\utils\\sparsetools\n",
      "  copying sklearn\\utils\\sparsetools\\__init__.py -> build\\lib.win-amd64-3.8\\sklearn\\utils\\sparsetools\n",
      "  creating build\\lib.win-amd64-3.8\\sklearn\\utils\\sparsetools\\tests\n",
      "  copying sklearn\\utils\\sparsetools\\tests\\__init__.py -> build\\lib.win-amd64-3.8\\sklearn\\utils\\sparsetools\\tests\n",
      "  creating build\\lib.win-amd64-3.8\\sklearn\\utils\\tests\n",
      "  copying sklearn\\utils\\tests\\test_bench.py -> build\\lib.win-amd64-3.8\\sklearn\\utils\\tests\n",
      "  copying sklearn\\utils\\tests\\test_class_weight.py -> build\\lib.win-amd64-3.8\\sklearn\\utils\\tests\n",
      "  copying sklearn\\utils\\tests\\test_deprecation.py -> build\\lib.win-amd64-3.8\\sklearn\\utils\\tests\n",
      "  copying sklearn\\utils\\tests\\test_estimator_checks.py -> build\\lib.win-amd64-3.8\\sklearn\\utils\\tests\n",
      "  copying sklearn\\utils\\tests\\test_extmath.py -> build\\lib.win-amd64-3.8\\sklearn\\utils\\tests\n",
      "  copying sklearn\\utils\\tests\\test_fast_dict.py -> build\\lib.win-amd64-3.8\\sklearn\\utils\\tests\n",
      "  copying sklearn\\utils\\tests\\test_fixes.py -> build\\lib.win-amd64-3.8\\sklearn\\utils\\tests\n",
      "  copying sklearn\\utils\\tests\\test_graph.py -> build\\lib.win-amd64-3.8\\sklearn\\utils\\tests\n",
      "  copying sklearn\\utils\\tests\\test_linear_assignment.py -> build\\lib.win-amd64-3.8\\sklearn\\utils\\tests\n",
      "  copying sklearn\\utils\\tests\\test_metaestimators.py -> build\\lib.win-amd64-3.8\\sklearn\\utils\\tests\n",
      "  copying sklearn\\utils\\tests\\test_multiclass.py -> build\\lib.win-amd64-3.8\\sklearn\\utils\\tests\n",
      "  copying sklearn\\utils\\tests\\test_murmurhash.py -> build\\lib.win-amd64-3.8\\sklearn\\utils\\tests\n",
      "  copying sklearn\\utils\\tests\\test_optimize.py -> build\\lib.win-amd64-3.8\\sklearn\\utils\\tests\n",
      "  copying sklearn\\utils\\tests\\test_random.py -> build\\lib.win-amd64-3.8\\sklearn\\utils\\tests\n",
      "  copying sklearn\\utils\\tests\\test_seq_dataset.py -> build\\lib.win-amd64-3.8\\sklearn\\utils\\tests\n",
      "  copying sklearn\\utils\\tests\\test_shortest_path.py -> build\\lib.win-amd64-3.8\\sklearn\\utils\\tests\n",
      "  copying sklearn\\utils\\tests\\test_show_versions.py -> build\\lib.win-amd64-3.8\\sklearn\\utils\\tests\n",
      "  copying sklearn\\utils\\tests\\test_sparsefuncs.py -> build\\lib.win-amd64-3.8\\sklearn\\utils\\tests\n",
      "  copying sklearn\\utils\\tests\\test_stats.py -> build\\lib.win-amd64-3.8\\sklearn\\utils\\tests\n",
      "  copying sklearn\\utils\\tests\\test_testing.py -> build\\lib.win-amd64-3.8\\sklearn\\utils\\tests\n",
      "  copying sklearn\\utils\\tests\\test_utils.py -> build\\lib.win-amd64-3.8\\sklearn\\utils\\tests\n",
      "  copying sklearn\\utils\\tests\\test_validation.py -> build\\lib.win-amd64-3.8\\sklearn\\utils\\tests\n",
      "  copying sklearn\\utils\\tests\\__init__.py -> build\\lib.win-amd64-3.8\\sklearn\\utils\\tests\n",
      "  creating build\\lib.win-amd64-3.8\\sklearn\\tests\n",
      "  copying sklearn\\tests\\test_base.py -> build\\lib.win-amd64-3.8\\sklearn\\tests\n",
      "  copying sklearn\\tests\\test_calibration.py -> build\\lib.win-amd64-3.8\\sklearn\\tests\n",
      "  copying sklearn\\tests\\test_check_build.py -> build\\lib.win-amd64-3.8\\sklearn\\tests\n",
      "  copying sklearn\\tests\\test_common.py -> build\\lib.win-amd64-3.8\\sklearn\\tests\n",
      "  copying sklearn\\tests\\test_config.py -> build\\lib.win-amd64-3.8\\sklearn\\tests\n",
      "  copying sklearn\\tests\\test_discriminant_analysis.py -> build\\lib.win-amd64-3.8\\sklearn\\tests\n",
      "  copying sklearn\\tests\\test_docstring_parameters.py -> build\\lib.win-amd64-3.8\\sklearn\\tests\n",
      "  copying sklearn\\tests\\test_dummy.py -> build\\lib.win-amd64-3.8\\sklearn\\tests\n",
      "  copying sklearn\\tests\\test_impute.py -> build\\lib.win-amd64-3.8\\sklearn\\tests\n",
      "  copying sklearn\\tests\\test_init.py -> build\\lib.win-amd64-3.8\\sklearn\\tests\n",
      "  copying sklearn\\tests\\test_isotonic.py -> build\\lib.win-amd64-3.8\\sklearn\\tests\n",
      "  copying sklearn\\tests\\test_kernel_approximation.py -> build\\lib.win-amd64-3.8\\sklearn\\tests\n",
      "  copying sklearn\\tests\\test_kernel_ridge.py -> build\\lib.win-amd64-3.8\\sklearn\\tests\n",
      "  copying sklearn\\tests\\test_metaestimators.py -> build\\lib.win-amd64-3.8\\sklearn\\tests\n",
      "  copying sklearn\\tests\\test_multiclass.py -> build\\lib.win-amd64-3.8\\sklearn\\tests\n",
      "  copying sklearn\\tests\\test_multioutput.py -> build\\lib.win-amd64-3.8\\sklearn\\tests\n",
      "  copying sklearn\\tests\\test_naive_bayes.py -> build\\lib.win-amd64-3.8\\sklearn\\tests\n",
      "  copying sklearn\\tests\\test_pipeline.py -> build\\lib.win-amd64-3.8\\sklearn\\tests\n",
      "  copying sklearn\\tests\\test_random_projection.py -> build\\lib.win-amd64-3.8\\sklearn\\tests\n",
      "  copying sklearn\\tests\\test_site_joblib.py -> build\\lib.win-amd64-3.8\\sklearn\\tests\n",
      "  copying sklearn\\tests\\__init__.py -> build\\lib.win-amd64-3.8\\sklearn\\tests\n",
      "  running build_clib\n",
      "  No module named 'numpy.distutils._msvccompiler' in numpy.distutils; trying from distutils\n",
      "  customize MSVCCompiler\n",
      "  Missing compiler_cxx fix for MSVCCompiler\n",
      "  customize MSVCCompiler using build_clib\n",
      "  building 'libsvm-skl' library\n",
      "  compiling C sources\n",
      "  error: Microsoft Visual C++ 14.0 or greater is required. Get it with \"Microsoft C++ Build Tools\": https://visualstudio.microsoft.com/visual-cpp-build-tools/\n",
      "  ----------------------------------------\n",
      "  ERROR: Failed building wheel for scikit-learn\n",
      "    ERROR: Command errored out with exit status 1:\n",
      "     command: 'C:\\Users\\Vithep\\anaconda3\\python.exe' -u -c 'import sys, setuptools, tokenize; sys.argv[0] = '\"'\"'C:\\\\Users\\\\Vithep\\\\AppData\\\\Local\\\\Temp\\\\pip-install-6f6fiwqw\\\\scikit-learn\\\\setup.py'\"'\"'; __file__='\"'\"'C:\\\\Users\\\\Vithep\\\\AppData\\\\Local\\\\Temp\\\\pip-install-6f6fiwqw\\\\scikit-learn\\\\setup.py'\"'\"';f=getattr(tokenize, '\"'\"'open'\"'\"', open)(__file__);code=f.read().replace('\"'\"'\\r\\n'\"'\"', '\"'\"'\\n'\"'\"');f.close();exec(compile(code, __file__, '\"'\"'exec'\"'\"'))' install --record 'C:\\Users\\Vithep\\AppData\\Local\\Temp\\pip-record-w5_700wa\\install-record.txt' --single-version-externally-managed --compile --install-headers 'C:\\Users\\Vithep\\anaconda3\\Include\\scikit-learn'\n",
      "         cwd: C:\\Users\\Vithep\\AppData\\Local\\Temp\\pip-install-6f6fiwqw\\scikit-learn\\\n",
      "    Complete output (678 lines):\n",
      "    Partial import of sklearn during the build process.\n",
      "    blas_opt_info:\n",
      "    blas_mkl_info:\n",
      "    No module named 'numpy.distutils._msvccompiler' in numpy.distutils; trying from distutils\n",
      "    customize MSVCCompiler\n",
      "      libraries mkl_rt not found in ['C:/Users/Vithep/anaconda3\\\\Library\\\\lib']\n",
      "      NOT AVAILABLE\n",
      "    \n",
      "    blis_info:\n",
      "      libraries blis not found in ['C:\\\\Users\\\\Vithep\\\\anaconda3\\\\lib', 'C:\\\\', 'C:\\\\Users\\\\Vithep\\\\anaconda3\\\\libs']\n",
      "      NOT AVAILABLE\n",
      "    \n",
      "    openblas_info:\n",
      "      libraries openblas not found in ['C:\\\\Users\\\\Vithep\\\\anaconda3\\\\lib', 'C:\\\\', 'C:\\\\Users\\\\Vithep\\\\anaconda3\\\\libs']\n",
      "    get_default_fcompiler: matching types: '['gnu', 'intelv', 'absoft', 'compaqv', 'intelev', 'gnu95', 'g95', 'intelvem', 'intelem', 'flang']'\n",
      "    customize GnuFCompiler\n",
      "    Could not locate executable g77\n",
      "    Could not locate executable f77\n",
      "    customize IntelVisualFCompiler\n",
      "    Could not locate executable ifort\n",
      "    Could not locate executable ifl\n",
      "    customize AbsoftFCompiler\n",
      "    Could not locate executable f90\n",
      "    customize CompaqVisualFCompiler\n",
      "    Could not locate executable DF\n",
      "    customize IntelItaniumVisualFCompiler\n",
      "    Could not locate executable efl\n",
      "    customize Gnu95FCompiler\n",
      "    Could not locate executable gfortran\n",
      "    Could not locate executable f95\n",
      "    customize G95FCompiler\n",
      "    Could not locate executable g95\n",
      "    customize IntelEM64VisualFCompiler\n",
      "    customize IntelEM64TFCompiler\n",
      "    Could not locate executable efort\n",
      "    Could not locate executable efc\n",
      "    customize PGroupFlangCompiler\n",
      "    Could not locate executable flang\n",
      "    don't know how to compile Fortran code on platform 'nt'\n",
      "      NOT AVAILABLE\n",
      "    \n",
      "    atlas_3_10_blas_threads_info:\n",
      "    Setting PTATLAS=ATLAS\n",
      "      libraries tatlas not found in ['C:\\\\Users\\\\Vithep\\\\anaconda3\\\\lib', 'C:\\\\', 'C:\\\\Users\\\\Vithep\\\\anaconda3\\\\libs']\n",
      "      NOT AVAILABLE\n",
      "    \n",
      "    atlas_3_10_blas_info:\n",
      "      libraries satlas not found in ['C:\\\\Users\\\\Vithep\\\\anaconda3\\\\lib', 'C:\\\\', 'C:\\\\Users\\\\Vithep\\\\anaconda3\\\\libs']\n",
      "      NOT AVAILABLE\n",
      "    \n",
      "    atlas_blas_threads_info:\n",
      "    Setting PTATLAS=ATLAS\n",
      "      libraries ptf77blas,ptcblas,atlas not found in ['C:\\\\Users\\\\Vithep\\\\anaconda3\\\\lib', 'C:\\\\', 'C:\\\\Users\\\\Vithep\\\\anaconda3\\\\libs']\n",
      "      NOT AVAILABLE\n",
      "    \n",
      "    atlas_blas_info:\n",
      "      libraries f77blas,cblas,atlas not found in ['C:\\\\Users\\\\Vithep\\\\anaconda3\\\\lib', 'C:\\\\', 'C:\\\\Users\\\\Vithep\\\\anaconda3\\\\libs']\n",
      "      NOT AVAILABLE\n",
      "    \n",
      "    accelerate_info:\n",
      "      NOT AVAILABLE\n",
      "    \n",
      "    C:\\Users\\Vithep\\anaconda3\\lib\\site-packages\\numpy\\distutils\\system_info.py:1914: UserWarning:\n",
      "        Optimized (vendor) Blas libraries are not found.\n",
      "        Falls back to netlib Blas library which has worse performance.\n",
      "        A better performance should be easily gained by switching\n",
      "        Blas library.\n",
      "      if self._calc_info(blas):\n",
      "    blas_info:\n",
      "      libraries blas not found in ['C:\\\\Users\\\\Vithep\\\\anaconda3\\\\lib', 'C:\\\\', 'C:\\\\Users\\\\Vithep\\\\anaconda3\\\\libs']\n",
      "      NOT AVAILABLE\n",
      "    \n",
      "    C:\\Users\\Vithep\\anaconda3\\lib\\site-packages\\numpy\\distutils\\system_info.py:1914: UserWarning:\n",
      "        Blas (http://www.netlib.org/blas/) libraries not found.\n",
      "        Directories to search for the libraries can be specified in the\n",
      "        numpy/distutils/site.cfg file (section [blas]) or by setting\n",
      "        the BLAS environment variable.\n",
      "      if self._calc_info(blas):\n",
      "    blas_src_info:\n",
      "      NOT AVAILABLE\n",
      "    \n",
      "    C:\\Users\\Vithep\\anaconda3\\lib\\site-packages\\numpy\\distutils\\system_info.py:1914: UserWarning:\n",
      "        Blas (http://www.netlib.org/blas/) sources not found.\n",
      "        Directories to search for the sources can be specified in the\n",
      "        numpy/distutils/site.cfg file (section [blas_src]) or by setting\n",
      "        the BLAS_SRC environment variable.\n",
      "      if self._calc_info(blas):\n",
      "      NOT AVAILABLE\n",
      "    \n",
      "    sklearn\\setup.py:73: UserWarning:\n",
      "        Blas (http://www.netlib.org/blas/) libraries not found.\n",
      "        Directories to search for the libraries can be specified in the\n",
      "        numpy/distutils/site.cfg file (section [blas]) or by setting\n",
      "        the BLAS environment variable.\n",
      "      warnings.warn(BlasNotFoundError.__doc__)\n",
      "    running install\n",
      "    running build\n",
      "    running config_cc\n",
      "    unifing config_cc, config, build_clib, build_ext, build commands --compiler options\n",
      "    running config_fc\n",
      "    unifing config_fc, config, build_clib, build_ext, build commands --fcompiler options\n",
      "    running build_src\n",
      "    build_src\n",
      "    building library \"libsvm-skl\" sources\n",
      "    building library \"cblas\" sources\n",
      "    building extension \"sklearn.__check_build._check_build\" sources\n",
      "    building extension \"sklearn.cluster._dbscan_inner\" sources\n",
      "    building extension \"sklearn.cluster._hierarchical\" sources\n",
      "    building extension \"sklearn.cluster._k_means_elkan\" sources\n",
      "    building extension \"sklearn.cluster._k_means\" sources\n",
      "    building extension \"sklearn.datasets._svmlight_format\" sources\n",
      "    building extension \"sklearn.decomposition._online_lda\" sources\n",
      "    building extension \"sklearn.decomposition.cdnmf_fast\" sources\n",
      "    building extension \"sklearn.ensemble._gradient_boosting\" sources\n",
      "    building extension \"sklearn.feature_extraction._hashing\" sources\n",
      "    building extension \"sklearn.manifold._utils\" sources\n",
      "    building extension \"sklearn.manifold._barnes_hut_tsne\" sources\n",
      "    building extension \"sklearn.metrics.cluster.expected_mutual_info_fast\" sources\n",
      "    building extension \"sklearn.metrics.pairwise_fast\" sources\n",
      "    building extension \"sklearn.neighbors.ball_tree\" sources\n",
      "    building extension \"sklearn.neighbors.kd_tree\" sources\n",
      "    building extension \"sklearn.neighbors.dist_metrics\" sources\n",
      "    building extension \"sklearn.neighbors.typedefs\" sources\n",
      "    building extension \"sklearn.neighbors.quad_tree\" sources\n",
      "    building extension \"sklearn.tree._tree\" sources\n",
      "    building extension \"sklearn.tree._splitter\" sources\n",
      "    building extension \"sklearn.tree._criterion\" sources\n",
      "    building extension \"sklearn.tree._utils\" sources\n",
      "    building extension \"sklearn.svm.libsvm\" sources\n",
      "    building extension \"sklearn.svm.liblinear\" sources\n",
      "    building extension \"sklearn.svm.libsvm_sparse\" sources\n",
      "    building extension \"sklearn._isotonic\" sources\n",
      "    building extension \"sklearn.linear_model.cd_fast\" sources\n",
      "    building extension \"sklearn.linear_model.sgd_fast\" sources\n",
      "    building extension \"sklearn.linear_model.sag_fast\" sources\n",
      "    building extension \"sklearn.utils.sparsefuncs_fast\" sources\n",
      "    building extension \"sklearn.utils.arrayfuncs\" sources\n",
      "    building extension \"sklearn.utils.murmurhash\" sources\n",
      "    building extension \"sklearn.utils.lgamma\" sources\n",
      "    building extension \"sklearn.utils.graph_shortest_path\" sources\n",
      "    building extension \"sklearn.utils.fast_dict\" sources\n",
      "    building extension \"sklearn.utils.seq_dataset\" sources\n",
      "    building extension \"sklearn.utils.weight_vector\" sources\n",
      "    building extension \"sklearn.utils._random\" sources\n",
      "    building extension \"sklearn.utils._logistic_sigmoid\" sources\n",
      "    building data_files sources\n",
      "    build_src: building npy-pkg config files\n",
      "    running build_py\n",
      "    creating build\n",
      "    creating build\\lib.win-amd64-3.8\n",
      "    creating build\\lib.win-amd64-3.8\\sklearn\n",
      "    copying sklearn\\base.py -> build\\lib.win-amd64-3.8\\sklearn\n",
      "    copying sklearn\\calibration.py -> build\\lib.win-amd64-3.8\\sklearn\n",
      "    copying sklearn\\discriminant_analysis.py -> build\\lib.win-amd64-3.8\\sklearn\n",
      "    copying sklearn\\dummy.py -> build\\lib.win-amd64-3.8\\sklearn\n",
      "    copying sklearn\\exceptions.py -> build\\lib.win-amd64-3.8\\sklearn\n",
      "    copying sklearn\\impute.py -> build\\lib.win-amd64-3.8\\sklearn\n",
      "    copying sklearn\\isotonic.py -> build\\lib.win-amd64-3.8\\sklearn\n",
      "    copying sklearn\\kernel_approximation.py -> build\\lib.win-amd64-3.8\\sklearn\n",
      "    copying sklearn\\kernel_ridge.py -> build\\lib.win-amd64-3.8\\sklearn\n",
      "    copying sklearn\\multiclass.py -> build\\lib.win-amd64-3.8\\sklearn\n",
      "    copying sklearn\\multioutput.py -> build\\lib.win-amd64-3.8\\sklearn\n",
      "    copying sklearn\\naive_bayes.py -> build\\lib.win-amd64-3.8\\sklearn\n",
      "    copying sklearn\\pipeline.py -> build\\lib.win-amd64-3.8\\sklearn\n",
      "    copying sklearn\\random_projection.py -> build\\lib.win-amd64-3.8\\sklearn\n",
      "    copying sklearn\\setup.py -> build\\lib.win-amd64-3.8\\sklearn\n",
      "    copying sklearn\\_config.py -> build\\lib.win-amd64-3.8\\sklearn\n",
      "    copying sklearn\\__init__.py -> build\\lib.win-amd64-3.8\\sklearn\n",
      "    creating build\\lib.win-amd64-3.8\\sklearn\\__check_build\n",
      "    copying sklearn\\__check_build\\setup.py -> build\\lib.win-amd64-3.8\\sklearn\\__check_build\n",
      "    copying sklearn\\__check_build\\__init__.py -> build\\lib.win-amd64-3.8\\sklearn\\__check_build\n",
      "    creating build\\lib.win-amd64-3.8\\sklearn\\_build_utils\n",
      "    copying sklearn\\_build_utils\\__init__.py -> build\\lib.win-amd64-3.8\\sklearn\\_build_utils\n",
      "    creating build\\lib.win-amd64-3.8\\sklearn\\compose\n",
      "    copying sklearn\\compose\\_column_transformer.py -> build\\lib.win-amd64-3.8\\sklearn\\compose\n",
      "    copying sklearn\\compose\\_target.py -> build\\lib.win-amd64-3.8\\sklearn\\compose\n",
      "    copying sklearn\\compose\\__init__.py -> build\\lib.win-amd64-3.8\\sklearn\\compose\n",
      "    creating build\\lib.win-amd64-3.8\\sklearn\\compose\\tests\n",
      "    copying sklearn\\compose\\tests\\test_column_transformer.py -> build\\lib.win-amd64-3.8\\sklearn\\compose/tests\n",
      "    copying sklearn\\compose\\tests\\test_target.py -> build\\lib.win-amd64-3.8\\sklearn\\compose/tests\n",
      "    copying sklearn\\compose\\tests\\__init__.py -> build\\lib.win-amd64-3.8\\sklearn\\compose/tests\n",
      "    creating build\\lib.win-amd64-3.8\\sklearn\\covariance\n",
      "    copying sklearn\\covariance\\elliptic_envelope.py -> build\\lib.win-amd64-3.8\\sklearn\\covariance\n",
      "    copying sklearn\\covariance\\empirical_covariance_.py -> build\\lib.win-amd64-3.8\\sklearn\\covariance\n",
      "    copying sklearn\\covariance\\graph_lasso_.py -> build\\lib.win-amd64-3.8\\sklearn\\covariance\n",
      "    copying sklearn\\covariance\\robust_covariance.py -> build\\lib.win-amd64-3.8\\sklearn\\covariance\n",
      "    copying sklearn\\covariance\\shrunk_covariance_.py -> build\\lib.win-amd64-3.8\\sklearn\\covariance\n",
      "    copying sklearn\\covariance\\__init__.py -> build\\lib.win-amd64-3.8\\sklearn\\covariance\n",
      "    creating build\\lib.win-amd64-3.8\\sklearn\\covariance\\tests\n",
      "    copying sklearn\\covariance\\tests\\test_covariance.py -> build\\lib.win-amd64-3.8\\sklearn\\covariance/tests\n",
      "    copying sklearn\\covariance\\tests\\test_elliptic_envelope.py -> build\\lib.win-amd64-3.8\\sklearn\\covariance/tests\n",
      "    copying sklearn\\covariance\\tests\\test_graphical_lasso.py -> build\\lib.win-amd64-3.8\\sklearn\\covariance/tests\n",
      "    copying sklearn\\covariance\\tests\\test_graph_lasso.py -> build\\lib.win-amd64-3.8\\sklearn\\covariance/tests\n",
      "    copying sklearn\\covariance\\tests\\test_robust_covariance.py -> build\\lib.win-amd64-3.8\\sklearn\\covariance/tests\n",
      "    copying sklearn\\covariance\\tests\\__init__.py -> build\\lib.win-amd64-3.8\\sklearn\\covariance/tests\n",
      "    creating build\\lib.win-amd64-3.8\\sklearn\\cross_decomposition\n",
      "    copying sklearn\\cross_decomposition\\cca_.py -> build\\lib.win-amd64-3.8\\sklearn\\cross_decomposition\n",
      "    copying sklearn\\cross_decomposition\\pls_.py -> build\\lib.win-amd64-3.8\\sklearn\\cross_decomposition\n",
      "    copying sklearn\\cross_decomposition\\__init__.py -> build\\lib.win-amd64-3.8\\sklearn\\cross_decomposition\n",
      "    creating build\\lib.win-amd64-3.8\\sklearn\\cross_decomposition\\tests\n",
      "    copying sklearn\\cross_decomposition\\tests\\test_pls.py -> build\\lib.win-amd64-3.8\\sklearn\\cross_decomposition/tests\n",
      "    copying sklearn\\cross_decomposition\\tests\\__init__.py -> build\\lib.win-amd64-3.8\\sklearn\\cross_decomposition/tests\n",
      "    creating build\\lib.win-amd64-3.8\\sklearn\\feature_selection\n",
      "    copying sklearn\\feature_selection\\base.py -> build\\lib.win-amd64-3.8\\sklearn\\feature_selection\n",
      "    copying sklearn\\feature_selection\\from_model.py -> build\\lib.win-amd64-3.8\\sklearn\\feature_selection\n",
      "    copying sklearn\\feature_selection\\mutual_info_.py -> build\\lib.win-amd64-3.8\\sklearn\\feature_selection\n",
      "    copying sklearn\\feature_selection\\rfe.py -> build\\lib.win-amd64-3.8\\sklearn\\feature_selection\n",
      "    copying sklearn\\feature_selection\\univariate_selection.py -> build\\lib.win-amd64-3.8\\sklearn\\feature_selection\n",
      "    copying sklearn\\feature_selection\\variance_threshold.py -> build\\lib.win-amd64-3.8\\sklearn\\feature_selection\n",
      "    copying sklearn\\feature_selection\\__init__.py -> build\\lib.win-amd64-3.8\\sklearn\\feature_selection\n",
      "    creating build\\lib.win-amd64-3.8\\sklearn\\feature_selection\\tests\n",
      "    copying sklearn\\feature_selection\\tests\\test_base.py -> build\\lib.win-amd64-3.8\\sklearn\\feature_selection/tests\n",
      "    copying sklearn\\feature_selection\\tests\\test_chi2.py -> build\\lib.win-amd64-3.8\\sklearn\\feature_selection/tests\n",
      "    copying sklearn\\feature_selection\\tests\\test_feature_select.py -> build\\lib.win-amd64-3.8\\sklearn\\feature_selection/tests\n",
      "    copying sklearn\\feature_selection\\tests\\test_from_model.py -> build\\lib.win-amd64-3.8\\sklearn\\feature_selection/tests\n",
      "    copying sklearn\\feature_selection\\tests\\test_mutual_info.py -> build\\lib.win-amd64-3.8\\sklearn\\feature_selection/tests\n",
      "    copying sklearn\\feature_selection\\tests\\test_rfe.py -> build\\lib.win-amd64-3.8\\sklearn\\feature_selection/tests\n",
      "    copying sklearn\\feature_selection\\tests\\test_variance_threshold.py -> build\\lib.win-amd64-3.8\\sklearn\\feature_selection/tests\n",
      "    copying sklearn\\feature_selection\\tests\\__init__.py -> build\\lib.win-amd64-3.8\\sklearn\\feature_selection/tests\n",
      "    creating build\\lib.win-amd64-3.8\\sklearn\\gaussian_process\n",
      "    copying sklearn\\gaussian_process\\correlation_models.py -> build\\lib.win-amd64-3.8\\sklearn\\gaussian_process\n",
      "    copying sklearn\\gaussian_process\\gpc.py -> build\\lib.win-amd64-3.8\\sklearn\\gaussian_process\n",
      "    copying sklearn\\gaussian_process\\gpr.py -> build\\lib.win-amd64-3.8\\sklearn\\gaussian_process\n",
      "    copying sklearn\\gaussian_process\\kernels.py -> build\\lib.win-amd64-3.8\\sklearn\\gaussian_process\n",
      "    copying sklearn\\gaussian_process\\regression_models.py -> build\\lib.win-amd64-3.8\\sklearn\\gaussian_process\n",
      "    copying sklearn\\gaussian_process\\__init__.py -> build\\lib.win-amd64-3.8\\sklearn\\gaussian_process\n",
      "    creating build\\lib.win-amd64-3.8\\sklearn\\gaussian_process\\tests\n",
      "    copying sklearn\\gaussian_process\\tests\\test_gpc.py -> build\\lib.win-amd64-3.8\\sklearn\\gaussian_process/tests\n",
      "    copying sklearn\\gaussian_process\\tests\\test_gpr.py -> build\\lib.win-amd64-3.8\\sklearn\\gaussian_process/tests\n",
      "    copying sklearn\\gaussian_process\\tests\\test_kernels.py -> build\\lib.win-amd64-3.8\\sklearn\\gaussian_process/tests\n",
      "    copying sklearn\\gaussian_process\\tests\\__init__.py -> build\\lib.win-amd64-3.8\\sklearn\\gaussian_process/tests\n",
      "    creating build\\lib.win-amd64-3.8\\sklearn\\mixture\n",
      "    copying sklearn\\mixture\\base.py -> build\\lib.win-amd64-3.8\\sklearn\\mixture\n",
      "    copying sklearn\\mixture\\bayesian_mixture.py -> build\\lib.win-amd64-3.8\\sklearn\\mixture\n",
      "    copying sklearn\\mixture\\gaussian_mixture.py -> build\\lib.win-amd64-3.8\\sklearn\\mixture\n",
      "    copying sklearn\\mixture\\__init__.py -> build\\lib.win-amd64-3.8\\sklearn\\mixture\n",
      "    creating build\\lib.win-amd64-3.8\\sklearn\\mixture\\tests\n",
      "    copying sklearn\\mixture\\tests\\test_bayesian_mixture.py -> build\\lib.win-amd64-3.8\\sklearn\\mixture/tests\n",
      "    copying sklearn\\mixture\\tests\\test_gaussian_mixture.py -> build\\lib.win-amd64-3.8\\sklearn\\mixture/tests\n",
      "    copying sklearn\\mixture\\tests\\test_mixture.py -> build\\lib.win-amd64-3.8\\sklearn\\mixture/tests\n",
      "    copying sklearn\\mixture\\tests\\__init__.py -> build\\lib.win-amd64-3.8\\sklearn\\mixture/tests\n",
      "    creating build\\lib.win-amd64-3.8\\sklearn\\model_selection\n",
      "    copying sklearn\\model_selection\\_search.py -> build\\lib.win-amd64-3.8\\sklearn\\model_selection\n"
     ]
    },
    {
     "ename": "ModuleNotFoundError",
     "evalue": "No module named 'sklearn.externals.six'",
     "output_type": "error",
     "traceback": [
      "\u001b[1;31m---------------------------------------------------------------------------\u001b[0m",
      "\u001b[1;31mModuleNotFoundError\u001b[0m                       Traceback (most recent call last)",
      "\u001b[1;32m<ipython-input-27-0fec906e6c56>\u001b[0m in \u001b[0;36m<module>\u001b[1;34m\u001b[0m\n\u001b[0;32m      1\u001b[0m \u001b[1;31m#impor das bibliotecas necessárias para realizar a visualização da árvore de decisão\u001b[0m\u001b[1;33m\u001b[0m\u001b[1;33m\u001b[0m\u001b[1;33m\u001b[0m\u001b[0m\n\u001b[0;32m      2\u001b[0m \u001b[1;32mfrom\u001b[0m \u001b[0msklearn\u001b[0m\u001b[1;33m.\u001b[0m\u001b[0mtree\u001b[0m \u001b[1;32mimport\u001b[0m \u001b[0mexport_graphviz\u001b[0m\u001b[1;33m\u001b[0m\u001b[1;33m\u001b[0m\u001b[0m\n\u001b[1;32m----> 3\u001b[1;33m \u001b[1;32mfrom\u001b[0m \u001b[0msklearn\u001b[0m\u001b[1;33m.\u001b[0m\u001b[0mexternals\u001b[0m\u001b[1;33m.\u001b[0m\u001b[0msix\u001b[0m \u001b[1;32mimport\u001b[0m \u001b[0mStringIO\u001b[0m\u001b[1;33m\u001b[0m\u001b[1;33m\u001b[0m\u001b[0m\n\u001b[0m\u001b[0;32m      4\u001b[0m \u001b[1;32mfrom\u001b[0m \u001b[0mIPython\u001b[0m\u001b[1;33m.\u001b[0m\u001b[0mdisplay\u001b[0m \u001b[1;32mimport\u001b[0m \u001b[0mImage\u001b[0m\u001b[1;33m\u001b[0m\u001b[1;33m\u001b[0m\u001b[0m\n\u001b[0;32m      5\u001b[0m \u001b[1;32mimport\u001b[0m \u001b[0mpydotplus\u001b[0m\u001b[1;33m\u001b[0m\u001b[1;33m\u001b[0m\u001b[0m\n",
      "\u001b[1;31mModuleNotFoundError\u001b[0m: No module named 'sklearn.externals.six'"
     ]
    },
    {
     "name": "stderr",
     "output_type": "stream",
     "text": [
      "    copying sklearn\\model_selection\\_split.py -> build\\lib.win-amd64-3.8\\sklearn\\model_selection\n",
      "    copying sklearn\\model_selection\\_validation.py -> build\\lib.win-amd64-3.8\\sklearn\\model_selection\n",
      "    copying sklearn\\model_selection\\__init__.py -> build\\lib.win-amd64-3.8\\sklearn\\model_selection\n",
      "    creating build\\lib.win-amd64-3.8\\sklearn\\model_selection\\tests\n",
      "    copying sklearn\\model_selection\\tests\\common.py -> build\\lib.win-amd64-3.8\\sklearn\\model_selection/tests\n",
      "    copying sklearn\\model_selection\\tests\\test_search.py -> build\\lib.win-amd64-3.8\\sklearn\\model_selection/tests\n",
      "    copying sklearn\\model_selection\\tests\\test_split.py -> build\\lib.win-amd64-3.8\\sklearn\\model_selection/tests\n",
      "    copying sklearn\\model_selection\\tests\\test_validation.py -> build\\lib.win-amd64-3.8\\sklearn\\model_selection/tests\n",
      "    copying sklearn\\model_selection\\tests\\__init__.py -> build\\lib.win-amd64-3.8\\sklearn\\model_selection/tests\n",
      "    creating build\\lib.win-amd64-3.8\\sklearn\\neural_network\n",
      "    copying sklearn\\neural_network\\multilayer_perceptron.py -> build\\lib.win-amd64-3.8\\sklearn\\neural_network\n",
      "    copying sklearn\\neural_network\\rbm.py -> build\\lib.win-amd64-3.8\\sklearn\\neural_network\n",
      "    copying sklearn\\neural_network\\_base.py -> build\\lib.win-amd64-3.8\\sklearn\\neural_network\n",
      "    copying sklearn\\neural_network\\_stochastic_optimizers.py -> build\\lib.win-amd64-3.8\\sklearn\\neural_network\n",
      "    copying sklearn\\neural_network\\__init__.py -> build\\lib.win-amd64-3.8\\sklearn\\neural_network\n",
      "    creating build\\lib.win-amd64-3.8\\sklearn\\neural_network\\tests\n",
      "    copying sklearn\\neural_network\\tests\\test_mlp.py -> build\\lib.win-amd64-3.8\\sklearn\\neural_network/tests\n",
      "    copying sklearn\\neural_network\\tests\\test_rbm.py -> build\\lib.win-amd64-3.8\\sklearn\\neural_network/tests\n",
      "    copying sklearn\\neural_network\\tests\\test_stochastic_optimizers.py -> build\\lib.win-amd64-3.8\\sklearn\\neural_network/tests\n",
      "    copying sklearn\\neural_network\\tests\\__init__.py -> build\\lib.win-amd64-3.8\\sklearn\\neural_network/tests\n",
      "    creating build\\lib.win-amd64-3.8\\sklearn\\preprocessing\n",
      "    copying sklearn\\preprocessing\\base.py -> build\\lib.win-amd64-3.8\\sklearn\\preprocessing\n",
      "    copying sklearn\\preprocessing\\data.py -> build\\lib.win-amd64-3.8\\sklearn\\preprocessing\n",
      "    copying sklearn\\preprocessing\\imputation.py -> build\\lib.win-amd64-3.8\\sklearn\\preprocessing\n",
      "    copying sklearn\\preprocessing\\label.py -> build\\lib.win-amd64-3.8\\sklearn\\preprocessing\n",
      "    copying sklearn\\preprocessing\\_discretization.py -> build\\lib.win-amd64-3.8\\sklearn\\preprocessing\n",
      "    copying sklearn\\preprocessing\\_encoders.py -> build\\lib.win-amd64-3.8\\sklearn\\preprocessing\n",
      "    copying sklearn\\preprocessing\\_function_transformer.py -> build\\lib.win-amd64-3.8\\sklearn\\preprocessing\n",
      "    copying sklearn\\preprocessing\\__init__.py -> build\\lib.win-amd64-3.8\\sklearn\\preprocessing\n",
      "    creating build\\lib.win-amd64-3.8\\sklearn\\preprocessing\\tests\n",
      "    copying sklearn\\preprocessing\\tests\\test_base.py -> build\\lib.win-amd64-3.8\\sklearn\\preprocessing/tests\n",
      "    copying sklearn\\preprocessing\\tests\\test_common.py -> build\\lib.win-amd64-3.8\\sklearn\\preprocessing/tests\n",
      "    copying sklearn\\preprocessing\\tests\\test_data.py -> build\\lib.win-amd64-3.8\\sklearn\\preprocessing/tests\n",
      "    copying sklearn\\preprocessing\\tests\\test_discretization.py -> build\\lib.win-amd64-3.8\\sklearn\\preprocessing/tests\n",
      "    copying sklearn\\preprocessing\\tests\\test_encoders.py -> build\\lib.win-amd64-3.8\\sklearn\\preprocessing/tests\n",
      "    copying sklearn\\preprocessing\\tests\\test_function_transformer.py -> build\\lib.win-amd64-3.8\\sklearn\\preprocessing/tests\n",
      "    copying sklearn\\preprocessing\\tests\\test_imputation.py -> build\\lib.win-amd64-3.8\\sklearn\\preprocessing/tests\n",
      "    copying sklearn\\preprocessing\\tests\\test_label.py -> build\\lib.win-amd64-3.8\\sklearn\\preprocessing/tests\n",
      "    copying sklearn\\preprocessing\\tests\\__init__.py -> build\\lib.win-amd64-3.8\\sklearn\\preprocessing/tests\n",
      "    creating build\\lib.win-amd64-3.8\\sklearn\\semi_supervised\n",
      "    copying sklearn\\semi_supervised\\label_propagation.py -> build\\lib.win-amd64-3.8\\sklearn\\semi_supervised\n",
      "    copying sklearn\\semi_supervised\\__init__.py -> build\\lib.win-amd64-3.8\\sklearn\\semi_supervised\n",
      "    creating build\\lib.win-amd64-3.8\\sklearn\\semi_supervised\\tests\n",
      "    copying sklearn\\semi_supervised\\tests\\test_label_propagation.py -> build\\lib.win-amd64-3.8\\sklearn\\semi_supervised/tests\n",
      "    copying sklearn\\semi_supervised\\tests\\__init__.py -> build\\lib.win-amd64-3.8\\sklearn\\semi_supervised/tests\n",
      "    creating build\\lib.win-amd64-3.8\\sklearn\\cluster\n",
      "    copying sklearn\\cluster\\affinity_propagation_.py -> build\\lib.win-amd64-3.8\\sklearn\\cluster\n",
      "    copying sklearn\\cluster\\bicluster.py -> build\\lib.win-amd64-3.8\\sklearn\\cluster\n",
      "    copying sklearn\\cluster\\birch.py -> build\\lib.win-amd64-3.8\\sklearn\\cluster\n",
      "    copying sklearn\\cluster\\dbscan_.py -> build\\lib.win-amd64-3.8\\sklearn\\cluster\n",
      "    copying sklearn\\cluster\\hierarchical.py -> build\\lib.win-amd64-3.8\\sklearn\\cluster\n",
      "    copying sklearn\\cluster\\k_means_.py -> build\\lib.win-amd64-3.8\\sklearn\\cluster\n",
      "    copying sklearn\\cluster\\mean_shift_.py -> build\\lib.win-amd64-3.8\\sklearn\\cluster\n",
      "    copying sklearn\\cluster\\setup.py -> build\\lib.win-amd64-3.8\\sklearn\\cluster\n",
      "    copying sklearn\\cluster\\spectral.py -> build\\lib.win-amd64-3.8\\sklearn\\cluster\n",
      "    copying sklearn\\cluster\\_feature_agglomeration.py -> build\\lib.win-amd64-3.8\\sklearn\\cluster\n",
      "    copying sklearn\\cluster\\__init__.py -> build\\lib.win-amd64-3.8\\sklearn\\cluster\n",
      "    creating build\\lib.win-amd64-3.8\\sklearn\\cluster\\tests\n",
      "    copying sklearn\\cluster\\tests\\common.py -> build\\lib.win-amd64-3.8\\sklearn\\cluster\\tests\n",
      "    copying sklearn\\cluster\\tests\\test_affinity_propagation.py -> build\\lib.win-amd64-3.8\\sklearn\\cluster\\tests\n",
      "    copying sklearn\\cluster\\tests\\test_bicluster.py -> build\\lib.win-amd64-3.8\\sklearn\\cluster\\tests\n",
      "    copying sklearn\\cluster\\tests\\test_birch.py -> build\\lib.win-amd64-3.8\\sklearn\\cluster\\tests\n",
      "    copying sklearn\\cluster\\tests\\test_dbscan.py -> build\\lib.win-amd64-3.8\\sklearn\\cluster\\tests\n",
      "    copying sklearn\\cluster\\tests\\test_feature_agglomeration.py -> build\\lib.win-amd64-3.8\\sklearn\\cluster\\tests\n",
      "    copying sklearn\\cluster\\tests\\test_hierarchical.py -> build\\lib.win-amd64-3.8\\sklearn\\cluster\\tests\n",
      "    copying sklearn\\cluster\\tests\\test_k_means.py -> build\\lib.win-amd64-3.8\\sklearn\\cluster\\tests\n",
      "    copying sklearn\\cluster\\tests\\test_mean_shift.py -> build\\lib.win-amd64-3.8\\sklearn\\cluster\\tests\n",
      "    copying sklearn\\cluster\\tests\\test_spectral.py -> build\\lib.win-amd64-3.8\\sklearn\\cluster\\tests"
     ]
    }
   ],
   "source": [
    "from sklearn.tree import export_graphviz\n",
    "from sklearn.externals.six import StringIO  \n",
    "from IPython.display import Image  \n",
    "import pydotplus"
   ]
  },
  {
   "cell_type": "markdown",
   "metadata": {},
   "source": [
    "#### Constrói a árvore de decisão para o DB Iris"
   ]
  },
  {
   "cell_type": "code",
   "execution_count": null,
   "metadata": {},
   "outputs": [],
   "source": [
    "\n",
    "dot_data = StringIO()\n",
    "export_graphviz(clf, out_file=dot_data,  \n",
    "                filled=True, rounded=True,\n",
    "                special_characters=True,feature_names = iris.feature_names,class_names=['0','1','2'])\n",
    "graph = pydotplus.graph_from_dot_data(dot_data.getvalue())  \n",
    "graph.write_png('iris.png')\n",
    "Image(graph.create_png())"
   ]
  },
  {
   "cell_type": "markdown",
   "metadata": {},
   "source": [
    "**Exemplo do algoritmo Supervisionado  - Suppor Vector Machine (SVM)**"
   ]
  },
  {
   "cell_type": "code",
   "execution_count": 28,
   "metadata": {},
   "outputs": [],
   "source": [
    "from sklearn.svm import SVC"
   ]
  },
  {
   "cell_type": "markdown",
   "metadata": {},
   "source": [
    "#### Cria o objeto SVM"
   ]
  },
  {
   "cell_type": "code",
   "execution_count": 29,
   "metadata": {},
   "outputs": [],
   "source": [
    "clf = SVC(gamma='auto') "
   ]
  },
  {
   "cell_type": "markdown",
   "metadata": {},
   "source": [
    "#### Realiza a classificação via SVM"
   ]
  },
  {
   "cell_type": "code",
   "execution_count": 30,
   "metadata": {},
   "outputs": [
    {
     "data": {
      "text/plain": [
       "SVC(gamma='auto')"
      ]
     },
     "execution_count": 30,
     "metadata": {},
     "output_type": "execute_result"
    }
   ],
   "source": [
    "clf.fit(X_train,y_train)"
   ]
  },
  {
   "cell_type": "markdown",
   "metadata": {},
   "source": [
    "#### Realiza a previsão de classificaçao "
   ]
  },
  {
   "cell_type": "code",
   "execution_count": 31,
   "metadata": {},
   "outputs": [],
   "source": [
    "y_pred = clf.predict(X_test)"
   ]
  },
  {
   "cell_type": "markdown",
   "metadata": {},
   "source": [
    "#### Avaliando o modelo "
   ]
  },
  {
   "cell_type": "code",
   "execution_count": 32,
   "metadata": {},
   "outputs": [
    {
     "data": {
      "image/png": "[encoded data removed]",
      "text/plain": [
       "<Figure size 432x288 with 1 Axes>"
      ]
     },
     "metadata": {
      "needs_background": "light"
     },
     "output_type": "display_data"
    }
   ],
   "source": [
    "#realiza o plot da matriz de confusão\n",
    "matriz_confusao = confusion_matrix(y_test, y_pred)\n",
    "from mlxtend.plotting import plot_confusion_matrix\n",
    "\n",
    "fig, ax = plot_confusion_matrix(conf_mat=matriz_confusao)\n",
    "plt.show()"
   ]
  },
  {
   "cell_type": "markdown",
   "metadata": {},
   "source": [
    "**Exemplo de Redes Neurais**"
   ]
  },
  {
   "cell_type": "markdown",
   "metadata": {},
   "source": [
    "#### Definição da biblioteca"
   ]
  },
  {
   "cell_type": "code",
   "execution_count": 33,
   "metadata": {},
   "outputs": [],
   "source": [
    "from sklearn.neural_network import MLPClassifier"
   ]
  },
  {
   "cell_type": "markdown",
   "metadata": {},
   "source": [
    "#### Define a configuração da rede"
   ]
  },
  {
   "cell_type": "code",
   "execution_count": 34,
   "metadata": {},
   "outputs": [],
   "source": [
    "clf = MLPClassifier(solver='lbfgs', alpha=1e-5, hidden_layer_sizes=(5, 5), random_state=1) #rede com escondidas com 5 neurônios cada "
   ]
  },
  {
   "cell_type": "markdown",
   "metadata": {},
   "source": [
    "#### Realiza o fit do modelo"
   ]
  },
  {
   "cell_type": "code",
   "execution_count": 35,
   "metadata": {},
   "outputs": [
    {
     "data": {
      "text/plain": [
       "MLPClassifier(alpha=1e-05, hidden_layer_sizes=(5, 5), random_state=1,\n",
       "              solver='lbfgs')"
      ]
     },
     "execution_count": 35,
     "metadata": {},
     "output_type": "execute_result"
    }
   ],
   "source": [
    "clf.fit(X_train,y_train)"
   ]
  },
  {
   "cell_type": "markdown",
   "metadata": {},
   "source": [
    "#### Realiza a previsão"
   ]
  },
  {
   "cell_type": "code",
   "execution_count": 36,
   "metadata": {},
   "outputs": [],
   "source": [
    "y_pred=clf.predict(X_test)"
   ]
  },
  {
   "cell_type": "markdown",
   "metadata": {},
   "source": [
    "#### Avaliando o modelo "
   ]
  },
  {
   "cell_type": "markdown",
   "metadata": {},
   "source": [
    "#### Realiza o plot da matriz de confusão"
   ]
  },
  {
   "cell_type": "code",
   "execution_count": 37,
   "metadata": {},
   "outputs": [
    {
     "data": {
      "image/png": "[encoded data removed]",
      "text/plain": [
       "<Figure size 432x288 with 1 Axes>"
      ]
     },
     "metadata": {
      "needs_background": "light"
     },
     "output_type": "display_data"
    }
   ],
   "source": [
    "matriz_confusao = confusion_matrix(y_test, y_pred)\n",
    "from mlxtend.plotting import plot_confusion_matrix\n",
    "\n",
    "fig, ax = plot_confusion_matrix(conf_mat=matriz_confusao)\n",
    "plt.show()"
   ]
  }
 ],
 "metadata": {
  "kernelspec": {
   "display_name": "Python 3",
   "language": "python",
   "name": "python3"
  },
  "language_info": {
   "codemirror_mode": {
    "name": "ipython",
    "version": 3
   },
   "file_extension": ".py",
   "mimetype": "text/x-python",
   "name": "python",
   "nbconvert_exporter": "python",
   "pygments_lexer": "ipython3",
   "version": "3.8.5"
  }
 },
 "nbformat": 4,
 "nbformat_minor": 4
}
