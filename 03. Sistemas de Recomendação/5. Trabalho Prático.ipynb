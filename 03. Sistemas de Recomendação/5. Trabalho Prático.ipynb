{
 "cells": [
  {
   "cell_type": "markdown",
   "metadata": {},
   "source": [
    "# 5. Trabalho Prático "
   ]
  },
  {
   "cell_type": "markdown",
   "metadata": {},
   "source": [
    "## Objetivo:\n",
    "* Análise exploratória dos dados (EDA - Exploratory Data Analysis).\n",
    "* Preparação dos dados.\n",
    "* Comparação e ajuste de modelos de classificação."
   ]
  },
  {
   "cell_type": "markdown",
   "metadata": {},
   "source": [
    "**Iris Data Set**\\\n",
    "Description\n",
    "\n",
    "This is perhaps the best known database to be found in the pattern recognition literature. Fisher's paper is a classic in the field and is referenced frequently to this day. (See Duda & Hart, for example.) The data set contains 3 classes of 50 instances each, where each class refers to a type of iris plant. One class is linearly separable from the other 2; the latter are NOT linearly separable from each other.\n",
    "\n",
    "Predicted attribute: class of iris plant.\n",
    "\n",
    "This is an exceedingly simple domain"
   ]
  },
  {
   "cell_type": "markdown",
   "metadata": {},
   "source": [
    "Attribute Information:\n",
    "\n",
    "1. sepal length in cm\n",
    "2. sepal width in cm\n",
    "3. petal length in cm\n",
    "4. petal width in cm\n",
    "5. class:\n",
    "- -- Iris Setosa\n",
    "- -- Iris Versicolour\n",
    "- -- Iris Virginica\n"
   ]
  },
  {
   "cell_type": "markdown",
   "metadata": {},
   "source": [
    "|                   |                | \n",
    "| ----------------- |:--------------:| \n",
    "| Classes           | 3              |\n",
    "| Samples per class | 50             |\n",
    "| Samples total     | 150            |\n",
    "| Dimensionality    | 4              |\n",
    "| Features          | real, positive |"
   ]
  },
  {
   "cell_type": "markdown",
   "metadata": {},
   "source": [
    "# Questionário"
   ]
  },
  {
   "cell_type": "code",
   "execution_count": 1,
   "metadata": {},
   "outputs": [],
   "source": [
    "import warnings\n",
    "warnings.filterwarnings(\"ignore\")\n",
    "\n",
    "import pandas as pd\n",
    "import numpy as np\n",
    "import seaborn as sns\n",
    "import matplotlib.pyplot as plt\n",
    "\n",
    "from sklearn import datasets\n",
    "from sklearn.decomposition import PCA"
   ]
  },
  {
   "cell_type": "code",
   "execution_count": 2,
   "metadata": {},
   "outputs": [],
   "source": [
    "iris = datasets.load_iris()"
   ]
  },
  {
   "cell_type": "code",
   "execution_count": 7,
   "metadata": {},
   "outputs": [],
   "source": [
    "X=iris.data[:,:2]\n",
    "y=iris.target\n",
    "\n",
    "y[0]\n",
    "X[:1,:];"
   ]
  },
  {
   "cell_type": "code",
   "execution_count": 8,
   "metadata": {},
   "outputs": [
    {
     "data": {
      "text/plain": [
       "['setosa', 'versicolor', 'virginica']"
      ]
     },
     "execution_count": 8,
     "metadata": {},
     "output_type": "execute_result"
    }
   ],
   "source": [
    "list(iris.target_names)"
   ]
  },
  {
   "cell_type": "code",
   "execution_count": 9,
   "metadata": {},
   "outputs": [
    {
     "data": {
      "text/plain": [
       "array([0, 0, 1])"
      ]
     },
     "execution_count": 9,
     "metadata": {},
     "output_type": "execute_result"
    }
   ],
   "source": [
    "iris.target[[10,25,50]]"
   ]
  },
  {
   "cell_type": "markdown",
   "metadata": {},
   "source": [
    "#### Pergunta 1"
   ]
  },
  {
   "cell_type": "markdown",
   "metadata": {},
   "source": [
    "O problema apresentado é de qual tipo?\n",
    "\n",
    "- Regressão.\n",
    "\n",
    "- Classificação multilabel.\n",
    "\n",
    "- ***Classificação single label.***\n",
    "\n",
    "- Agrupamento."
   ]
  },
  {
   "cell_type": "markdown",
   "metadata": {},
   "source": [
    "- um problema de classificação requer que os dados sejam classificados em duas ou mais classes. Se o problema possui duas classes, ele é chamado de problema de classificação binário, e se possui mais de duas classes, é chamado de problema de classificação multi-class (multiclasse) ou multilsbrl. Um exemplo de um problema de classificação binário seria você escolher comprar ou não um item da livraria (1 para “livro comprado” e 0 para “livro não comprado”)."
   ]
  },
  {
   "cell_type": "code",
   "execution_count": 10,
   "metadata": {},
   "outputs": [
    {
     "data": {
      "text/plain": [
       "['setosa', 'versicolor', 'virginica']"
      ]
     },
     "execution_count": 10,
     "metadata": {},
     "output_type": "execute_result"
    }
   ],
   "source": [
    "list(iris.target_names)"
   ]
  },
  {
   "cell_type": "markdown",
   "metadata": {},
   "source": [
    "#### Pergunta 2"
   ]
  },
  {
   "cell_type": "markdown",
   "metadata": {},
   "source": [
    "Qual dos algoritmos abaixo não seria adequado para resolver o problema?\n",
    "\n",
    "- sklearn.neighbors.KNeighborsClassifier\n",
    "\n",
    "- ***sklearn.linear_model.LinearRegression***\n",
    "\n",
    "- sklearn.ensemble.AdaBoostClassifier\n",
    "\n",
    "- sklearn.ensemble.RandomForestClassifier"
   ]
  },
  {
   "cell_type": "markdown",
   "metadata": {},
   "source": [
    "- KNN é uma técnica amplamente empregada para reconhecer padrões. O centro de seu funcionamento está em descobrir o vizinho mais próximo de uma dada instância.\n",
    "- Lenear Regression -  regressão linear é uma equação para se estimar a condicional (valor esperado) de uma variável y, dados os valores de algumas outras variáveis x. (https://www.fm2s.com.br/regressao-linear-economizar-milhoes/)\n",
    "- AdaBoost -  É um algoritmo meta-heurístico, e pode ser utilizado para aumentar a performance de outros algoritmos de aprendizagem. O nome \"AdaBoost\" deriva de Adaptive Boosting (em português, impulso ou estímulo adaptativo)\n",
    "- Random Forest significa floresta aleatória. Este nome explica muito bem o funcionamento do algoritmo, que irá criar muitas árvores de decisão, de maneira aleatória, formando o que podemos enxergar como uma floresta, onde cada árvore será utilizada na escolha do resultado final."
   ]
  },
  {
   "cell_type": "markdown",
   "metadata": {},
   "source": [
    "#### Pergunta 3"
   ]
  },
  {
   "cell_type": "markdown",
   "metadata": {},
   "source": [
    "Relacionado ao algoritmo sklearn.neighbors.KNeighborsClassifier, para o parâmetro “algorithm”, o que podemos afirmar acerca de uma potencial otimização desse hiperparâmetro?\n",
    "\n",
    "- Temos até cinco valores para a otimização explorar.\n",
    "\n",
    "- ***Temos até três valores para a otimização explorar.***\n",
    "\n",
    "- Temos até seis valores para a otimização explorar.\n",
    "\n",
    "- Temos até quatro valores para a otimização explorar."
   ]
  },
  {
   "cell_type": "markdown",
   "metadata": {},
   "source": [
    "class sklearn.neighbors.KNeighborsClassifier(n_neighbors=5, *, weights='uniform', algorithm='auto', leaf_size=30, p=2, metric='minkowski', metric_params=None, n_jobs=None, **kwargs)\n",
    "\n",
    "algorithm{‘auto’, ‘ball_tree’, ‘kd_tree’, ‘brute’}, default=’auto’\n",
    "Algorithm used to compute the nearest neighbors:\n",
    " \n",
    "- ‘ball_tree’ will use BallTree\n",
    "\n",
    "- ‘kd_tree’ will use KDTree\n",
    "\n",
    "- ‘brute’ will use a brute-force search.\n",
    "\n",
    "- ‘auto’ will attempt to decide the most appropriate algorithm based on the values passed to fit method.\n",
    "\n",
    "Note: fitting on sparse input will override the setting of this parameter, using brute force."
   ]
  },
  {
   "cell_type": "markdown",
   "metadata": {},
   "source": [
    "#### Pergunta 4"
   ]
  },
  {
   "cell_type": "markdown",
   "metadata": {},
   "source": [
    "Quantas classes o dataset do trabalho tem?\n",
    "\n",
    "- Quatro.\n",
    "\n",
    "- ***Três.***\n",
    "\n",
    "- Duas.\n",
    "\n",
    "- Cinco."
   ]
  },
  {
   "cell_type": "code",
   "execution_count": 11,
   "metadata": {},
   "outputs": [
    {
     "data": {
      "text/plain": [
       "['setosa', 'versicolor', 'virginica']"
      ]
     },
     "execution_count": 11,
     "metadata": {},
     "output_type": "execute_result"
    }
   ],
   "source": [
    "list(iris.target_names)"
   ]
  },
  {
   "cell_type": "markdown",
   "metadata": {},
   "source": [
    "#### Pergunta 5"
   ]
  },
  {
   "cell_type": "markdown",
   "metadata": {},
   "source": [
    "Qual é o total de amostras que o dataset possui?\n",
    "\n",
    "- 138.\n",
    "\n",
    "- 180.\n",
    "\n",
    "- ***150.***\n",
    "\n",
    "- 165."
   ]
  },
  {
   "cell_type": "code",
   "execution_count": 13,
   "metadata": {},
   "outputs": [
    {
     "data": {
      "text/plain": [
       "(150, 4)"
      ]
     },
     "execution_count": 13,
     "metadata": {},
     "output_type": "execute_result"
    }
   ],
   "source": [
    "iris.data.shape"
   ]
  },
  {
   "cell_type": "markdown",
   "metadata": {},
   "source": [
    "#### Pergunta 6"
   ]
  },
  {
   "cell_type": "markdown",
   "metadata": {},
   "source": [
    "Para o algoritmo sklearn.ensemble.RandomForestClassifier, a sintaxe para chamar o algoritmo GridSearchCV sobre o intervalo de “5 a 300” do parâmetro “n_estimators”, para otimização, seria:\n",
    "\n",
    "- params = {'n_estimators': {5, 300}}\n",
    "\n",
    "- ***params = {'n_estimators': [5, 300]}***\n",
    "\n",
    "- params = [5, 300]\n",
    "\n",
    "- params: { ’n_estimators’: [5, 300] }"
   ]
  },
  {
   "cell_type": "markdown",
   "metadata": {},
   "source": [
    "#### Pergunta 7"
   ]
  },
  {
   "cell_type": "markdown",
   "metadata": {},
   "source": [
    "Qual é a métrica de qualidade mais adequada para a resolução desse problema?\n",
    "\n",
    "- F-Score.\n",
    "\n",
    "- Recall.\n",
    "\n",
    "- Precisão.\n",
    "\n",
    "- ***Acurácia.***"
   ]
  },
  {
   "cell_type": "markdown",
   "metadata": {},
   "source": [
    "#### Pergunta 8\n"
   ]
  },
  {
   "cell_type": "markdown",
   "metadata": {},
   "source": [
    "Qual técnica de validação cruzada seria mais computacionalmente eficiente para resolver esse problema?\n",
    "\n",
    "- K-Fold Cross Validation.\n",
    "\n",
    "- Nenhuma das alternativas.\n",
    "\n",
    "- ***Divisão treino-teste.***\n",
    "\n",
    "- Leave P Out."
   ]
  },
  {
   "cell_type": "markdown",
   "metadata": {},
   "source": [
    "#### Pergunta 9"
   ]
  },
  {
   "cell_type": "markdown",
   "metadata": {},
   "source": [
    "Com quantos parâmetros o algoritmo de busca exaustiva em grid, GridSearchCV, pode funcionar?\n",
    "\n",
    "- Dois.\n",
    "\n",
    "- Três.\n",
    "\n",
    "- Não mais que metade dos parâmetros de um algoritmo.\n",
    "\n",
    "- ***Quantos forem necessários.***"
   ]
  },
  {
   "cell_type": "markdown",
   "metadata": {},
   "source": [
    "#### Pergunta 10"
   ]
  },
  {
   "cell_type": "markdown",
   "metadata": {},
   "source": [
    "Sobre o meu algoritmo, para rodar a otimização de hiperparâmetros e a validação cruzada, é necessário que eu:\n",
    "\n",
    "- Rode primeiro o GridSearchCV depois o cross_val_score.\n",
    "\n",
    "- Rode o GridSearchCV e o cross_val_score em qualquer ordem.\n",
    "\n",
    "- ***Rode o GridSearchCV.***\n",
    "\n",
    "- Rode primeiro o cross_val_score e depois o GridSearchCV."
   ]
  },
  {
   "cell_type": "markdown",
   "metadata": {},
   "source": [
    "#### Pergunta 11"
   ]
  },
  {
   "cell_type": "markdown",
   "metadata": {},
   "source": [
    "A validação cruzada…\n",
    "\n",
    "- É uma técnica melhor que a otimização de hiperparâmetros para otimizar os modelos buscados.\n",
    "\n",
    "- Cruza dados de modelos diferentes.\n",
    "\n",
    "- Encontra o melhor modelo para um determinado conjunto de dados.\n",
    "\n",
    "- ***Simula uma situação em que meu modelo está diante de dados desconhecidos para auferir seu provável desempenho quando diante do mundo real.***"
   ]
  },
  {
   "cell_type": "markdown",
   "metadata": {},
   "source": [
    "#### Pergunta 12"
   ]
  },
  {
   "cell_type": "markdown",
   "metadata": {},
   "source": [
    "A otimização de hiperparâmetros:\n",
    "\n",
    "- ***Encontra a melhor (ou uma das melhores) configuração para rodar determinado algoritmo que gerará um modelo.***\n",
    "\n",
    "- Busca, diretamente, pelos melhores parâmetros de um modelo.\n",
    "\n",
    "- Retorna, em todas as suas versões, o melhor conjunto de hiperparametros possível para determinado algoritmo.\n",
    "\n",
    "- É mais importante que a validação cruzada na busca de um bom modelo."
   ]
  },
  {
   "cell_type": "markdown",
   "metadata": {},
   "source": [
    "#### Pergunta 13"
   ]
  },
  {
   "cell_type": "markdown",
   "metadata": {},
   "source": [
    "A validação cruzada:\n",
    "\n",
    "- ***Funciona para quaisquer tipos de modelos.***\n",
    "\n",
    "- Só funciona para conjuntos de dados de até mil elementos.\n",
    "\n",
    "- Só funciona para comparar, no máximo, três modelos diferentes.\n",
    "\n",
    "- Só funciona para problemas classificação."
   ]
  },
  {
   "cell_type": "markdown",
   "metadata": {},
   "source": [
    "#### Pergunta 14"
   ]
  },
  {
   "cell_type": "markdown",
   "metadata": {},
   "source": [
    "A otimização de hiperparâmetros...\n",
    "\n",
    "- Só funciona para conjuntos de dados de até mil elementos.\n",
    "\n",
    "- Só funciona para comparar, no máximo, três modelos diferentes.\n",
    "\n",
    "- ***Funciona para quaisquer tipos de modelos.***\n",
    "\n",
    "- Só funciona para problemas classificação."
   ]
  },
  {
   "cell_type": "markdown",
   "metadata": {},
   "source": [
    "#### Pergunta 15"
   ]
  },
  {
   "cell_type": "markdown",
   "metadata": {},
   "source": [
    "Uma vez gerado e colocado em produção, o seu modelo…\n",
    "\n",
    "- Não deve ser retrabalhado com mais dados.\n",
    "\n",
    "- ***Pode ser reavaliado no futuro, quando diante de novos dados ou situações problema.***\n",
    "\n",
    "- Está em sua versão final e só faz sentido ser substituído por um modelo de um outro algoritmo.\n",
    "\n",
    "- Não pode mais ser otimizado via hiperparâmetros, nem quando diante de mais dados."
   ]
  },
  {
   "cell_type": "code",
   "execution_count": null,
   "metadata": {},
   "outputs": [],
   "source": []
  }
 ],
 "metadata": {
  "kernelspec": {
   "display_name": "Python 3",
   "language": "python",
   "name": "python3"
  },
  "language_info": {
   "codemirror_mode": {
    "name": "ipython",
    "version": 3
   },
   "file_extension": ".py",
   "mimetype": "text/x-python",
   "name": "python",
   "nbconvert_exporter": "python",
   "pygments_lexer": "ipython3",
   "version": "3.8.5"
  }
 },
 "nbformat": 4,
 "nbformat_minor": 4
}
