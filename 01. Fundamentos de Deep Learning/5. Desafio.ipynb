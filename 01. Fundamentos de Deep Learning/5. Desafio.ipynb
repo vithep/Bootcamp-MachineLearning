{
 "cells": [
  {
   "cell_type": "markdown",
   "metadata": {
    "colab_type": "text",
    "id": "N3_ugmhLc0s2"
   },
   "source": [
    "## Desafio - Módulo 1 - Machine Learning"
   ]
  },
  {
   "cell_type": "markdown",
   "metadata": {
    "colab_type": "text",
    "id": "RMktEpbWcpP2"
   },
   "source": [
    "Dataset: https://archive.ics.uci.edu/ml/datasets/Bike+Sharing+Dataset"
   ]
  },
  {
   "cell_type": "markdown",
   "metadata": {
    "colab_type": "text",
    "id": "Fwj3Bnu2dXRK"
   },
   "source": [
    "**Bike Sharing Dataset Data Set**<br>\n",
    "Description\n",
    "\n",
    "This dataset contains the hourly and daily count of rental bikes between years 2011 and 2012 in Capital bikeshare system with the corresponding weather and seasonal information."
   ]
  },
  {
   "cell_type": "markdown",
   "metadata": {
    "colab_type": "text",
    "id": "ErCzLPqseEoQ"
   },
   "source": [
    "Attribute Information:\n",
    "\n",
    "Both hour.csv and day.csv have the following fields, except hr which is not available in day.csv\n",
    "\n",
    "- instant: record index\n",
    "- dteday : date\n",
    "- season : season (1:winter, 2:spring, 3:summer, 4:fall)\n",
    "- yr : year (0: 2011, 1:2012)\n",
    "- mnth : month ( 1 to 12)\n",
    "- hr : hour (0 to 23)\n",
    "- holiday : weather day is holiday or not (extracted from [Web Link])\n",
    "- weekday : day of the week\n",
    "- workingday : if day is neither weekend nor holiday is 1, otherwise is 0.\n",
    "+ weathersit :\n",
    "- 1: Clear, Few clouds, Partly cloudy, Partly cloudy\n",
    "- 2: Mist + Cloudy, Mist + Broken clouds, Mist + Few clouds, Mist\n",
    "- 3: Light Snow, Light Rain + Thunderstorm + Scattered clouds, Light Rain + Scattered clouds\n",
    "- 4: Heavy Rain + Ice Pallets + Thunderstorm + Mist, Snow + Fog\n",
    "- temp : Normalized temperature in Celsius. The values are derived via (t-t_min)/(t_max-t_min), t_min=-8, t_max=+39 (only in hourly scale)\n",
    "- atemp: Normalized feeling temperature in Celsius. The values are derived via (t-t_min)/(t_max-t_min), t_min=-16, t_max=+50 (only in hourly scale)\n",
    "- hum: Normalized humidity. The values are divided to 100 (max)\n",
    "- windspeed: Normalized wind speed. The values are divided to 67 (max)\n",
    "- casual: count of casual users\n",
    "- registered: count of registered users\n",
    "- cnt: count of total rental bikes including both casual and registered\n",
    "\n"
   ]
  },
  {
   "cell_type": "markdown",
   "metadata": {
    "colab_type": "text",
    "id": "YjqVWIWEfQeg"
   },
   "source": [
    "### Data Exploration & Analysis"
   ]
  },
  {
   "cell_type": "markdown",
   "metadata": {
    "colab_type": "text",
    "id": "OQj__gVQfvoZ"
   },
   "source": [
    "Provide data set splits for training, validation, and testing:"
   ]
  },
  {
   "cell_type": "code",
   "execution_count": 1,
   "metadata": {
    "colab": {},
    "colab_type": "code",
    "id": "XkAa6kElhAz9"
   },
   "outputs": [],
   "source": [
    "# importando as bibliotecas\n",
    "import pandas as pd \n",
    "import numpy as np \n",
    "import matplotlib.pyplot as plt "
   ]
  },
  {
   "cell_type": "code",
   "execution_count": 2,
   "metadata": {
    "colab": {},
    "colab_type": "code",
    "id": "c3aot9E-li4L"
   },
   "outputs": [],
   "source": [
    "#realizando a leitura do arquivo (dataset)\n",
    "df = pd.read_csv(\"comp_bikes_mod.csv\")"
   ]
  },
  {
   "cell_type": "code",
   "execution_count": 3,
   "metadata": {
    "colab": {
     "base_uri": "https://localhost:8080/",
     "height": 54
    },
    "colab_type": "code",
    "executionInfo": {
     "elapsed": 2296,
     "status": "ok",
     "timestamp": 1595184321934,
     "user": {
      "displayName": "fernandes macedo",
      "photoUrl": "https://lh3.googleusercontent.com/a-/AOh14GhJ9tjvclcdi3RHHRxHgDuwJ2JOnJiNPr2TJokJ=s64",
      "userId": "06599801896491279741"
     },
     "user_tz": 0
    },
    "id": "K_rJ03JqeoKM",
    "outputId": "6439c63f-3fb0-4e0e-cbaf-935af0b25343"
   },
   "outputs": [
    {
     "name": "stdout",
     "output_type": "stream",
     "text": [
      "['instant', 'dteday', 'season', 'yr', 'mnth', 'hr', 'holiday', 'weekday', 'workingday', 'weathersit', 'temp', 'atemp', 'hum', 'windspeed', 'casual', 'registered', 'cnt']\n"
     ]
    }
   ],
   "source": [
    "print(list(df.columns))"
   ]
  },
  {
   "cell_type": "code",
   "execution_count": 4,
   "metadata": {
    "colab": {
     "base_uri": "https://localhost:8080/",
     "height": 292
    },
    "colab_type": "code",
    "executionInfo": {
     "elapsed": 2242,
     "status": "ok",
     "timestamp": 1595184321942,
     "user": {
      "displayName": "fernandes macedo",
      "photoUrl": "https://lh3.googleusercontent.com/a-/AOh14GhJ9tjvclcdi3RHHRxHgDuwJ2JOnJiNPr2TJokJ=s64",
      "userId": "06599801896491279741"
     },
     "user_tz": 0
    },
    "id": "bKF37jCWl5SG",
    "outputId": "f8526e69-342f-4d4e-878e-3ecfc3765081"
   },
   "outputs": [
    {
     "data": {
      "text/html": [
       "<div>\n",
       "<style scoped>\n",
       "    .dataframe tbody tr th:only-of-type {\n",
       "        vertical-align: middle;\n",
       "    }\n",
       "\n",
       "    .dataframe tbody tr th {\n",
       "        vertical-align: top;\n",
       "    }\n",
       "\n",
       "    .dataframe thead th {\n",
       "        text-align: right;\n",
       "    }\n",
       "</style>\n",
       "<table border=\"1\" class=\"dataframe\">\n",
       "  <thead>\n",
       "    <tr style=\"text-align: right;\">\n",
       "      <th></th>\n",
       "      <th>instant</th>\n",
       "      <th>dteday</th>\n",
       "      <th>season</th>\n",
       "      <th>yr</th>\n",
       "      <th>mnth</th>\n",
       "      <th>hr</th>\n",
       "      <th>holiday</th>\n",
       "      <th>weekday</th>\n",
       "      <th>workingday</th>\n",
       "      <th>weathersit</th>\n",
       "      <th>temp</th>\n",
       "      <th>atemp</th>\n",
       "      <th>hum</th>\n",
       "      <th>windspeed</th>\n",
       "      <th>casual</th>\n",
       "      <th>registered</th>\n",
       "      <th>cnt</th>\n",
       "    </tr>\n",
       "  </thead>\n",
       "  <tbody>\n",
       "    <tr>\n",
       "      <th>0</th>\n",
       "      <td>1.0</td>\n",
       "      <td>NaN</td>\n",
       "      <td>1.0</td>\n",
       "      <td>0.0</td>\n",
       "      <td>1.0</td>\n",
       "      <td>0.0</td>\n",
       "      <td>0.0</td>\n",
       "      <td>6.0</td>\n",
       "      <td>0.0</td>\n",
       "      <td>1.0</td>\n",
       "      <td>NaN</td>\n",
       "      <td>0.2879</td>\n",
       "      <td>0.81</td>\n",
       "      <td>0.0</td>\n",
       "      <td>3.0</td>\n",
       "      <td>13.0</td>\n",
       "      <td>16.0</td>\n",
       "    </tr>\n",
       "    <tr>\n",
       "      <th>1</th>\n",
       "      <td>2.0</td>\n",
       "      <td>2011-01-01</td>\n",
       "      <td>1.0</td>\n",
       "      <td>0.0</td>\n",
       "      <td>1.0</td>\n",
       "      <td>1.0</td>\n",
       "      <td>0.0</td>\n",
       "      <td>6.0</td>\n",
       "      <td>0.0</td>\n",
       "      <td>NaN</td>\n",
       "      <td>0.22</td>\n",
       "      <td>0.2727</td>\n",
       "      <td>0.80</td>\n",
       "      <td>0.0</td>\n",
       "      <td>8.0</td>\n",
       "      <td>32.0</td>\n",
       "      <td>40.0</td>\n",
       "    </tr>\n",
       "    <tr>\n",
       "      <th>2</th>\n",
       "      <td>3.0</td>\n",
       "      <td>2011-01-01</td>\n",
       "      <td>1.0</td>\n",
       "      <td>0.0</td>\n",
       "      <td>1.0</td>\n",
       "      <td>2.0</td>\n",
       "      <td>0.0</td>\n",
       "      <td>6.0</td>\n",
       "      <td>0.0</td>\n",
       "      <td>1.0</td>\n",
       "      <td>0.22</td>\n",
       "      <td>0.2727</td>\n",
       "      <td>0.80</td>\n",
       "      <td>0.0</td>\n",
       "      <td>5.0</td>\n",
       "      <td>27.0</td>\n",
       "      <td>32.0</td>\n",
       "    </tr>\n",
       "    <tr>\n",
       "      <th>3</th>\n",
       "      <td>4.0</td>\n",
       "      <td>2011-01-01</td>\n",
       "      <td>1.0</td>\n",
       "      <td>0.0</td>\n",
       "      <td>1.0</td>\n",
       "      <td>3.0</td>\n",
       "      <td>0.0</td>\n",
       "      <td>6.0</td>\n",
       "      <td>0.0</td>\n",
       "      <td>1.0</td>\n",
       "      <td>0.24</td>\n",
       "      <td>0.2879</td>\n",
       "      <td>0.75</td>\n",
       "      <td>0.0</td>\n",
       "      <td>3.0</td>\n",
       "      <td>10.0</td>\n",
       "      <td>13.0</td>\n",
       "    </tr>\n",
       "    <tr>\n",
       "      <th>4</th>\n",
       "      <td>5.0</td>\n",
       "      <td>2011-01-01</td>\n",
       "      <td>1.0</td>\n",
       "      <td>0.0</td>\n",
       "      <td>1.0</td>\n",
       "      <td>4.0</td>\n",
       "      <td>0.0</td>\n",
       "      <td>6.0</td>\n",
       "      <td>NaN</td>\n",
       "      <td>1.0</td>\n",
       "      <td>0.24</td>\n",
       "      <td>0.2879</td>\n",
       "      <td>0.75</td>\n",
       "      <td>0.0</td>\n",
       "      <td>0.0</td>\n",
       "      <td>1.0</td>\n",
       "      <td>1.0</td>\n",
       "    </tr>\n",
       "  </tbody>\n",
       "</table>\n",
       "</div>"
      ],
      "text/plain": [
       "   instant      dteday  season   yr  mnth   hr  holiday  weekday  workingday  \\\n",
       "0      1.0         NaN     1.0  0.0   1.0  0.0      0.0      6.0         0.0   \n",
       "1      2.0  2011-01-01     1.0  0.0   1.0  1.0      0.0      6.0         0.0   \n",
       "2      3.0  2011-01-01     1.0  0.0   1.0  2.0      0.0      6.0         0.0   \n",
       "3      4.0  2011-01-01     1.0  0.0   1.0  3.0      0.0      6.0         0.0   \n",
       "4      5.0  2011-01-01     1.0  0.0   1.0  4.0      0.0      6.0         NaN   \n",
       "\n",
       "   weathersit  temp   atemp   hum  windspeed  casual  registered   cnt  \n",
       "0         1.0   NaN  0.2879  0.81        0.0     3.0        13.0  16.0  \n",
       "1         NaN  0.22  0.2727  0.80        0.0     8.0        32.0  40.0  \n",
       "2         1.0  0.22  0.2727  0.80        0.0     5.0        27.0  32.0  \n",
       "3         1.0  0.24  0.2879  0.75        0.0     3.0        10.0  13.0  \n",
       "4         1.0  0.24  0.2879  0.75        0.0     0.0         1.0   1.0  "
      ]
     },
     "execution_count": 4,
     "metadata": {},
     "output_type": "execute_result"
    }
   ],
   "source": [
    "#apresentando as 5 primeiras linhas do dataset\n",
    "df.head()"
   ]
  },
  {
   "cell_type": "markdown",
   "metadata": {
    "colab_type": "text",
    "id": "t0TZOhmxm9Sl"
   },
   "source": [
    "#### Pergunta 1\n",
    "No dataset utilizado para o desafio, quantas instâncias e atributos existem, respectivamente?\n",
    "\n",
    "* (15,1345)\n",
    "\n",
    "* (17,17379)\n",
    "\n",
    "* ***(17379,17)***\n",
    "\n",
    "* (1345,15)"
   ]
  },
  {
   "cell_type": "code",
   "execution_count": 5,
   "metadata": {
    "colab": {
     "base_uri": "https://localhost:8080/",
     "height": 34
    },
    "colab_type": "code",
    "executionInfo": {
     "elapsed": 2132,
     "status": "ok",
     "timestamp": 1595184321957,
     "user": {
      "displayName": "fernandes macedo",
      "photoUrl": "https://lh3.googleusercontent.com/a-/AOh14GhJ9tjvclcdi3RHHRxHgDuwJ2JOnJiNPr2TJokJ=s64",
      "userId": "06599801896491279741"
     },
     "user_tz": 0
    },
    "id": "6E-2Hd7tyBXA",
    "outputId": "a37a3b77-2521-4e5b-8142-e81953ccb035"
   },
   "outputs": [
    {
     "data": {
      "text/plain": [
       "(17379, 17)"
      ]
     },
     "execution_count": 5,
     "metadata": {},
     "output_type": "execute_result"
    }
   ],
   "source": [
    "df.shape"
   ]
  },
  {
   "cell_type": "markdown",
   "metadata": {
    "colab_type": "text",
    "id": "hFrLBvT0no8b"
   },
   "source": [
    "#### Pergunta 2\n",
    "Quantos tipos diferentes de dados existem no dataset do desafio?\n",
    "\n",
    "* 17\n",
    "\n",
    "* 12\n",
    "\n",
    "* 3\n",
    "\n",
    "* ***2***"
   ]
  },
  {
   "cell_type": "code",
   "execution_count": 6,
   "metadata": {
    "colab": {
     "base_uri": "https://localhost:8080/",
     "height": 425
    },
    "colab_type": "code",
    "executionInfo": {
     "elapsed": 2183,
     "status": "ok",
     "timestamp": 1595184321950,
     "user": {
      "displayName": "fernandes macedo",
      "photoUrl": "https://lh3.googleusercontent.com/a-/AOh14GhJ9tjvclcdi3RHHRxHgDuwJ2JOnJiNPr2TJokJ=s64",
      "userId": "06599801896491279741"
     },
     "user_tz": 0
    },
    "id": "OL2cLcK_mPBO",
    "outputId": "5ca3d205-e1dd-4ce8-e321-e365d4206369"
   },
   "outputs": [
    {
     "name": "stdout",
     "output_type": "stream",
     "text": [
      "<class 'pandas.core.frame.DataFrame'>\n",
      "RangeIndex: 17379 entries, 0 to 17378\n",
      "Data columns (total 17 columns):\n",
      " #   Column      Non-Null Count  Dtype  \n",
      "---  ------      --------------  -----  \n",
      " 0   instant     15641 non-null  float64\n",
      " 1   dteday      15641 non-null  object \n",
      " 2   season      15641 non-null  float64\n",
      " 3   yr          15641 non-null  float64\n",
      " 4   mnth        15641 non-null  float64\n",
      " 5   hr          15641 non-null  float64\n",
      " 6   holiday     15641 non-null  float64\n",
      " 7   weekday     15641 non-null  float64\n",
      " 8   workingday  15641 non-null  float64\n",
      " 9   weathersit  15641 non-null  float64\n",
      " 10  temp        15641 non-null  float64\n",
      " 11  atemp       15641 non-null  float64\n",
      " 12  hum         15641 non-null  float64\n",
      " 13  windspeed   15641 non-null  float64\n",
      " 14  casual      15641 non-null  float64\n",
      " 15  registered  15641 non-null  float64\n",
      " 16  cnt         15641 non-null  float64\n",
      "dtypes: float64(16), object(1)\n",
      "memory usage: 2.3+ MB\n"
     ]
    }
   ],
   "source": [
    "df.info() #verificando os tipos de variáveis e se existem ou não valores nulos"
   ]
  },
  {
   "cell_type": "markdown",
   "metadata": {
    "colab_type": "text",
    "id": "6H6KdP5EomAM"
   },
   "source": [
    "**Existem Colunas Com Valores Nulos?**"
   ]
  },
  {
   "cell_type": "markdown",
   "metadata": {
    "colab_type": "text",
    "id": "mKtkghQso5X3"
   },
   "source": [
    "**Quantas Instâncias e Características Existem no Dataset?**\n",
    "\n"
   ]
  },
  {
   "cell_type": "code",
   "execution_count": 7,
   "metadata": {
    "colab": {
     "base_uri": "https://localhost:8080/",
     "height": 317
    },
    "colab_type": "code",
    "executionInfo": {
     "elapsed": 2577,
     "status": "ok",
     "timestamp": 1595184322480,
     "user": {
      "displayName": "fernandes macedo",
      "photoUrl": "https://lh3.googleusercontent.com/a-/AOh14GhJ9tjvclcdi3RHHRxHgDuwJ2JOnJiNPr2TJokJ=s64",
      "userId": "06599801896491279741"
     },
     "user_tz": 0
    },
    "id": "EK9PIlANo1NA",
    "outputId": "ecd2e575-eb48-4980-c805-19df8e9db593"
   },
   "outputs": [
    {
     "data": {
      "text/html": [
       "<div>\n",
       "<style scoped>\n",
       "    .dataframe tbody tr th:only-of-type {\n",
       "        vertical-align: middle;\n",
       "    }\n",
       "\n",
       "    .dataframe tbody tr th {\n",
       "        vertical-align: top;\n",
       "    }\n",
       "\n",
       "    .dataframe thead th {\n",
       "        text-align: right;\n",
       "    }\n",
       "</style>\n",
       "<table border=\"1\" class=\"dataframe\">\n",
       "  <thead>\n",
       "    <tr style=\"text-align: right;\">\n",
       "      <th></th>\n",
       "      <th>instant</th>\n",
       "      <th>season</th>\n",
       "      <th>yr</th>\n",
       "      <th>mnth</th>\n",
       "      <th>hr</th>\n",
       "      <th>holiday</th>\n",
       "      <th>weekday</th>\n",
       "      <th>workingday</th>\n",
       "      <th>weathersit</th>\n",
       "      <th>temp</th>\n",
       "      <th>atemp</th>\n",
       "      <th>hum</th>\n",
       "      <th>windspeed</th>\n",
       "      <th>casual</th>\n",
       "      <th>registered</th>\n",
       "      <th>cnt</th>\n",
       "    </tr>\n",
       "  </thead>\n",
       "  <tbody>\n",
       "    <tr>\n",
       "      <th>count</th>\n",
       "      <td>15641.000000</td>\n",
       "      <td>15641.000000</td>\n",
       "      <td>15641.000000</td>\n",
       "      <td>15641.000000</td>\n",
       "      <td>15641.000000</td>\n",
       "      <td>15641.000000</td>\n",
       "      <td>15641.000000</td>\n",
       "      <td>15641.000000</td>\n",
       "      <td>15641.000000</td>\n",
       "      <td>15641.000000</td>\n",
       "      <td>15641.000000</td>\n",
       "      <td>15641.000000</td>\n",
       "      <td>15641.000000</td>\n",
       "      <td>15641.000000</td>\n",
       "      <td>15641.000000</td>\n",
       "      <td>15641.000000</td>\n",
       "    </tr>\n",
       "    <tr>\n",
       "      <th>mean</th>\n",
       "      <td>8676.513842</td>\n",
       "      <td>2.503420</td>\n",
       "      <td>0.501758</td>\n",
       "      <td>6.536091</td>\n",
       "      <td>11.521258</td>\n",
       "      <td>0.028131</td>\n",
       "      <td>2.999233</td>\n",
       "      <td>0.682118</td>\n",
       "      <td>1.423950</td>\n",
       "      <td>0.497062</td>\n",
       "      <td>0.476281</td>\n",
       "      <td>0.627579</td>\n",
       "      <td>0.189247</td>\n",
       "      <td>35.583147</td>\n",
       "      <td>153.644972</td>\n",
       "      <td>189.919826</td>\n",
       "    </tr>\n",
       "    <tr>\n",
       "      <th>std</th>\n",
       "      <td>5010.773755</td>\n",
       "      <td>1.107636</td>\n",
       "      <td>0.500013</td>\n",
       "      <td>3.441490</td>\n",
       "      <td>6.917606</td>\n",
       "      <td>0.165353</td>\n",
       "      <td>2.005300</td>\n",
       "      <td>0.465668</td>\n",
       "      <td>0.638982</td>\n",
       "      <td>0.192451</td>\n",
       "      <td>0.172520</td>\n",
       "      <td>0.192893</td>\n",
       "      <td>0.122188</td>\n",
       "      <td>49.226455</td>\n",
       "      <td>151.750573</td>\n",
       "      <td>181.972508</td>\n",
       "    </tr>\n",
       "    <tr>\n",
       "      <th>min</th>\n",
       "      <td>1.000000</td>\n",
       "      <td>1.000000</td>\n",
       "      <td>0.000000</td>\n",
       "      <td>1.000000</td>\n",
       "      <td>0.000000</td>\n",
       "      <td>0.000000</td>\n",
       "      <td>0.000000</td>\n",
       "      <td>0.000000</td>\n",
       "      <td>1.000000</td>\n",
       "      <td>0.020000</td>\n",
       "      <td>0.000000</td>\n",
       "      <td>0.000000</td>\n",
       "      <td>0.000000</td>\n",
       "      <td>0.000000</td>\n",
       "      <td>0.000000</td>\n",
       "      <td>1.000000</td>\n",
       "    </tr>\n",
       "    <tr>\n",
       "      <th>25%</th>\n",
       "      <td>4335.000000</td>\n",
       "      <td>2.000000</td>\n",
       "      <td>0.000000</td>\n",
       "      <td>4.000000</td>\n",
       "      <td>6.000000</td>\n",
       "      <td>0.000000</td>\n",
       "      <td>1.000000</td>\n",
       "      <td>0.000000</td>\n",
       "      <td>1.000000</td>\n",
       "      <td>0.340000</td>\n",
       "      <td>0.333300</td>\n",
       "      <td>0.480000</td>\n",
       "      <td>0.104500</td>\n",
       "      <td>4.000000</td>\n",
       "      <td>34.000000</td>\n",
       "      <td>40.000000</td>\n",
       "    </tr>\n",
       "    <tr>\n",
       "      <th>50%</th>\n",
       "      <td>8678.000000</td>\n",
       "      <td>3.000000</td>\n",
       "      <td>1.000000</td>\n",
       "      <td>7.000000</td>\n",
       "      <td>12.000000</td>\n",
       "      <td>0.000000</td>\n",
       "      <td>3.000000</td>\n",
       "      <td>1.000000</td>\n",
       "      <td>1.000000</td>\n",
       "      <td>0.500000</td>\n",
       "      <td>0.484800</td>\n",
       "      <td>0.630000</td>\n",
       "      <td>0.164200</td>\n",
       "      <td>17.000000</td>\n",
       "      <td>115.000000</td>\n",
       "      <td>142.000000</td>\n",
       "    </tr>\n",
       "    <tr>\n",
       "      <th>75%</th>\n",
       "      <td>13005.000000</td>\n",
       "      <td>3.000000</td>\n",
       "      <td>1.000000</td>\n",
       "      <td>10.000000</td>\n",
       "      <td>17.000000</td>\n",
       "      <td>0.000000</td>\n",
       "      <td>5.000000</td>\n",
       "      <td>1.000000</td>\n",
       "      <td>2.000000</td>\n",
       "      <td>0.660000</td>\n",
       "      <td>0.621200</td>\n",
       "      <td>0.780000</td>\n",
       "      <td>0.253700</td>\n",
       "      <td>48.000000</td>\n",
       "      <td>220.000000</td>\n",
       "      <td>281.000000</td>\n",
       "    </tr>\n",
       "    <tr>\n",
       "      <th>max</th>\n",
       "      <td>17377.000000</td>\n",
       "      <td>4.000000</td>\n",
       "      <td>1.000000</td>\n",
       "      <td>12.000000</td>\n",
       "      <td>23.000000</td>\n",
       "      <td>1.000000</td>\n",
       "      <td>6.000000</td>\n",
       "      <td>1.000000</td>\n",
       "      <td>4.000000</td>\n",
       "      <td>1.000000</td>\n",
       "      <td>1.000000</td>\n",
       "      <td>1.000000</td>\n",
       "      <td>0.850700</td>\n",
       "      <td>367.000000</td>\n",
       "      <td>886.000000</td>\n",
       "      <td>977.000000</td>\n",
       "    </tr>\n",
       "  </tbody>\n",
       "</table>\n",
       "</div>"
      ],
      "text/plain": [
       "            instant        season            yr          mnth            hr  \\\n",
       "count  15641.000000  15641.000000  15641.000000  15641.000000  15641.000000   \n",
       "mean    8676.513842      2.503420      0.501758      6.536091     11.521258   \n",
       "std     5010.773755      1.107636      0.500013      3.441490      6.917606   \n",
       "min        1.000000      1.000000      0.000000      1.000000      0.000000   \n",
       "25%     4335.000000      2.000000      0.000000      4.000000      6.000000   \n",
       "50%     8678.000000      3.000000      1.000000      7.000000     12.000000   \n",
       "75%    13005.000000      3.000000      1.000000     10.000000     17.000000   \n",
       "max    17377.000000      4.000000      1.000000     12.000000     23.000000   \n",
       "\n",
       "            holiday       weekday    workingday    weathersit          temp  \\\n",
       "count  15641.000000  15641.000000  15641.000000  15641.000000  15641.000000   \n",
       "mean       0.028131      2.999233      0.682118      1.423950      0.497062   \n",
       "std        0.165353      2.005300      0.465668      0.638982      0.192451   \n",
       "min        0.000000      0.000000      0.000000      1.000000      0.020000   \n",
       "25%        0.000000      1.000000      0.000000      1.000000      0.340000   \n",
       "50%        0.000000      3.000000      1.000000      1.000000      0.500000   \n",
       "75%        0.000000      5.000000      1.000000      2.000000      0.660000   \n",
       "max        1.000000      6.000000      1.000000      4.000000      1.000000   \n",
       "\n",
       "              atemp           hum     windspeed        casual    registered  \\\n",
       "count  15641.000000  15641.000000  15641.000000  15641.000000  15641.000000   \n",
       "mean       0.476281      0.627579      0.189247     35.583147    153.644972   \n",
       "std        0.172520      0.192893      0.122188     49.226455    151.750573   \n",
       "min        0.000000      0.000000      0.000000      0.000000      0.000000   \n",
       "25%        0.333300      0.480000      0.104500      4.000000     34.000000   \n",
       "50%        0.484800      0.630000      0.164200     17.000000    115.000000   \n",
       "75%        0.621200      0.780000      0.253700     48.000000    220.000000   \n",
       "max        1.000000      1.000000      0.850700    367.000000    886.000000   \n",
       "\n",
       "                cnt  \n",
       "count  15641.000000  \n",
       "mean     189.919826  \n",
       "std      181.972508  \n",
       "min        1.000000  \n",
       "25%       40.000000  \n",
       "50%      142.000000  \n",
       "75%      281.000000  \n",
       "max      977.000000  "
      ]
     },
     "execution_count": 7,
     "metadata": {},
     "output_type": "execute_result"
    }
   ],
   "source": [
    "#analisando a \"estatística\" do dataset\n",
    "df.describe()"
   ]
  },
  {
   "cell_type": "markdown",
   "metadata": {
    "colab_type": "text",
    "id": "N0Oby9g4fiyV"
   },
   "source": [
    "### Missing Value Analysis"
   ]
  },
  {
   "cell_type": "markdown",
   "metadata": {
    "colab_type": "text",
    "id": "Bf6QwtSFf4EW"
   },
   "source": [
    "Check any NULL values in data:"
   ]
  },
  {
   "cell_type": "code",
   "execution_count": 11,
   "metadata": {
    "colab": {
     "base_uri": "https://localhost:8080/",
     "height": 323
    },
    "colab_type": "code",
    "executionInfo": {
     "elapsed": 2513,
     "status": "ok",
     "timestamp": 1595184322486,
     "user": {
      "displayName": "fernandes macedo",
      "photoUrl": "https://lh3.googleusercontent.com/a-/AOh14GhJ9tjvclcdi3RHHRxHgDuwJ2JOnJiNPr2TJokJ=s64",
      "userId": "06599801896491279741"
     },
     "user_tz": 0
    },
    "id": "gRRtHAfCf-LT",
    "outputId": "3119b50a-6d8e-42ea-e891-6c08a2ddb268"
   },
   "outputs": [
    {
     "data": {
      "text/plain": [
       "instant       True\n",
       "dteday        True\n",
       "season        True\n",
       "yr            True\n",
       "mnth          True\n",
       "hr            True\n",
       "holiday       True\n",
       "weekday       True\n",
       "workingday    True\n",
       "weathersit    True\n",
       "temp          True\n",
       "atemp         True\n",
       "hum           True\n",
       "windspeed     True\n",
       "casual        True\n",
       "registered    True\n",
       "cnt           True\n",
       "dtype: bool"
      ]
     },
     "execution_count": 11,
     "metadata": {},
     "output_type": "execute_result"
    }
   ],
   "source": [
    "df.isnull().any()"
   ]
  },
  {
   "cell_type": "code",
   "execution_count": 10,
   "metadata": {
    "colab": {
     "base_uri": "https://localhost:8080/",
     "height": 323
    },
    "colab_type": "code",
    "executionInfo": {
     "elapsed": 2463,
     "status": "ok",
     "timestamp": 1595184322492,
     "user": {
      "displayName": "fernandes macedo",
      "photoUrl": "https://lh3.googleusercontent.com/a-/AOh14GhJ9tjvclcdi3RHHRxHgDuwJ2JOnJiNPr2TJokJ=s64",
      "userId": "06599801896491279741"
     },
     "user_tz": 0
    },
    "id": "HcpMNOnkKyvu",
    "outputId": "2dec387d-2609-4872-ef72-053113aa48ab"
   },
   "outputs": [
    {
     "data": {
      "text/plain": [
       "instant       1738\n",
       "dteday        1738\n",
       "season        1738\n",
       "yr            1738\n",
       "mnth          1738\n",
       "hr            1738\n",
       "holiday       1738\n",
       "weekday       1738\n",
       "workingday    1738\n",
       "weathersit    1738\n",
       "temp          1738\n",
       "atemp         1738\n",
       "hum           1738\n",
       "windspeed     1738\n",
       "casual        1738\n",
       "registered    1738\n",
       "cnt           1738\n",
       "dtype: int64"
      ]
     },
     "execution_count": 10,
     "metadata": {},
     "output_type": "execute_result"
    }
   ],
   "source": [
    "# quantidade de valores faltantes\n",
    "df.isnull().sum()"
   ]
  },
  {
   "cell_type": "markdown",
   "metadata": {
    "colab_type": "text",
    "id": "AxdG8XbIoGya"
   },
   "source": [
    "#### Pergunta 3\n",
    "Qual é a proporção (em %) de valores nulos existente na coluna \"temp\" (temperatura ambiente normalizada)?\n",
    "\n",
    "* 15%\n",
    "\n",
    "* ***10%***\n",
    "\n",
    "* 5%\n",
    "\n",
    "* 0%"
   ]
  },
  {
   "cell_type": "code",
   "execution_count": 12,
   "metadata": {
    "colab": {
     "base_uri": "https://localhost:8080/",
     "height": 323
    },
    "colab_type": "code",
    "executionInfo": {
     "elapsed": 2417,
     "status": "ok",
     "timestamp": 1595184322497,
     "user": {
      "displayName": "fernandes macedo",
      "photoUrl": "https://lh3.googleusercontent.com/a-/AOh14GhJ9tjvclcdi3RHHRxHgDuwJ2JOnJiNPr2TJokJ=s64",
      "userId": "06599801896491279741"
     },
     "user_tz": 0
    },
    "id": "qg5r4GuK_Anh",
    "outputId": "de2088be-343e-4fb0-dd35-c33822887662"
   },
   "outputs": [
    {
     "data": {
      "text/plain": [
       "instant       10.000575\n",
       "dteday        10.000575\n",
       "season        10.000575\n",
       "yr            10.000575\n",
       "mnth          10.000575\n",
       "hr            10.000575\n",
       "holiday       10.000575\n",
       "weekday       10.000575\n",
       "workingday    10.000575\n",
       "weathersit    10.000575\n",
       "temp          10.000575\n",
       "atemp         10.000575\n",
       "hum           10.000575\n",
       "windspeed     10.000575\n",
       "casual        10.000575\n",
       "registered    10.000575\n",
       "cnt           10.000575\n",
       "dtype: float64"
      ]
     },
     "execution_count": 12,
     "metadata": {},
     "output_type": "execute_result"
    }
   ],
   "source": [
    "# quantidade de valores faltantes em porcentagem\n",
    "mis_val_percent = 100 * df.isnull().sum() / len(df)\n",
    "mis_val_percent"
   ]
  },
  {
   "cell_type": "code",
   "execution_count": 13,
   "metadata": {
    "colab": {
     "base_uri": "https://localhost:8080/",
     "height": 34
    },
    "colab_type": "code",
    "executionInfo": {
     "elapsed": 2376,
     "status": "ok",
     "timestamp": 1595184322502,
     "user": {
      "displayName": "fernandes macedo",
      "photoUrl": "https://lh3.googleusercontent.com/a-/AOh14GhJ9tjvclcdi3RHHRxHgDuwJ2JOnJiNPr2TJokJ=s64",
      "userId": "06599801896491279741"
     },
     "user_tz": 0
    },
    "id": "EqqNpB9_KSqk",
    "outputId": "5014dfc3-3ee4-4e25-9077-e3302af9911a"
   },
   "outputs": [
    {
     "data": {
      "text/plain": [
       "(17379, 17)"
      ]
     },
     "execution_count": 13,
     "metadata": {},
     "output_type": "execute_result"
    }
   ],
   "source": [
    "df.shape"
   ]
  },
  {
   "cell_type": "markdown",
   "metadata": {
    "colab_type": "text",
    "id": "EsF0LWfKodvU"
   },
   "source": [
    "#### Pergunta 4\n",
    "Após retirar as linhas que contém valores nulos para a coluna \"dteday\", passamos a contar com quantas instancias e atributos, respectivamente?\n",
    "\n",
    "* (17,15641)\n",
    "\n",
    "* (17379,17)\n",
    "\n",
    "* (17,17379)\n",
    "\n",
    "* ***(15641,17)***"
   ]
  },
  {
   "cell_type": "code",
   "execution_count": 14,
   "metadata": {
    "colab": {
     "base_uri": "https://localhost:8080/",
     "height": 34
    },
    "colab_type": "code",
    "executionInfo": {
     "elapsed": 2337,
     "status": "ok",
     "timestamp": 1595184322508,
     "user": {
      "displayName": "fernandes macedo",
      "photoUrl": "https://lh3.googleusercontent.com/a-/AOh14GhJ9tjvclcdi3RHHRxHgDuwJ2JOnJiNPr2TJokJ=s64",
      "userId": "06599801896491279741"
     },
     "user_tz": 0
    },
    "id": "memQ0HuTXsjq",
    "outputId": "c1090473-76c4-43a9-e23d-4c0662d3dc7c"
   },
   "outputs": [
    {
     "data": {
      "text/plain": [
       "15641"
      ]
     },
     "execution_count": 14,
     "metadata": {},
     "output_type": "execute_result"
    }
   ],
   "source": [
    "len(df['dteday']) - sum(pd.isnull(df['dteday']))"
   ]
  },
  {
   "cell_type": "markdown",
   "metadata": {
    "colab_type": "text",
    "id": "LhwIZuEso2_x"
   },
   "source": [
    "#### Pergunta 5\n",
    "Considere o dataset após a retirada das linhas que continham valores nulos para a coluna \"dteday\". Qual é o valor médio para os dados da coluna \"temp\" (temperatura ambiente normalizada)?\n",
    "\n",
    "* 0,192\n",
    "\n",
    "* ***0,496***\n",
    "\n",
    "* 1,192\n",
    "\n",
    "* 0,156"
   ]
  },
  {
   "cell_type": "code",
   "execution_count": 15,
   "metadata": {
    "colab": {
     "base_uri": "https://localhost:8080/",
     "height": 34
    },
    "colab_type": "code",
    "executionInfo": {
     "elapsed": 2254,
     "status": "ok",
     "timestamp": 1595184322519,
     "user": {
      "displayName": "fernandes macedo",
      "photoUrl": "https://lh3.googleusercontent.com/a-/AOh14GhJ9tjvclcdi3RHHRxHgDuwJ2JOnJiNPr2TJokJ=s64",
      "userId": "06599801896491279741"
     },
     "user_tz": 0
    },
    "id": "7RWG3Y8SD_OO",
    "outputId": "d9fe17ca-ce69-44fc-f7e1-f4b41de8e074"
   },
   "outputs": [
    {
     "data": {
      "text/plain": [
       "(2881, 17)"
      ]
     },
     "execution_count": 15,
     "metadata": {},
     "output_type": "execute_result"
    }
   ],
   "source": [
    "df.dropna(inplace=True)\n",
    "df.shape"
   ]
  },
  {
   "cell_type": "code",
   "execution_count": 16,
   "metadata": {
    "colab": {
     "base_uri": "https://localhost:8080/",
     "height": 34
    },
    "colab_type": "code",
    "executionInfo": {
     "elapsed": 1811,
     "status": "ok",
     "timestamp": 1595184630525,
     "user": {
      "displayName": "fernandes macedo",
      "photoUrl": "https://lh3.googleusercontent.com/a-/AOh14GhJ9tjvclcdi3RHHRxHgDuwJ2JOnJiNPr2TJokJ=s64",
      "userId": "06599801896491279741"
     },
     "user_tz": 0
    },
    "id": "OkiqVOUwZvnM",
    "outputId": "1213d5da-0078-4e3c-c18b-776d04b32cf0"
   },
   "outputs": [
    {
     "data": {
      "text/plain": [
       "0.4955570982297817"
      ]
     },
     "execution_count": 16,
     "metadata": {},
     "output_type": "execute_result"
    }
   ],
   "source": [
    "df['temp'].mean()"
   ]
  },
  {
   "cell_type": "markdown",
   "metadata": {
    "colab_type": "text",
    "id": "_0tkIQ9NpOUy"
   },
   "source": [
    "#### Pergunta 6\n",
    "Considere o dataset após a retirada das linhas que continham valores nulos para a coluna \"dteday\". Qual é o desvio padrão para os dados da coluna \"windspeed\" (velocidade do vento normalizada)?\n",
    "\n",
    "* ***0,122***\n",
    "\n",
    "* 0,192\n",
    "\n",
    "* 1,122\n",
    "\n",
    "* 0,189"
   ]
  },
  {
   "cell_type": "code",
   "execution_count": 18,
   "metadata": {
    "colab": {
     "base_uri": "https://localhost:8080/",
     "height": 34
    },
    "colab_type": "code",
    "executionInfo": {
     "elapsed": 1720,
     "status": "ok",
     "timestamp": 1595185006519,
     "user": {
      "displayName": "fernandes macedo",
      "photoUrl": "https://lh3.googleusercontent.com/a-/AOh14GhJ9tjvclcdi3RHHRxHgDuwJ2JOnJiNPr2TJokJ=s64",
      "userId": "06599801896491279741"
     },
     "user_tz": 0
    },
    "id": "aMnD7lYvbIhw",
    "outputId": "83f21b6f-6a92-4208-aead-a2c3a75a6d60"
   },
   "outputs": [
    {
     "data": {
      "text/plain": [
       "0.1220592575549915"
      ]
     },
     "execution_count": 18,
     "metadata": {},
     "output_type": "execute_result"
    }
   ],
   "source": [
    "df['windspeed'].std()"
   ]
  },
  {
   "cell_type": "markdown",
   "metadata": {
    "colab_type": "text",
    "id": "JkKUyKTcpoeK"
   },
   "source": [
    "#### Pergunta 7\n",
    "Considere o dataset após a retirada das linhas que continham valores nulos para a coluna \"dteday\". Transforme a coluna \"season\" em valores categóricos. Quantas categorias diferentes existem?\n",
    "\n",
    "* ***4***\n",
    "\n",
    "* 3\n",
    "\n",
    "* 1\n",
    "\n",
    "* 2"
   ]
  },
  {
   "cell_type": "code",
   "execution_count": 19,
   "metadata": {
    "colab": {},
    "colab_type": "code",
    "id": "lOJnhYzBfs4W"
   },
   "outputs": [],
   "source": [
    "df['season'] = pd.Categorical(df['season'])"
   ]
  },
  {
   "cell_type": "code",
   "execution_count": 20,
   "metadata": {
    "colab": {
     "base_uri": "https://localhost:8080/",
     "height": 323
    },
    "colab_type": "code",
    "executionInfo": {
     "elapsed": 1533,
     "status": "ok",
     "timestamp": 1595186123775,
     "user": {
      "displayName": "fernandes macedo",
      "photoUrl": "https://lh3.googleusercontent.com/a-/AOh14GhJ9tjvclcdi3RHHRxHgDuwJ2JOnJiNPr2TJokJ=s64",
      "userId": "06599801896491279741"
     },
     "user_tz": 0
    },
    "id": "ZO6zHfu_c9Cb",
    "outputId": "95ab8827-a5db-4d73-cefe-35344fc6592e"
   },
   "outputs": [
    {
     "data": {
      "text/plain": [
       "instant        float64\n",
       "dteday          object\n",
       "season        category\n",
       "yr             float64\n",
       "mnth           float64\n",
       "hr             float64\n",
       "holiday        float64\n",
       "weekday        float64\n",
       "workingday     float64\n",
       "weathersit     float64\n",
       "temp           float64\n",
       "atemp          float64\n",
       "hum            float64\n",
       "windspeed      float64\n",
       "casual         float64\n",
       "registered     float64\n",
       "cnt            float64\n",
       "dtype: object"
      ]
     },
     "execution_count": 20,
     "metadata": {},
     "output_type": "execute_result"
    }
   ],
   "source": [
    "df.dtypes"
   ]
  },
  {
   "cell_type": "code",
   "execution_count": 21,
   "metadata": {
    "colab": {
     "base_uri": "https://localhost:8080/",
     "height": 34
    },
    "colab_type": "code",
    "executionInfo": {
     "elapsed": 1700,
     "status": "ok",
     "timestamp": 1595186326126,
     "user": {
      "displayName": "fernandes macedo",
      "photoUrl": "https://lh3.googleusercontent.com/a-/AOh14GhJ9tjvclcdi3RHHRxHgDuwJ2JOnJiNPr2TJokJ=s64",
      "userId": "06599801896491279741"
     },
     "user_tz": 0
    },
    "id": "8WBXrFi7gzm3",
    "outputId": "216722df-42f2-4690-a371-85c16c491b75"
   },
   "outputs": [
    {
     "data": {
      "text/plain": [
       "Float64Index([1.0, 2.0, 3.0, 4.0], dtype='float64')"
      ]
     },
     "execution_count": 21,
     "metadata": {},
     "output_type": "execute_result"
    }
   ],
   "source": [
    "df['season'].cat.categories"
   ]
  },
  {
   "cell_type": "markdown",
   "metadata": {
    "colab_type": "text",
    "id": "PiSVKAo5qBOm"
   },
   "source": [
    "#### Pergunta 8\n",
    "Considere o dataset após a retirada das linhas que continham valores nulos para a coluna \"dteday\". Transforme a coluna \"dteday\" no tipo \"datetime\". Qual é a última data presente no dataset ( YYYY-MM-DD)?\n",
    "\n",
    "* 2012-01-31\n",
    "\n",
    "* 2014-12-31\n",
    "\n",
    "* ***2012-12-31***\n",
    "\n",
    "* 2012-01-31"
   ]
  },
  {
   "cell_type": "code",
   "execution_count": 22,
   "metadata": {
    "colab": {
     "base_uri": "https://localhost:8080/",
     "height": 309
    },
    "colab_type": "code",
    "executionInfo": {
     "elapsed": 2006,
     "status": "ok",
     "timestamp": 1595186808045,
     "user": {
      "displayName": "fernandes macedo",
      "photoUrl": "https://lh3.googleusercontent.com/a-/AOh14GhJ9tjvclcdi3RHHRxHgDuwJ2JOnJiNPr2TJokJ=s64",
      "userId": "06599801896491279741"
     },
     "user_tz": 0
    },
    "id": "RgPNszstir_d",
    "outputId": "4b204803-d2bb-4e4c-e2fe-bc5d87966219"
   },
   "outputs": [
    {
     "data": {
      "text/html": [
       "<div>\n",
       "<style scoped>\n",
       "    .dataframe tbody tr th:only-of-type {\n",
       "        vertical-align: middle;\n",
       "    }\n",
       "\n",
       "    .dataframe tbody tr th {\n",
       "        vertical-align: top;\n",
       "    }\n",
       "\n",
       "    .dataframe thead th {\n",
       "        text-align: right;\n",
       "    }\n",
       "</style>\n",
       "<table border=\"1\" class=\"dataframe\">\n",
       "  <thead>\n",
       "    <tr style=\"text-align: right;\">\n",
       "      <th></th>\n",
       "      <th>instant</th>\n",
       "      <th>dteday</th>\n",
       "      <th>season</th>\n",
       "      <th>yr</th>\n",
       "      <th>mnth</th>\n",
       "      <th>hr</th>\n",
       "      <th>holiday</th>\n",
       "      <th>weekday</th>\n",
       "      <th>workingday</th>\n",
       "      <th>weathersit</th>\n",
       "      <th>temp</th>\n",
       "      <th>atemp</th>\n",
       "      <th>hum</th>\n",
       "      <th>windspeed</th>\n",
       "      <th>casual</th>\n",
       "      <th>registered</th>\n",
       "      <th>cnt</th>\n",
       "    </tr>\n",
       "  </thead>\n",
       "  <tbody>\n",
       "    <tr>\n",
       "      <th>2</th>\n",
       "      <td>3.0</td>\n",
       "      <td>2011-01-01</td>\n",
       "      <td>1.0</td>\n",
       "      <td>0.0</td>\n",
       "      <td>1.0</td>\n",
       "      <td>2.0</td>\n",
       "      <td>0.0</td>\n",
       "      <td>6.0</td>\n",
       "      <td>0.0</td>\n",
       "      <td>1.0</td>\n",
       "      <td>0.22</td>\n",
       "      <td>0.2727</td>\n",
       "      <td>0.80</td>\n",
       "      <td>0.0000</td>\n",
       "      <td>5.0</td>\n",
       "      <td>27.0</td>\n",
       "      <td>32.0</td>\n",
       "    </tr>\n",
       "    <tr>\n",
       "      <th>3</th>\n",
       "      <td>4.0</td>\n",
       "      <td>2011-01-01</td>\n",
       "      <td>1.0</td>\n",
       "      <td>0.0</td>\n",
       "      <td>1.0</td>\n",
       "      <td>3.0</td>\n",
       "      <td>0.0</td>\n",
       "      <td>6.0</td>\n",
       "      <td>0.0</td>\n",
       "      <td>1.0</td>\n",
       "      <td>0.24</td>\n",
       "      <td>0.2879</td>\n",
       "      <td>0.75</td>\n",
       "      <td>0.0000</td>\n",
       "      <td>3.0</td>\n",
       "      <td>10.0</td>\n",
       "      <td>13.0</td>\n",
       "    </tr>\n",
       "    <tr>\n",
       "      <th>5</th>\n",
       "      <td>6.0</td>\n",
       "      <td>2011-01-01</td>\n",
       "      <td>1.0</td>\n",
       "      <td>0.0</td>\n",
       "      <td>1.0</td>\n",
       "      <td>5.0</td>\n",
       "      <td>0.0</td>\n",
       "      <td>6.0</td>\n",
       "      <td>0.0</td>\n",
       "      <td>2.0</td>\n",
       "      <td>0.24</td>\n",
       "      <td>0.2576</td>\n",
       "      <td>0.75</td>\n",
       "      <td>0.0896</td>\n",
       "      <td>0.0</td>\n",
       "      <td>1.0</td>\n",
       "      <td>1.0</td>\n",
       "    </tr>\n",
       "    <tr>\n",
       "      <th>14</th>\n",
       "      <td>15.0</td>\n",
       "      <td>2011-01-01</td>\n",
       "      <td>1.0</td>\n",
       "      <td>0.0</td>\n",
       "      <td>1.0</td>\n",
       "      <td>14.0</td>\n",
       "      <td>0.0</td>\n",
       "      <td>6.0</td>\n",
       "      <td>0.0</td>\n",
       "      <td>2.0</td>\n",
       "      <td>0.46</td>\n",
       "      <td>0.4545</td>\n",
       "      <td>0.72</td>\n",
       "      <td>0.2836</td>\n",
       "      <td>35.0</td>\n",
       "      <td>71.0</td>\n",
       "      <td>106.0</td>\n",
       "    </tr>\n",
       "    <tr>\n",
       "      <th>17</th>\n",
       "      <td>18.0</td>\n",
       "      <td>2011-01-01</td>\n",
       "      <td>1.0</td>\n",
       "      <td>0.0</td>\n",
       "      <td>1.0</td>\n",
       "      <td>17.0</td>\n",
       "      <td>0.0</td>\n",
       "      <td>6.0</td>\n",
       "      <td>0.0</td>\n",
       "      <td>2.0</td>\n",
       "      <td>0.44</td>\n",
       "      <td>0.4394</td>\n",
       "      <td>0.82</td>\n",
       "      <td>0.2836</td>\n",
       "      <td>15.0</td>\n",
       "      <td>52.0</td>\n",
       "      <td>67.0</td>\n",
       "    </tr>\n",
       "  </tbody>\n",
       "</table>\n",
       "</div>"
      ],
      "text/plain": [
       "    instant      dteday season   yr  mnth    hr  holiday  weekday  workingday  \\\n",
       "2       3.0  2011-01-01    1.0  0.0   1.0   2.0      0.0      6.0         0.0   \n",
       "3       4.0  2011-01-01    1.0  0.0   1.0   3.0      0.0      6.0         0.0   \n",
       "5       6.0  2011-01-01    1.0  0.0   1.0   5.0      0.0      6.0         0.0   \n",
       "14     15.0  2011-01-01    1.0  0.0   1.0  14.0      0.0      6.0         0.0   \n",
       "17     18.0  2011-01-01    1.0  0.0   1.0  17.0      0.0      6.0         0.0   \n",
       "\n",
       "    weathersit  temp   atemp   hum  windspeed  casual  registered    cnt  \n",
       "2          1.0  0.22  0.2727  0.80     0.0000     5.0        27.0   32.0  \n",
       "3          1.0  0.24  0.2879  0.75     0.0000     3.0        10.0   13.0  \n",
       "5          2.0  0.24  0.2576  0.75     0.0896     0.0         1.0    1.0  \n",
       "14         2.0  0.46  0.4545  0.72     0.2836    35.0        71.0  106.0  \n",
       "17         2.0  0.44  0.4394  0.82     0.2836    15.0        52.0   67.0  "
      ]
     },
     "execution_count": 22,
     "metadata": {},
     "output_type": "execute_result"
    }
   ],
   "source": [
    "df.head()"
   ]
  },
  {
   "cell_type": "code",
   "execution_count": 23,
   "metadata": {
    "colab": {
     "base_uri": "https://localhost:8080/",
     "height": 309
    },
    "colab_type": "code",
    "executionInfo": {
     "elapsed": 2611,
     "status": "ok",
     "timestamp": 1595186851645,
     "user": {
      "displayName": "fernandes macedo",
      "photoUrl": "https://lh3.googleusercontent.com/a-/AOh14GhJ9tjvclcdi3RHHRxHgDuwJ2JOnJiNPr2TJokJ=s64",
      "userId": "06599801896491279741"
     },
     "user_tz": 0
    },
    "id": "aPdsg0LriyOH",
    "outputId": "712ab614-6f03-40fa-fad4-72f062ff3b72"
   },
   "outputs": [
    {
     "data": {
      "text/html": [
       "<div>\n",
       "<style scoped>\n",
       "    .dataframe tbody tr th:only-of-type {\n",
       "        vertical-align: middle;\n",
       "    }\n",
       "\n",
       "    .dataframe tbody tr th {\n",
       "        vertical-align: top;\n",
       "    }\n",
       "\n",
       "    .dataframe thead th {\n",
       "        text-align: right;\n",
       "    }\n",
       "</style>\n",
       "<table border=\"1\" class=\"dataframe\">\n",
       "  <thead>\n",
       "    <tr style=\"text-align: right;\">\n",
       "      <th></th>\n",
       "      <th>instant</th>\n",
       "      <th>dteday</th>\n",
       "      <th>season</th>\n",
       "      <th>yr</th>\n",
       "      <th>mnth</th>\n",
       "      <th>hr</th>\n",
       "      <th>holiday</th>\n",
       "      <th>weekday</th>\n",
       "      <th>workingday</th>\n",
       "      <th>weathersit</th>\n",
       "      <th>temp</th>\n",
       "      <th>atemp</th>\n",
       "      <th>hum</th>\n",
       "      <th>windspeed</th>\n",
       "      <th>casual</th>\n",
       "      <th>registered</th>\n",
       "      <th>cnt</th>\n",
       "    </tr>\n",
       "  </thead>\n",
       "  <tbody>\n",
       "    <tr>\n",
       "      <th>17324</th>\n",
       "      <td>17325.0</td>\n",
       "      <td>2012-12-29</td>\n",
       "      <td>1.0</td>\n",
       "      <td>1.0</td>\n",
       "      <td>12.0</td>\n",
       "      <td>17.0</td>\n",
       "      <td>0.0</td>\n",
       "      <td>6.0</td>\n",
       "      <td>0.0</td>\n",
       "      <td>1.0</td>\n",
       "      <td>0.26</td>\n",
       "      <td>0.2424</td>\n",
       "      <td>0.79</td>\n",
       "      <td>0.1045</td>\n",
       "      <td>18.0</td>\n",
       "      <td>100.0</td>\n",
       "      <td>118.0</td>\n",
       "    </tr>\n",
       "    <tr>\n",
       "      <th>17336</th>\n",
       "      <td>17337.0</td>\n",
       "      <td>2012-12-30</td>\n",
       "      <td>1.0</td>\n",
       "      <td>1.0</td>\n",
       "      <td>12.0</td>\n",
       "      <td>5.0</td>\n",
       "      <td>0.0</td>\n",
       "      <td>0.0</td>\n",
       "      <td>0.0</td>\n",
       "      <td>2.0</td>\n",
       "      <td>0.26</td>\n",
       "      <td>0.2273</td>\n",
       "      <td>0.48</td>\n",
       "      <td>0.2985</td>\n",
       "      <td>0.0</td>\n",
       "      <td>2.0</td>\n",
       "      <td>2.0</td>\n",
       "    </tr>\n",
       "    <tr>\n",
       "      <th>17337</th>\n",
       "      <td>17338.0</td>\n",
       "      <td>2012-12-30</td>\n",
       "      <td>1.0</td>\n",
       "      <td>1.0</td>\n",
       "      <td>12.0</td>\n",
       "      <td>6.0</td>\n",
       "      <td>0.0</td>\n",
       "      <td>0.0</td>\n",
       "      <td>0.0</td>\n",
       "      <td>2.0</td>\n",
       "      <td>0.24</td>\n",
       "      <td>0.1970</td>\n",
       "      <td>0.52</td>\n",
       "      <td>0.4179</td>\n",
       "      <td>1.0</td>\n",
       "      <td>7.0</td>\n",
       "      <td>8.0</td>\n",
       "    </tr>\n",
       "    <tr>\n",
       "      <th>17344</th>\n",
       "      <td>17345.0</td>\n",
       "      <td>2012-12-30</td>\n",
       "      <td>1.0</td>\n",
       "      <td>1.0</td>\n",
       "      <td>12.0</td>\n",
       "      <td>13.0</td>\n",
       "      <td>0.0</td>\n",
       "      <td>0.0</td>\n",
       "      <td>0.0</td>\n",
       "      <td>1.0</td>\n",
       "      <td>0.30</td>\n",
       "      <td>0.2576</td>\n",
       "      <td>0.36</td>\n",
       "      <td>0.6567</td>\n",
       "      <td>49.0</td>\n",
       "      <td>120.0</td>\n",
       "      <td>169.0</td>\n",
       "    </tr>\n",
       "    <tr>\n",
       "      <th>17355</th>\n",
       "      <td>17356.0</td>\n",
       "      <td>2012-12-31</td>\n",
       "      <td>1.0</td>\n",
       "      <td>1.0</td>\n",
       "      <td>12.0</td>\n",
       "      <td>0.0</td>\n",
       "      <td>0.0</td>\n",
       "      <td>1.0</td>\n",
       "      <td>1.0</td>\n",
       "      <td>1.0</td>\n",
       "      <td>0.18</td>\n",
       "      <td>0.1818</td>\n",
       "      <td>0.55</td>\n",
       "      <td>0.1940</td>\n",
       "      <td>4.0</td>\n",
       "      <td>30.0</td>\n",
       "      <td>34.0</td>\n",
       "    </tr>\n",
       "  </tbody>\n",
       "</table>\n",
       "</div>"
      ],
      "text/plain": [
       "       instant      dteday season   yr  mnth    hr  holiday  weekday  \\\n",
       "17324  17325.0  2012-12-29    1.0  1.0  12.0  17.0      0.0      6.0   \n",
       "17336  17337.0  2012-12-30    1.0  1.0  12.0   5.0      0.0      0.0   \n",
       "17337  17338.0  2012-12-30    1.0  1.0  12.0   6.0      0.0      0.0   \n",
       "17344  17345.0  2012-12-30    1.0  1.0  12.0  13.0      0.0      0.0   \n",
       "17355  17356.0  2012-12-31    1.0  1.0  12.0   0.0      0.0      1.0   \n",
       "\n",
       "       workingday  weathersit  temp   atemp   hum  windspeed  casual  \\\n",
       "17324         0.0         1.0  0.26  0.2424  0.79     0.1045    18.0   \n",
       "17336         0.0         2.0  0.26  0.2273  0.48     0.2985     0.0   \n",
       "17337         0.0         2.0  0.24  0.1970  0.52     0.4179     1.0   \n",
       "17344         0.0         1.0  0.30  0.2576  0.36     0.6567    49.0   \n",
       "17355         1.0         1.0  0.18  0.1818  0.55     0.1940     4.0   \n",
       "\n",
       "       registered    cnt  \n",
       "17324       100.0  118.0  \n",
       "17336         2.0    2.0  \n",
       "17337         7.0    8.0  \n",
       "17344       120.0  169.0  \n",
       "17355        30.0   34.0  "
      ]
     },
     "execution_count": 23,
     "metadata": {},
     "output_type": "execute_result"
    }
   ],
   "source": [
    "df.tail()"
   ]
  },
  {
   "cell_type": "code",
   "execution_count": 24,
   "metadata": {
    "colab": {},
    "colab_type": "code",
    "id": "ApLckiRIdLON"
   },
   "outputs": [],
   "source": [
    "df[['dteday']] = df[['dteday']].apply(pd.to_datetime)"
   ]
  },
  {
   "cell_type": "code",
   "execution_count": 25,
   "metadata": {
    "colab": {
     "base_uri": "https://localhost:8080/",
     "height": 309
    },
    "colab_type": "code",
    "executionInfo": {
     "elapsed": 1772,
     "status": "ok",
     "timestamp": 1595187187233,
     "user": {
      "displayName": "fernandes macedo",
      "photoUrl": "https://lh3.googleusercontent.com/a-/AOh14GhJ9tjvclcdi3RHHRxHgDuwJ2JOnJiNPr2TJokJ=s64",
      "userId": "06599801896491279741"
     },
     "user_tz": 0
    },
    "id": "Typ9nX8vkHTy",
    "outputId": "3199c07c-7d87-4683-af28-5b808fb92884"
   },
   "outputs": [
    {
     "data": {
      "text/html": [
       "<div>\n",
       "<style scoped>\n",
       "    .dataframe tbody tr th:only-of-type {\n",
       "        vertical-align: middle;\n",
       "    }\n",
       "\n",
       "    .dataframe tbody tr th {\n",
       "        vertical-align: top;\n",
       "    }\n",
       "\n",
       "    .dataframe thead th {\n",
       "        text-align: right;\n",
       "    }\n",
       "</style>\n",
       "<table border=\"1\" class=\"dataframe\">\n",
       "  <thead>\n",
       "    <tr style=\"text-align: right;\">\n",
       "      <th></th>\n",
       "      <th>instant</th>\n",
       "      <th>dteday</th>\n",
       "      <th>season</th>\n",
       "      <th>yr</th>\n",
       "      <th>mnth</th>\n",
       "      <th>hr</th>\n",
       "      <th>holiday</th>\n",
       "      <th>weekday</th>\n",
       "      <th>workingday</th>\n",
       "      <th>weathersit</th>\n",
       "      <th>temp</th>\n",
       "      <th>atemp</th>\n",
       "      <th>hum</th>\n",
       "      <th>windspeed</th>\n",
       "      <th>casual</th>\n",
       "      <th>registered</th>\n",
       "      <th>cnt</th>\n",
       "    </tr>\n",
       "  </thead>\n",
       "  <tbody>\n",
       "    <tr>\n",
       "      <th>17324</th>\n",
       "      <td>17325.0</td>\n",
       "      <td>2012-12-29</td>\n",
       "      <td>1.0</td>\n",
       "      <td>1.0</td>\n",
       "      <td>12.0</td>\n",
       "      <td>17.0</td>\n",
       "      <td>0.0</td>\n",
       "      <td>6.0</td>\n",
       "      <td>0.0</td>\n",
       "      <td>1.0</td>\n",
       "      <td>0.26</td>\n",
       "      <td>0.2424</td>\n",
       "      <td>0.79</td>\n",
       "      <td>0.1045</td>\n",
       "      <td>18.0</td>\n",
       "      <td>100.0</td>\n",
       "      <td>118.0</td>\n",
       "    </tr>\n",
       "    <tr>\n",
       "      <th>17336</th>\n",
       "      <td>17337.0</td>\n",
       "      <td>2012-12-30</td>\n",
       "      <td>1.0</td>\n",
       "      <td>1.0</td>\n",
       "      <td>12.0</td>\n",
       "      <td>5.0</td>\n",
       "      <td>0.0</td>\n",
       "      <td>0.0</td>\n",
       "      <td>0.0</td>\n",
       "      <td>2.0</td>\n",
       "      <td>0.26</td>\n",
       "      <td>0.2273</td>\n",
       "      <td>0.48</td>\n",
       "      <td>0.2985</td>\n",
       "      <td>0.0</td>\n",
       "      <td>2.0</td>\n",
       "      <td>2.0</td>\n",
       "    </tr>\n",
       "    <tr>\n",
       "      <th>17337</th>\n",
       "      <td>17338.0</td>\n",
       "      <td>2012-12-30</td>\n",
       "      <td>1.0</td>\n",
       "      <td>1.0</td>\n",
       "      <td>12.0</td>\n",
       "      <td>6.0</td>\n",
       "      <td>0.0</td>\n",
       "      <td>0.0</td>\n",
       "      <td>0.0</td>\n",
       "      <td>2.0</td>\n",
       "      <td>0.24</td>\n",
       "      <td>0.1970</td>\n",
       "      <td>0.52</td>\n",
       "      <td>0.4179</td>\n",
       "      <td>1.0</td>\n",
       "      <td>7.0</td>\n",
       "      <td>8.0</td>\n",
       "    </tr>\n",
       "    <tr>\n",
       "      <th>17344</th>\n",
       "      <td>17345.0</td>\n",
       "      <td>2012-12-30</td>\n",
       "      <td>1.0</td>\n",
       "      <td>1.0</td>\n",
       "      <td>12.0</td>\n",
       "      <td>13.0</td>\n",
       "      <td>0.0</td>\n",
       "      <td>0.0</td>\n",
       "      <td>0.0</td>\n",
       "      <td>1.0</td>\n",
       "      <td>0.30</td>\n",
       "      <td>0.2576</td>\n",
       "      <td>0.36</td>\n",
       "      <td>0.6567</td>\n",
       "      <td>49.0</td>\n",
       "      <td>120.0</td>\n",
       "      <td>169.0</td>\n",
       "    </tr>\n",
       "    <tr>\n",
       "      <th>17355</th>\n",
       "      <td>17356.0</td>\n",
       "      <td>2012-12-31</td>\n",
       "      <td>1.0</td>\n",
       "      <td>1.0</td>\n",
       "      <td>12.0</td>\n",
       "      <td>0.0</td>\n",
       "      <td>0.0</td>\n",
       "      <td>1.0</td>\n",
       "      <td>1.0</td>\n",
       "      <td>1.0</td>\n",
       "      <td>0.18</td>\n",
       "      <td>0.1818</td>\n",
       "      <td>0.55</td>\n",
       "      <td>0.1940</td>\n",
       "      <td>4.0</td>\n",
       "      <td>30.0</td>\n",
       "      <td>34.0</td>\n",
       "    </tr>\n",
       "  </tbody>\n",
       "</table>\n",
       "</div>"
      ],
      "text/plain": [
       "       instant     dteday season   yr  mnth    hr  holiday  weekday  \\\n",
       "17324  17325.0 2012-12-29    1.0  1.0  12.0  17.0      0.0      6.0   \n",
       "17336  17337.0 2012-12-30    1.0  1.0  12.0   5.0      0.0      0.0   \n",
       "17337  17338.0 2012-12-30    1.0  1.0  12.0   6.0      0.0      0.0   \n",
       "17344  17345.0 2012-12-30    1.0  1.0  12.0  13.0      0.0      0.0   \n",
       "17355  17356.0 2012-12-31    1.0  1.0  12.0   0.0      0.0      1.0   \n",
       "\n",
       "       workingday  weathersit  temp   atemp   hum  windspeed  casual  \\\n",
       "17324         0.0         1.0  0.26  0.2424  0.79     0.1045    18.0   \n",
       "17336         0.0         2.0  0.26  0.2273  0.48     0.2985     0.0   \n",
       "17337         0.0         2.0  0.24  0.1970  0.52     0.4179     1.0   \n",
       "17344         0.0         1.0  0.30  0.2576  0.36     0.6567    49.0   \n",
       "17355         1.0         1.0  0.18  0.1818  0.55     0.1940     4.0   \n",
       "\n",
       "       registered    cnt  \n",
       "17324       100.0  118.0  \n",
       "17336         2.0    2.0  \n",
       "17337         7.0    8.0  \n",
       "17344       120.0  169.0  \n",
       "17355        30.0   34.0  "
      ]
     },
     "execution_count": 25,
     "metadata": {},
     "output_type": "execute_result"
    }
   ],
   "source": [
    "df.tail()"
   ]
  },
  {
   "cell_type": "code",
   "execution_count": 26,
   "metadata": {
    "colab": {
     "base_uri": "https://localhost:8080/",
     "height": 425
    },
    "colab_type": "code",
    "executionInfo": {
     "elapsed": 2096,
     "status": "ok",
     "timestamp": 1595187220729,
     "user": {
      "displayName": "fernandes macedo",
      "photoUrl": "https://lh3.googleusercontent.com/a-/AOh14GhJ9tjvclcdi3RHHRxHgDuwJ2JOnJiNPr2TJokJ=s64",
      "userId": "06599801896491279741"
     },
     "user_tz": 0
    },
    "id": "ApyvSuUMkQlm",
    "outputId": "d8a86989-1bbb-4643-f2c3-8eb0fdda8e17"
   },
   "outputs": [
    {
     "name": "stdout",
     "output_type": "stream",
     "text": [
      "<class 'pandas.core.frame.DataFrame'>\n",
      "Int64Index: 2881 entries, 2 to 17355\n",
      "Data columns (total 17 columns):\n",
      " #   Column      Non-Null Count  Dtype         \n",
      "---  ------      --------------  -----         \n",
      " 0   instant     2881 non-null   float64       \n",
      " 1   dteday      2881 non-null   datetime64[ns]\n",
      " 2   season      2881 non-null   category      \n",
      " 3   yr          2881 non-null   float64       \n",
      " 4   mnth        2881 non-null   float64       \n",
      " 5   hr          2881 non-null   float64       \n",
      " 6   holiday     2881 non-null   float64       \n",
      " 7   weekday     2881 non-null   float64       \n",
      " 8   workingday  2881 non-null   float64       \n",
      " 9   weathersit  2881 non-null   float64       \n",
      " 10  temp        2881 non-null   float64       \n",
      " 11  atemp       2881 non-null   float64       \n",
      " 12  hum         2881 non-null   float64       \n",
      " 13  windspeed   2881 non-null   float64       \n",
      " 14  casual      2881 non-null   float64       \n",
      " 15  registered  2881 non-null   float64       \n",
      " 16  cnt         2881 non-null   float64       \n",
      "dtypes: category(1), datetime64[ns](1), float64(15)\n",
      "memory usage: 385.6 KB\n"
     ]
    }
   ],
   "source": [
    "df.info()"
   ]
  },
  {
   "cell_type": "markdown",
   "metadata": {
    "colab_type": "text",
    "id": "8YR6MQWkqh6R"
   },
   "source": [
    "#### Pergunta 9\n",
    "Considere o dataset após a retirada das linhas que continham valores nulos para a coluna \"dteday\". Considerendo o boxplot da variável \"windspeed\" (velocidade do vento) é CORRETO afirmar?\n",
    "\n",
    "* ***Existem possíveis outliers, pois existem marcações (pontos) foras dos limites do boxplot.***\n",
    "\n",
    "* Não existem possíveis outliers, pois existem marcações (pontos) foras dos limites do boxplot.\n",
    "\n",
    "* Não existem possíveis outliers, pois não existem marcações (pontos) foras dos limites do boxplot.\n",
    "\n",
    "* Existem possíveis outliers, pois não existem marcações (pontos) foras dos limites do boxplot."
   ]
  },
  {
   "cell_type": "code",
   "execution_count": 27,
   "metadata": {
    "colab": {
     "base_uri": "https://localhost:8080/",
     "height": 283
    },
    "colab_type": "code",
    "executionInfo": {
     "elapsed": 2405,
     "status": "ok",
     "timestamp": 1595187461970,
     "user": {
      "displayName": "fernandes macedo",
      "photoUrl": "https://lh3.googleusercontent.com/a-/AOh14GhJ9tjvclcdi3RHHRxHgDuwJ2JOnJiNPr2TJokJ=s64",
      "userId": "06599801896491279741"
     },
     "user_tz": 0
    },
    "id": "MB6YLhHslH1y",
    "outputId": "9efcf59c-9714-4b6d-9539-57a99c6fe069"
   },
   "outputs": [
    {
     "data": {
      "text/plain": [
       "<AxesSubplot:>"
      ]
     },
     "execution_count": 27,
     "metadata": {},
     "output_type": "execute_result"
    },
    {
     "data": {
      "image/png": "[encoded data removed]",
      "text/plain": [
       "<Figure size 432x288 with 1 Axes>"
      ]
     },
     "metadata": {
      "needs_background": "light"
     },
     "output_type": "display_data"
    }
   ],
   "source": [
    "df.boxplot(column=['windspeed'], return_type='axes')"
   ]
  },
  {
   "cell_type": "markdown",
   "metadata": {
    "colab_type": "text",
    "id": "Zta3IFkIkWbI"
   },
   "source": [
    "#### Pergunta 10\n",
    "Considere o dataset após a retirada das linhas que continham valores nulos para a coluna \"dteday\". Selecione as colunas \"season\", \"temp\", \"atemp\", \"hum\", \"windspeed\". Plot a matriz de correlação. Sobre as variáveis \"hum\" e \"cnt\" é CORRETO afirmar:\n",
    "\n",
    "* Possuem alta correlação linear negativa.\n",
    "\n",
    "* Possuem alta correlação linear positiva.\n",
    "\n",
    "* ***Possuem baixa correlação linear negativa.***\n",
    "\n",
    "* Possuem baixa correlação linear positiva."
   ]
  },
  {
   "cell_type": "markdown",
   "metadata": {
    "colab_type": "text",
    "id": "hEvmtwP8_m8y"
   },
   "source": [
    "**Linear correlation** measures the proximity of the mathematical relationship between variables or dataset features to a linear function. If the relationship between the two features is closer to some linear function, then their linear correlation is stronger and the absolute value of the correlation coefficient is higher.\n",
    "<br>\n",
    "The correlation coefficient has values between -1 to 1\n",
    "* A value closer to 0 implies weaker correlation (exact 0 implying no correlation)\n",
    "* A value closer to 1 implies stronger positive correlation\n",
    "* A value closer to -1 implies stronger negative correlation"
   ]
  },
  {
   "cell_type": "code",
   "execution_count": 28,
   "metadata": {
    "colab": {
     "base_uri": "https://localhost:8080/",
     "height": 119
    },
    "colab_type": "code",
    "executionInfo": {
     "elapsed": 1589,
     "status": "ok",
     "timestamp": 1595195861800,
     "user": {
      "displayName": "fernandes macedo",
      "photoUrl": "https://lh3.googleusercontent.com/a-/AOh14GhJ9tjvclcdi3RHHRxHgDuwJ2JOnJiNPr2TJokJ=s64",
      "userId": "06599801896491279741"
     },
     "user_tz": 0
    },
    "id": "Tss90huGz8Ga",
    "outputId": "730f5d85-9d9a-41fa-c0d6-8919a68b7689"
   },
   "outputs": [
    {
     "name": "stdout",
     "output_type": "stream",
     "text": [
      "               temp     atemp       hum  windspeed       cnt\n",
      "temp       1.000000  0.989701 -0.084060  -0.045575  0.413932\n",
      "atemp      0.989701  1.000000 -0.068203  -0.082647  0.410328\n",
      "hum       -0.084060 -0.068203  1.000000  -0.285099 -0.326866\n",
      "windspeed -0.045575 -0.082647 -0.285099   1.000000  0.093300\n",
      "cnt        0.413932  0.410328 -0.326866   0.093300  1.000000\n"
     ]
    }
   ],
   "source": [
    "print(df[['season', 'temp', 'atemp', 'hum', 'windspeed', 'cnt']].corr())"
   ]
  },
  {
   "cell_type": "code",
   "execution_count": 29,
   "metadata": {
    "colab": {
     "base_uri": "https://localhost:8080/",
     "height": 145
    },
    "colab_type": "code",
    "executionInfo": {
     "elapsed": 3160,
     "status": "ok",
     "timestamp": 1595196231853,
     "user": {
      "displayName": "fernandes macedo",
      "photoUrl": "https://lh3.googleusercontent.com/a-/AOh14GhJ9tjvclcdi3RHHRxHgDuwJ2JOnJiNPr2TJokJ=s64",
      "userId": "06599801896491279741"
     },
     "user_tz": 0
    },
    "id": "AfMSMEaE9iK_",
    "outputId": "1a636b86-1a54-4304-d495-e09a01523b64"
   },
   "outputs": [
    {
     "data": {
      "text/html": [
       "<style  type=\"text/css\" >\n",
       "#T_8ce41b2b_9bc5_11eb_a484_485ab6f52454row0_col0,#T_8ce41b2b_9bc5_11eb_a484_485ab6f52454row1_col1,#T_8ce41b2b_9bc5_11eb_a484_485ab6f52454row2_col2,#T_8ce41b2b_9bc5_11eb_a484_485ab6f52454row3_col3,#T_8ce41b2b_9bc5_11eb_a484_485ab6f52454row4_col4{\n",
       "            background-color:  #b40426;\n",
       "            color:  #f1f1f1;\n",
       "        }#T_8ce41b2b_9bc5_11eb_a484_485ab6f52454row0_col1,#T_8ce41b2b_9bc5_11eb_a484_485ab6f52454row1_col0{\n",
       "            background-color:  #b70d28;\n",
       "            color:  #f1f1f1;\n",
       "        }#T_8ce41b2b_9bc5_11eb_a484_485ab6f52454row0_col2{\n",
       "            background-color:  #7597f6;\n",
       "            color:  #000000;\n",
       "        }#T_8ce41b2b_9bc5_11eb_a484_485ab6f52454row0_col3{\n",
       "            background-color:  #7699f6;\n",
       "            color:  #000000;\n",
       "        }#T_8ce41b2b_9bc5_11eb_a484_485ab6f52454row0_col4,#T_8ce41b2b_9bc5_11eb_a484_485ab6f52454row1_col4{\n",
       "            background-color:  #ead4c8;\n",
       "            color:  #000000;\n",
       "        }#T_8ce41b2b_9bc5_11eb_a484_485ab6f52454row1_col2{\n",
       "            background-color:  #799cf8;\n",
       "            color:  #000000;\n",
       "        }#T_8ce41b2b_9bc5_11eb_a484_485ab6f52454row1_col3{\n",
       "            background-color:  #6c8ff1;\n",
       "            color:  #000000;\n",
       "        }#T_8ce41b2b_9bc5_11eb_a484_485ab6f52454row2_col0,#T_8ce41b2b_9bc5_11eb_a484_485ab6f52454row2_col3,#T_8ce41b2b_9bc5_11eb_a484_485ab6f52454row2_col4,#T_8ce41b2b_9bc5_11eb_a484_485ab6f52454row3_col1,#T_8ce41b2b_9bc5_11eb_a484_485ab6f52454row4_col2{\n",
       "            background-color:  #3b4cc0;\n",
       "            color:  #f1f1f1;\n",
       "        }#T_8ce41b2b_9bc5_11eb_a484_485ab6f52454row2_col1{\n",
       "            background-color:  #3e51c5;\n",
       "            color:  #f1f1f1;\n",
       "        }#T_8ce41b2b_9bc5_11eb_a484_485ab6f52454row3_col0{\n",
       "            background-color:  #455cce;\n",
       "            color:  #f1f1f1;\n",
       "        }#T_8ce41b2b_9bc5_11eb_a484_485ab6f52454row3_col2{\n",
       "            background-color:  #445acc;\n",
       "            color:  #f1f1f1;\n",
       "        }#T_8ce41b2b_9bc5_11eb_a484_485ab6f52454row3_col4{\n",
       "            background-color:  #a5c3fe;\n",
       "            color:  #000000;\n",
       "        }#T_8ce41b2b_9bc5_11eb_a484_485ab6f52454row4_col0{\n",
       "            background-color:  #d2dbe8;\n",
       "            color:  #000000;\n",
       "        }#T_8ce41b2b_9bc5_11eb_a484_485ab6f52454row4_col1{\n",
       "            background-color:  #d1dae9;\n",
       "            color:  #000000;\n",
       "        }#T_8ce41b2b_9bc5_11eb_a484_485ab6f52454row4_col3{\n",
       "            background-color:  #9dbdff;\n",
       "            color:  #000000;\n",
       "        }</style><table id=\"T_8ce41b2b_9bc5_11eb_a484_485ab6f52454\" ><thead>    <tr>        <th class=\"blank level0\" ></th>        <th class=\"col_heading level0 col0\" >temp</th>        <th class=\"col_heading level0 col1\" >atemp</th>        <th class=\"col_heading level0 col2\" >hum</th>        <th class=\"col_heading level0 col3\" >windspeed</th>        <th class=\"col_heading level0 col4\" >cnt</th>    </tr></thead><tbody>\n",
       "                <tr>\n",
       "                        <th id=\"T_8ce41b2b_9bc5_11eb_a484_485ab6f52454level0_row0\" class=\"row_heading level0 row0\" >temp</th>\n",
       "                        <td id=\"T_8ce41b2b_9bc5_11eb_a484_485ab6f52454row0_col0\" class=\"data row0 col0\" >1.00</td>\n",
       "                        <td id=\"T_8ce41b2b_9bc5_11eb_a484_485ab6f52454row0_col1\" class=\"data row0 col1\" >0.99</td>\n",
       "                        <td id=\"T_8ce41b2b_9bc5_11eb_a484_485ab6f52454row0_col2\" class=\"data row0 col2\" >-0.08</td>\n",
       "                        <td id=\"T_8ce41b2b_9bc5_11eb_a484_485ab6f52454row0_col3\" class=\"data row0 col3\" >-0.05</td>\n",
       "                        <td id=\"T_8ce41b2b_9bc5_11eb_a484_485ab6f52454row0_col4\" class=\"data row0 col4\" >0.41</td>\n",
       "            </tr>\n",
       "            <tr>\n",
       "                        <th id=\"T_8ce41b2b_9bc5_11eb_a484_485ab6f52454level0_row1\" class=\"row_heading level0 row1\" >atemp</th>\n",
       "                        <td id=\"T_8ce41b2b_9bc5_11eb_a484_485ab6f52454row1_col0\" class=\"data row1 col0\" >0.99</td>\n",
       "                        <td id=\"T_8ce41b2b_9bc5_11eb_a484_485ab6f52454row1_col1\" class=\"data row1 col1\" >1.00</td>\n",
       "                        <td id=\"T_8ce41b2b_9bc5_11eb_a484_485ab6f52454row1_col2\" class=\"data row1 col2\" >-0.07</td>\n",
       "                        <td id=\"T_8ce41b2b_9bc5_11eb_a484_485ab6f52454row1_col3\" class=\"data row1 col3\" >-0.08</td>\n",
       "                        <td id=\"T_8ce41b2b_9bc5_11eb_a484_485ab6f52454row1_col4\" class=\"data row1 col4\" >0.41</td>\n",
       "            </tr>\n",
       "            <tr>\n",
       "                        <th id=\"T_8ce41b2b_9bc5_11eb_a484_485ab6f52454level0_row2\" class=\"row_heading level0 row2\" >hum</th>\n",
       "                        <td id=\"T_8ce41b2b_9bc5_11eb_a484_485ab6f52454row2_col0\" class=\"data row2 col0\" >-0.08</td>\n",
       "                        <td id=\"T_8ce41b2b_9bc5_11eb_a484_485ab6f52454row2_col1\" class=\"data row2 col1\" >-0.07</td>\n",
       "                        <td id=\"T_8ce41b2b_9bc5_11eb_a484_485ab6f52454row2_col2\" class=\"data row2 col2\" >1.00</td>\n",
       "                        <td id=\"T_8ce41b2b_9bc5_11eb_a484_485ab6f52454row2_col3\" class=\"data row2 col3\" >-0.29</td>\n",
       "                        <td id=\"T_8ce41b2b_9bc5_11eb_a484_485ab6f52454row2_col4\" class=\"data row2 col4\" >-0.33</td>\n",
       "            </tr>\n",
       "            <tr>\n",
       "                        <th id=\"T_8ce41b2b_9bc5_11eb_a484_485ab6f52454level0_row3\" class=\"row_heading level0 row3\" >windspeed</th>\n",
       "                        <td id=\"T_8ce41b2b_9bc5_11eb_a484_485ab6f52454row3_col0\" class=\"data row3 col0\" >-0.05</td>\n",
       "                        <td id=\"T_8ce41b2b_9bc5_11eb_a484_485ab6f52454row3_col1\" class=\"data row3 col1\" >-0.08</td>\n",
       "                        <td id=\"T_8ce41b2b_9bc5_11eb_a484_485ab6f52454row3_col2\" class=\"data row3 col2\" >-0.29</td>\n",
       "                        <td id=\"T_8ce41b2b_9bc5_11eb_a484_485ab6f52454row3_col3\" class=\"data row3 col3\" >1.00</td>\n",
       "                        <td id=\"T_8ce41b2b_9bc5_11eb_a484_485ab6f52454row3_col4\" class=\"data row3 col4\" >0.09</td>\n",
       "            </tr>\n",
       "            <tr>\n",
       "                        <th id=\"T_8ce41b2b_9bc5_11eb_a484_485ab6f52454level0_row4\" class=\"row_heading level0 row4\" >cnt</th>\n",
       "                        <td id=\"T_8ce41b2b_9bc5_11eb_a484_485ab6f52454row4_col0\" class=\"data row4 col0\" >0.41</td>\n",
       "                        <td id=\"T_8ce41b2b_9bc5_11eb_a484_485ab6f52454row4_col1\" class=\"data row4 col1\" >0.41</td>\n",
       "                        <td id=\"T_8ce41b2b_9bc5_11eb_a484_485ab6f52454row4_col2\" class=\"data row4 col2\" >-0.33</td>\n",
       "                        <td id=\"T_8ce41b2b_9bc5_11eb_a484_485ab6f52454row4_col3\" class=\"data row4 col3\" >0.09</td>\n",
       "                        <td id=\"T_8ce41b2b_9bc5_11eb_a484_485ab6f52454row4_col4\" class=\"data row4 col4\" >1.00</td>\n",
       "            </tr>\n",
       "    </tbody></table>"
      ],
      "text/plain": [
       "<pandas.io.formats.style.Styler at 0x1f85f383250>"
      ]
     },
     "execution_count": 29,
     "metadata": {},
     "output_type": "execute_result"
    }
   ],
   "source": [
    "corr_matrix = df[['season', 'temp', 'atemp', 'hum', 'windspeed', 'cnt']].corr()\n",
    "corr_matrix.style.background_gradient(cmap='coolwarm').set_precision(2)"
   ]
  },
  {
   "cell_type": "code",
   "execution_count": 30,
   "metadata": {
    "colab": {
     "base_uri": "https://localhost:8080/",
     "height": 34
    },
    "colab_type": "code",
    "executionInfo": {
     "elapsed": 1380,
     "status": "ok",
     "timestamp": 1595196326900,
     "user": {
      "displayName": "fernandes macedo",
      "photoUrl": "https://lh3.googleusercontent.com/a-/AOh14GhJ9tjvclcdi3RHHRxHgDuwJ2JOnJiNPr2TJokJ=s64",
      "userId": "06599801896491279741"
     },
     "user_tz": 0
    },
    "id": "QP_xl0U6GQ7J",
    "outputId": "75179d29-7106-4a5f-e71a-21472d8cf5b6"
   },
   "outputs": [
    {
     "data": {
      "text/plain": [
       "-0.32686578114445924"
      ]
     },
     "execution_count": 30,
     "metadata": {},
     "output_type": "execute_result"
    }
   ],
   "source": [
    "corr_matrix.at['hum', 'cnt']"
   ]
  },
  {
   "cell_type": "markdown",
   "metadata": {
    "colab_type": "text",
    "id": "Fr2Z6qhHMr-S"
   },
   "source": [
    "#### Pergunta 11\n",
    "Preencha os valores nulos das colunas \"hum\",\"cnt\" e \"casual\" com os valores médios. Utilize as variáveis \"hum\" e \"casual\" como independentes e a \"cnt\" como dependente. Aplique uma regressão linear. Qual o valor de R2? Utilize as entradas como teste.\n",
    "\n",
    "* -0.80\n",
    "\n",
    "* 0.80\n",
    "\n",
    "* -0.40\n",
    "\n",
    "* ***0.40***\n"
   ]
  },
  {
   "cell_type": "code",
   "execution_count": 32,
   "metadata": {
    "colab": {},
    "colab_type": "code",
    "id": "WqtWe8GrMBEQ"
   },
   "outputs": [],
   "source": [
    "#realizando a leitura do arquivo (dataset)\n",
    "import pandas as pd \n",
    "df = pd.read_csv(\"comp_bikes_mod.csv\")"
   ]
  },
  {
   "cell_type": "code",
   "execution_count": 33,
   "metadata": {
    "colab": {
     "base_uri": "https://localhost:8080/",
     "height": 204
    },
    "colab_type": "code",
    "executionInfo": {
     "elapsed": 391,
     "status": "ok",
     "timestamp": 1595417934556,
     "user": {
      "displayName": "fernandes macedo",
      "photoUrl": "https://lh3.googleusercontent.com/a-/AOh14GhJ9tjvclcdi3RHHRxHgDuwJ2JOnJiNPr2TJokJ=s64",
      "userId": "06599801896491279741"
     },
     "user_tz": 180
    },
    "id": "c0ESPBkkDAsL",
    "outputId": "1597b8a1-6213-4e31-8259-2a996fba1139"
   },
   "outputs": [
    {
     "data": {
      "text/html": [
       "<div>\n",
       "<style scoped>\n",
       "    .dataframe tbody tr th:only-of-type {\n",
       "        vertical-align: middle;\n",
       "    }\n",
       "\n",
       "    .dataframe tbody tr th {\n",
       "        vertical-align: top;\n",
       "    }\n",
       "\n",
       "    .dataframe thead th {\n",
       "        text-align: right;\n",
       "    }\n",
       "</style>\n",
       "<table border=\"1\" class=\"dataframe\">\n",
       "  <thead>\n",
       "    <tr style=\"text-align: right;\">\n",
       "      <th></th>\n",
       "      <th>hum</th>\n",
       "      <th>cnt</th>\n",
       "      <th>casual</th>\n",
       "    </tr>\n",
       "  </thead>\n",
       "  <tbody>\n",
       "    <tr>\n",
       "      <th>0</th>\n",
       "      <td>0.81</td>\n",
       "      <td>16.0</td>\n",
       "      <td>3.0</td>\n",
       "    </tr>\n",
       "    <tr>\n",
       "      <th>1</th>\n",
       "      <td>0.80</td>\n",
       "      <td>40.0</td>\n",
       "      <td>8.0</td>\n",
       "    </tr>\n",
       "    <tr>\n",
       "      <th>2</th>\n",
       "      <td>0.80</td>\n",
       "      <td>32.0</td>\n",
       "      <td>5.0</td>\n",
       "    </tr>\n",
       "    <tr>\n",
       "      <th>3</th>\n",
       "      <td>0.75</td>\n",
       "      <td>13.0</td>\n",
       "      <td>3.0</td>\n",
       "    </tr>\n",
       "    <tr>\n",
       "      <th>4</th>\n",
       "      <td>0.75</td>\n",
       "      <td>1.0</td>\n",
       "      <td>0.0</td>\n",
       "    </tr>\n",
       "  </tbody>\n",
       "</table>\n",
       "</div>"
      ],
      "text/plain": [
       "    hum   cnt  casual\n",
       "0  0.81  16.0     3.0\n",
       "1  0.80  40.0     8.0\n",
       "2  0.80  32.0     5.0\n",
       "3  0.75  13.0     3.0\n",
       "4  0.75   1.0     0.0"
      ]
     },
     "execution_count": 33,
     "metadata": {},
     "output_type": "execute_result"
    }
   ],
   "source": [
    "selected_columns = df[['hum', 'cnt', 'casual']]\n",
    "null_df = selected_columns.copy()\n",
    "null_df.head()"
   ]
  },
  {
   "cell_type": "code",
   "execution_count": 34,
   "metadata": {
    "colab": {
     "base_uri": "https://localhost:8080/",
     "height": 204
    },
    "colab_type": "code",
    "executionInfo": {
     "elapsed": 588,
     "status": "ok",
     "timestamp": 1595417937476,
     "user": {
      "displayName": "fernandes macedo",
      "photoUrl": "https://lh3.googleusercontent.com/a-/AOh14GhJ9tjvclcdi3RHHRxHgDuwJ2JOnJiNPr2TJokJ=s64",
      "userId": "06599801896491279741"
     },
     "user_tz": 180
    },
    "id": "3OoudP3Hz8t5",
    "outputId": "899e8aca-e84e-49ee-c458-b0656afc1863"
   },
   "outputs": [
    {
     "data": {
      "text/html": [
       "<div>\n",
       "<style scoped>\n",
       "    .dataframe tbody tr th:only-of-type {\n",
       "        vertical-align: middle;\n",
       "    }\n",
       "\n",
       "    .dataframe tbody tr th {\n",
       "        vertical-align: top;\n",
       "    }\n",
       "\n",
       "    .dataframe thead th {\n",
       "        text-align: right;\n",
       "    }\n",
       "</style>\n",
       "<table border=\"1\" class=\"dataframe\">\n",
       "  <thead>\n",
       "    <tr style=\"text-align: right;\">\n",
       "      <th></th>\n",
       "      <th>hum</th>\n",
       "      <th>cnt</th>\n",
       "      <th>casual</th>\n",
       "    </tr>\n",
       "  </thead>\n",
       "  <tbody>\n",
       "    <tr>\n",
       "      <th>0</th>\n",
       "      <td>0.81</td>\n",
       "      <td>16.0</td>\n",
       "      <td>3.0</td>\n",
       "    </tr>\n",
       "    <tr>\n",
       "      <th>1</th>\n",
       "      <td>0.80</td>\n",
       "      <td>40.0</td>\n",
       "      <td>8.0</td>\n",
       "    </tr>\n",
       "    <tr>\n",
       "      <th>2</th>\n",
       "      <td>0.80</td>\n",
       "      <td>32.0</td>\n",
       "      <td>5.0</td>\n",
       "    </tr>\n",
       "    <tr>\n",
       "      <th>3</th>\n",
       "      <td>0.75</td>\n",
       "      <td>13.0</td>\n",
       "      <td>3.0</td>\n",
       "    </tr>\n",
       "    <tr>\n",
       "      <th>4</th>\n",
       "      <td>0.75</td>\n",
       "      <td>1.0</td>\n",
       "      <td>0.0</td>\n",
       "    </tr>\n",
       "  </tbody>\n",
       "</table>\n",
       "</div>"
      ],
      "text/plain": [
       "    hum   cnt  casual\n",
       "0  0.81  16.0     3.0\n",
       "1  0.80  40.0     8.0\n",
       "2  0.80  32.0     5.0\n",
       "3  0.75  13.0     3.0\n",
       "4  0.75   1.0     0.0"
      ]
     },
     "execution_count": 34,
     "metadata": {},
     "output_type": "execute_result"
    }
   ],
   "source": [
    "#preenchendo os valores médios da coluna\n",
    "mean_df = null_df.fillna(null_df.mean())\n",
    "mean_df.head()"
   ]
  },
  {
   "cell_type": "code",
   "execution_count": 35,
   "metadata": {
    "colab": {
     "base_uri": "https://localhost:8080/",
     "height": 34
    },
    "colab_type": "code",
    "executionInfo": {
     "elapsed": 646,
     "status": "ok",
     "timestamp": 1595417938651,
     "user": {
      "displayName": "fernandes macedo",
      "photoUrl": "https://lh3.googleusercontent.com/a-/AOh14GhJ9tjvclcdi3RHHRxHgDuwJ2JOnJiNPr2TJokJ=s64",
      "userId": "06599801896491279741"
     },
     "user_tz": 180
    },
    "id": "nSaMYtivXtzI",
    "outputId": "361c0a33-597c-4bd5-c045-a5842251d4e2"
   },
   "outputs": [
    {
     "data": {
      "text/plain": [
       "(17379, 3)"
      ]
     },
     "execution_count": 35,
     "metadata": {},
     "output_type": "execute_result"
    }
   ],
   "source": [
    "mean_df.shape"
   ]
  },
  {
   "cell_type": "code",
   "execution_count": 36,
   "metadata": {
    "colab": {
     "base_uri": "https://localhost:8080/",
     "height": 204
    },
    "colab_type": "code",
    "executionInfo": {
     "elapsed": 501,
     "status": "ok",
     "timestamp": 1595417939358,
     "user": {
      "displayName": "fernandes macedo",
      "photoUrl": "https://lh3.googleusercontent.com/a-/AOh14GhJ9tjvclcdi3RHHRxHgDuwJ2JOnJiNPr2TJokJ=s64",
      "userId": "06599801896491279741"
     },
     "user_tz": 180
    },
    "id": "vojSZAtLYO6M",
    "outputId": "4c99041f-f7b7-400b-c468-61598b43a602"
   },
   "outputs": [
    {
     "data": {
      "text/html": [
       "<div>\n",
       "<style scoped>\n",
       "    .dataframe tbody tr th:only-of-type {\n",
       "        vertical-align: middle;\n",
       "    }\n",
       "\n",
       "    .dataframe tbody tr th {\n",
       "        vertical-align: top;\n",
       "    }\n",
       "\n",
       "    .dataframe thead th {\n",
       "        text-align: right;\n",
       "    }\n",
       "</style>\n",
       "<table border=\"1\" class=\"dataframe\">\n",
       "  <thead>\n",
       "    <tr style=\"text-align: right;\">\n",
       "      <th></th>\n",
       "      <th>hum</th>\n",
       "      <th>cnt</th>\n",
       "      <th>casual</th>\n",
       "    </tr>\n",
       "  </thead>\n",
       "  <tbody>\n",
       "    <tr>\n",
       "      <th>17374</th>\n",
       "      <td>0.60</td>\n",
       "      <td>119.0</td>\n",
       "      <td>11.000000</td>\n",
       "    </tr>\n",
       "    <tr>\n",
       "      <th>17375</th>\n",
       "      <td>0.60</td>\n",
       "      <td>89.0</td>\n",
       "      <td>35.583147</td>\n",
       "    </tr>\n",
       "    <tr>\n",
       "      <th>17376</th>\n",
       "      <td>0.60</td>\n",
       "      <td>90.0</td>\n",
       "      <td>7.000000</td>\n",
       "    </tr>\n",
       "    <tr>\n",
       "      <th>17377</th>\n",
       "      <td>0.56</td>\n",
       "      <td>61.0</td>\n",
       "      <td>13.000000</td>\n",
       "    </tr>\n",
       "    <tr>\n",
       "      <th>17378</th>\n",
       "      <td>0.65</td>\n",
       "      <td>49.0</td>\n",
       "      <td>12.000000</td>\n",
       "    </tr>\n",
       "  </tbody>\n",
       "</table>\n",
       "</div>"
      ],
      "text/plain": [
       "        hum    cnt     casual\n",
       "17374  0.60  119.0  11.000000\n",
       "17375  0.60   89.0  35.583147\n",
       "17376  0.60   90.0   7.000000\n",
       "17377  0.56   61.0  13.000000\n",
       "17378  0.65   49.0  12.000000"
      ]
     },
     "execution_count": 36,
     "metadata": {},
     "output_type": "execute_result"
    }
   ],
   "source": [
    "mean_df.tail()"
   ]
  },
  {
   "cell_type": "code",
   "execution_count": 37,
   "metadata": {
    "colab": {
     "base_uri": "https://localhost:8080/",
     "height": 85
    },
    "colab_type": "code",
    "executionInfo": {
     "elapsed": 647,
     "status": "ok",
     "timestamp": 1595417941014,
     "user": {
      "displayName": "fernandes macedo",
      "photoUrl": "https://lh3.googleusercontent.com/a-/AOh14GhJ9tjvclcdi3RHHRxHgDuwJ2JOnJiNPr2TJokJ=s64",
      "userId": "06599801896491279741"
     },
     "user_tz": 180
    },
    "id": "1ysqkCW6aTSZ",
    "outputId": "c1939428-0dc5-41b6-b3ca-d3208a913edd"
   },
   "outputs": [
    {
     "data": {
      "text/plain": [
       "hum       float64\n",
       "cnt       float64\n",
       "casual    float64\n",
       "dtype: object"
      ]
     },
     "execution_count": 37,
     "metadata": {},
     "output_type": "execute_result"
    }
   ],
   "source": [
    "mean_df.dtypes"
   ]
  },
  {
   "cell_type": "code",
   "execution_count": 38,
   "metadata": {
    "colab": {},
    "colab_type": "code",
    "id": "rTT7hZnUTp_o"
   },
   "outputs": [],
   "source": [
    "#como o formato dos dados em cada uma das colunas do dataframe são séries é necessário converter array\n",
    "dfx = mean_df[[\"hum\", \"casual\"]].values\n",
    "dfy = mean_df[\"cnt\"].values"
   ]
  },
  {
   "cell_type": "code",
   "execution_count": 39,
   "metadata": {
    "colab": {},
    "colab_type": "code",
    "id": "BaTLrVQoH6-p"
   },
   "outputs": [],
   "source": [
    "#utiliza as funções do sklearn para construir a regressão linear\n",
    "from sklearn.linear_model import LinearRegression\n",
    "from sklearn.metrics import mean_squared_error"
   ]
  },
  {
   "cell_type": "code",
   "execution_count": 40,
   "metadata": {
    "colab": {},
    "colab_type": "code",
    "id": "0MWUNhBWIKsL"
   },
   "outputs": [],
   "source": [
    "reg = LinearRegression() #objeto para a regressão linear\n",
    "x_ModeloSklern = dfx.reshape((-1, 2)) # na regressão linear é necessário que o X seja 2D\n",
    "regressao = reg.fit (x_ModeloSklern, dfy) # realiza a regressão"
   ]
  },
  {
   "cell_type": "code",
   "execution_count": 41,
   "metadata": {
    "colab": {},
    "colab_type": "code",
    "id": "e2t2xzyoINMr"
   },
   "outputs": [],
   "source": [
    "previsao = reg.predict(x_ModeloSklern)"
   ]
  },
  {
   "cell_type": "code",
   "execution_count": 42,
   "metadata": {
    "colab": {
     "base_uri": "https://localhost:8080/",
     "height": 34
    },
    "colab_type": "code",
    "executionInfo": {
     "elapsed": 592,
     "status": "ok",
     "timestamp": 1595417946994,
     "user": {
      "displayName": "fernandes macedo",
      "photoUrl": "https://lh3.googleusercontent.com/a-/AOh14GhJ9tjvclcdi3RHHRxHgDuwJ2JOnJiNPr2TJokJ=s64",
      "userId": "06599801896491279741"
     },
     "user_tz": 180
    },
    "id": "96gUmKcwIOCN",
    "outputId": "7389e82a-1056-4e26-962d-25e61e168a2f"
   },
   "outputs": [
    {
     "name": "stdout",
     "output_type": "stream",
     "text": [
      "MSE:  17713.068935231622\n"
     ]
    }
   ],
   "source": [
    "MSE = mean_squared_error(dfy, previsao) # encontra o MSE através do sklearn\n",
    "print('MSE: ', MSE)"
   ]
  },
  {
   "cell_type": "code",
   "execution_count": 43,
   "metadata": {
    "colab": {
     "base_uri": "https://localhost:8080/",
     "height": 51
    },
    "colab_type": "code",
    "executionInfo": {
     "elapsed": 545,
     "status": "ok",
     "timestamp": 1595417948017,
     "user": {
      "displayName": "fernandes macedo",
      "photoUrl": "https://lh3.googleusercontent.com/a-/AOh14GhJ9tjvclcdi3RHHRxHgDuwJ2JOnJiNPr2TJokJ=s64",
      "userId": "06599801896491279741"
     },
     "user_tz": 180
    },
    "id": "n7ArDyJrIfpd",
    "outputId": "72a5ad24-bd24-48da-e3f6-36298126a957"
   },
   "outputs": [
    {
     "name": "stdout",
     "output_type": "stream",
     "text": [
      "Y = [-100.98900093    2.20087962]X 174.98415936102248\n",
      "Coeficiente de Determinação (R2): 0.40561165206692495\n"
     ]
    }
   ],
   "source": [
    "#parâmetros encontrados\n",
    "print('Y = {}X {}'.format(reg.coef_,reg.intercept_))\n",
    "\n",
    "from sklearn.metrics import r2_score #método para o cálculo do R2\n",
    "\n",
    "R_2 = r2_score(dfy, previsao)  #realiza o cálculo do R2\n",
    "\n",
    "print(\"Coeficiente de Determinação (R2):\", R_2)"
   ]
  },
  {
   "cell_type": "markdown",
   "metadata": {
    "colab_type": "text",
    "id": "j5eWhpUUhrBV"
   },
   "source": [
    "#### Pergunta 12\n",
    "Utilize os mesmos dados da questão anterior (\"hum\" e \"casual\" como variáveis independentes e \"cnt\" como variavel dependente). Aplique a árvore de decisão como regressão. Qual é o valor aproximado de R2? Utilize as entradas como teste e valores \"default\".\n",
    "\n",
    "* 0,40\n",
    "\n",
    "* 0,30\n",
    "\n",
    "* ***0,70***\n",
    "\n",
    "* 1,00"
   ]
  },
  {
   "cell_type": "code",
   "execution_count": 44,
   "metadata": {
    "colab": {},
    "colab_type": "code",
    "id": "gT9RvfH3akRE"
   },
   "outputs": [],
   "source": [
    "#como o formato dos dados em cada uma das colunas do dataframe são séries é necessário converter array\n",
    "X = mean_df[[\"hum\", \"casual\"]].values\n",
    "y = mean_df[\"cnt\"].values"
   ]
  },
  {
   "cell_type": "code",
   "execution_count": 45,
   "metadata": {
    "colab": {
     "base_uri": "https://localhost:8080/",
     "height": 136
    },
    "colab_type": "code",
    "executionInfo": {
     "elapsed": 538,
     "status": "ok",
     "timestamp": 1595417953579,
     "user": {
      "displayName": "fernandes macedo",
      "photoUrl": "https://lh3.googleusercontent.com/a-/AOh14GhJ9tjvclcdi3RHHRxHgDuwJ2JOnJiNPr2TJokJ=s64",
      "userId": "06599801896491279741"
     },
     "user_tz": 180
    },
    "id": "5NvjLc0Nanr7",
    "outputId": "1c9221ba-3827-4b4b-9631-932766640d14"
   },
   "outputs": [
    {
     "data": {
      "text/plain": [
       "(array([[ 0.81,  3.  ],\n",
       "        [ 0.8 ,  8.  ],\n",
       "        [ 0.8 ,  5.  ],\n",
       "        ...,\n",
       "        [ 0.6 ,  7.  ],\n",
       "        [ 0.56, 13.  ],\n",
       "        [ 0.65, 12.  ]]),\n",
       " array([16., 40., 32., ..., 90., 61., 49.]))"
      ]
     },
     "execution_count": 45,
     "metadata": {},
     "output_type": "execute_result"
    }
   ],
   "source": [
    "X, y"
   ]
  },
  {
   "cell_type": "code",
   "execution_count": 46,
   "metadata": {
    "colab": {},
    "colab_type": "code",
    "id": "X1KgvYuMcZj2"
   },
   "outputs": [],
   "source": [
    "from sklearn.metrics import mean_absolute_error\n",
    "from sklearn.tree import DecisionTreeRegressor\n",
    "from sklearn.model_selection import train_test_split, cross_val_score"
   ]
  },
  {
   "cell_type": "code",
   "execution_count": 47,
   "metadata": {
    "colab": {
     "base_uri": "https://localhost:8080/",
     "height": 51
    },
    "colab_type": "code",
    "executionInfo": {
     "elapsed": 742,
     "status": "ok",
     "timestamp": 1595417957373,
     "user": {
      "displayName": "fernandes macedo",
      "photoUrl": "https://lh3.googleusercontent.com/a-/AOh14GhJ9tjvclcdi3RHHRxHgDuwJ2JOnJiNPr2TJokJ=s64",
      "userId": "06599801896491279741"
     },
     "user_tz": 180
    },
    "id": "pzy8jYPpfmkN",
    "outputId": "69f0d1d7-2472-407d-eb09-881908092f05"
   },
   "outputs": [
    {
     "data": {
      "text/plain": [
       "array([-1.21503101, -0.0780225 , -0.11923077,  0.11058636, -0.18574953,\n",
       "       -0.06893598,  0.24635766,  0.20181948,  0.23809117,  0.23029698])"
      ]
     },
     "execution_count": 47,
     "metadata": {},
     "output_type": "execute_result"
    }
   ],
   "source": [
    "# the model\n",
    "regressor = DecisionTreeRegressor(random_state=0)\n",
    "cross_val_score(regressor, X, y, cv=10)"
   ]
  },
  {
   "cell_type": "code",
   "execution_count": 48,
   "metadata": {
    "colab": {},
    "colab_type": "code",
    "id": "VtZe8lG3eUde"
   },
   "outputs": [],
   "source": [
    "X_train, X_test, y_train, y_test = train_test_split(X, y, random_state = 0)"
   ]
  },
  {
   "cell_type": "code",
   "execution_count": 49,
   "metadata": {
    "colab": {
     "base_uri": "https://localhost:8080/",
     "height": 34
    },
    "colab_type": "code",
    "executionInfo": {
     "elapsed": 391,
     "status": "ok",
     "timestamp": 1595417959172,
     "user": {
      "displayName": "fernandes macedo",
      "photoUrl": "https://lh3.googleusercontent.com/a-/AOh14GhJ9tjvclcdi3RHHRxHgDuwJ2JOnJiNPr2TJokJ=s64",
      "userId": "06599801896491279741"
     },
     "user_tz": 180
    },
    "id": "d4ajb0mceUxy",
    "outputId": "1dcfa36a-c7a9-4818-80ff-64caa33b2b0c"
   },
   "outputs": [
    {
     "name": "stdout",
     "output_type": "stream",
     "text": [
      "R-Squared on train dataset = 0.6919004334234703\n"
     ]
    }
   ],
   "source": [
    "regressor.fit(X,y)\n",
    "print(\"R-Squared on train dataset = {}\".format(regressor.score(X_test, y_test)))"
   ]
  },
  {
   "cell_type": "markdown",
   "metadata": {
    "colab_type": "text",
    "id": "Kba5Bw6kiMIZ"
   },
   "source": [
    "#### Pergunta 13\n",
    "Comparando os valores de R2 encontrado com a regressão linear e com a árvore de decisão, é CORRETO afirmar:\n",
    "\n",
    "* Os valores encontrados pela árvore de decisão como regressor e a regressão linear são próximos.\n",
    "\n",
    "* ***O valor obtido pela árvore de decisão como regressor apresenta maior R2***\n",
    "\n",
    "* O valor encontrado pela regressão linear é superior ao encontrado pela árvore de decisão.\n",
    "\n",
    "* O valor encontrado pela árvore de decisão foi negativo."
   ]
  },
  {
   "cell_type": "code",
   "execution_count": 50,
   "metadata": {
    "colab": {},
    "colab_type": "code",
    "id": "pTwULgJLhXjs"
   },
   "outputs": [],
   "source": [
    "LinearRegression = 0.40561165206692495\n",
    "DecisionTreeRegressor = 0.6919004334234703"
   ]
  },
  {
   "cell_type": "markdown",
   "metadata": {
    "colab_type": "text",
    "id": "bFS7f_nxidKL"
   },
   "source": [
    "#### Pergunta 14\n",
    "Comparando o SVM com a árvore de decisão é CORRETO afirmar:\n",
    "\n",
    "* ***SVM encontra o hiperplano que gera a maior separação entre os dados.***\n",
    "\n",
    "* SVM e Árvore de Decisão só podem ser utilizados para modelos de classificação.\n",
    "\n",
    "* Árvore de decisão encontra os hiperplanos de separação do mesmo modo que o SVM.\n",
    "\n",
    "* Através da Árvore de Decisão não é possível encontrar os limiares de separação entre as classes."
   ]
  },
  {
   "cell_type": "markdown",
   "metadata": {
    "colab_type": "text",
    "id": "QOBxAKEQcp4M"
   },
   "source": [
    "O objetivo de um SVM é encontrar o hiperplano de separação ideal o qual maximiza a margem da base de treinamento.\n",
    "Um hiperplano é a generalização de um plano.\n",
    "- com uma dimensão, um hiplerplano é chamado de ponto\n",
    "- com duas dimensões, é uma linha\n",
    "- com três dimensões, é um plano\n",
    "- com mais dimensões você pode chamar de hiperplano\n"
   ]
  },
  {
   "cell_type": "code",
   "execution_count": 51,
   "metadata": {
    "colab": {},
    "colab_type": "code",
    "id": "ZnsLI76ZkpOb"
   },
   "outputs": [],
   "source": [
    "from sklearn import svm\n",
    "from sklearn.svm import SVR\n",
    "from sklearn.metrics import accuracy_score"
   ]
  },
  {
   "cell_type": "code",
   "execution_count": 52,
   "metadata": {
    "colab": {
     "base_uri": "https://localhost:8080/",
     "height": 51
    },
    "colab_type": "code",
    "executionInfo": {
     "elapsed": 13062,
     "status": "ok",
     "timestamp": 1595417995423,
     "user": {
      "displayName": "fernandes macedo",
      "photoUrl": "https://lh3.googleusercontent.com/a-/AOh14GhJ9tjvclcdi3RHHRxHgDuwJ2JOnJiNPr2TJokJ=s64",
      "userId": "06599801896491279741"
     },
     "user_tz": 180
    },
    "id": "xUewDoU4kuyi",
    "outputId": "7c68ac9c-eab2-41de-91e2-15a1b3591163"
   },
   "outputs": [
    {
     "data": {
      "text/plain": [
       "SVR(C=0.9, gamma=0.1)"
      ]
     },
     "execution_count": 52,
     "metadata": {},
     "output_type": "execute_result"
    }
   ],
   "source": [
    "svm_clf = svm.SVR(C=0.9, gamma=0.1, kernel='rbf')\n",
    "svm_clf.fit(X_train, y_train)"
   ]
  },
  {
   "cell_type": "code",
   "execution_count": 53,
   "metadata": {
    "colab": {
     "base_uri": "https://localhost:8080/",
     "height": 51
    },
    "colab_type": "code",
    "executionInfo": {
     "elapsed": 1998,
     "status": "ok",
     "timestamp": 1595417999770,
     "user": {
      "displayName": "fernandes macedo",
      "photoUrl": "https://lh3.googleusercontent.com/a-/AOh14GhJ9tjvclcdi3RHHRxHgDuwJ2JOnJiNPr2TJokJ=s64",
      "userId": "06599801896491279741"
     },
     "user_tz": 180
    },
    "id": "je6l3jVolz8q",
    "outputId": "c86a76d3-696d-4552-877b-1aa735c7eeb6"
   },
   "outputs": [
    {
     "data": {
      "text/plain": [
       "array([178.66607204,  11.03799068, 274.07915413, ...,  17.0136639 ,\n",
       "       282.57295521,  28.11509355])"
      ]
     },
     "execution_count": 53,
     "metadata": {},
     "output_type": "execute_result"
    }
   ],
   "source": [
    "# obtém as probabilidades previstas\n",
    "svm_prob = svm_clf.predict(X_test)\n",
    "svm_prob"
   ]
  },
  {
   "cell_type": "code",
   "execution_count": 54,
   "metadata": {
    "colab": {
     "base_uri": "https://localhost:8080/",
     "height": 34
    },
    "colab_type": "code",
    "executionInfo": {
     "elapsed": 4974,
     "status": "ok",
     "timestamp": 1595418005320,
     "user": {
      "displayName": "fernandes macedo",
      "photoUrl": "https://lh3.googleusercontent.com/a-/AOh14GhJ9tjvclcdi3RHHRxHgDuwJ2JOnJiNPr2TJokJ=s64",
      "userId": "06599801896491279741"
     },
     "user_tz": 180
    },
    "id": "brpb2rlT137w",
    "outputId": "6979a636-2163-48de-8532-76df6b0cb7ed"
   },
   "outputs": [
    {
     "data": {
      "text/plain": [
       "0.35770225060674454"
      ]
     },
     "execution_count": 54,
     "metadata": {},
     "output_type": "execute_result"
    }
   ],
   "source": [
    "svm_clf.score(X_train, y_train)"
   ]
  },
  {
   "cell_type": "markdown",
   "metadata": {
    "colab_type": "text",
    "id": "iJFB5opsi7sv"
   },
   "source": [
    "#### Pergunta 15\n",
    "Com base na árvore de decisão é CORRETO afirmar:\n",
    "\n",
    "* ***Pode ser utilizada para classificação e regressão.***\n",
    "\n",
    "* A análise de regressão com a árvore de decisão só pode ser realizada com valores categóricos.\n",
    "\n",
    "* Ávore de Decisão é utilizada apenas para a classificação de dados contínuos.\n",
    "\n",
    "* Não é possível encontrar os limites de separação entre os conjuntos de dados a partir de uma classificação realizada através da árvore de decisão."
   ]
  }
 ],
 "metadata": {
  "colab": {
   "collapsed_sections": [],
   "name": "comp_bikes_mod.ipynb",
   "provenance": []
  },
  "kernelspec": {
   "display_name": "Python 3",
   "language": "python",
   "name": "python3"
  },
  "language_info": {
   "codemirror_mode": {
    "name": "ipython",
    "version": 3
   },
   "file_extension": ".py",
   "mimetype": "text/x-python",
   "name": "python",
   "nbconvert_exporter": "python",
   "pygments_lexer": "ipython3",
   "version": "3.8.5"
  }
 },
 "nbformat": 4,
 "nbformat_minor": 4
}
