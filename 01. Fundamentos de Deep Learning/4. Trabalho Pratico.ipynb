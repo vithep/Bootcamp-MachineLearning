{
 "cells": [
  {
   "cell_type": "code",
   "execution_count": 1,
   "metadata": {
    "colab": {},
    "colab_type": "code",
    "id": "XkAa6kElhAz9"
   },
   "outputs": [],
   "source": [
    "#importando as bibliotecas\n",
    "import pandas as pd #biblioteca utilizada para o tratamento de dados via dataframes \n",
    "import numpy as np #biblioteca utilizada para o tratamento de valores numéricos (vetores e matrizes)\n",
    "import matplotlib.pyplot as plt #biblioteca utilizada para construir os gráficos"
   ]
  },
  {
   "cell_type": "code",
   "execution_count": 2,
   "metadata": {
    "colab": {},
    "colab_type": "code",
    "id": "c3aot9E-li4L"
   },
   "outputs": [],
   "source": [
    "#realizando a leitura do arquivo (dataset)\n",
    "dataframe_envio_portos = pd.read_csv(\"data.csv\")"
   ]
  },
  {
   "cell_type": "code",
   "execution_count": 3,
   "metadata": {
    "colab": {
     "base_uri": "https://localhost:8080/",
     "height": 223
    },
    "colab_type": "code",
    "executionInfo": {
     "elapsed": 1202,
     "status": "ok",
     "timestamp": 1594826174171,
     "user": {
      "displayName": "fernandes macedo",
      "photoUrl": "https://lh3.googleusercontent.com/a-/AOh14GhJ9tjvclcdi3RHHRxHgDuwJ2JOnJiNPr2TJokJ=s64",
      "userId": "06599801896491279741"
     },
     "user_tz": 180
    },
    "id": "bKF37jCWl5SG",
    "outputId": "4ec22141-b5df-4e91-be0f-deba745d866f"
   },
   "outputs": [
    {
     "data": {
      "text/html": [
       "<div>\n",
       "<style scoped>\n",
       "    .dataframe tbody tr th:only-of-type {\n",
       "        vertical-align: middle;\n",
       "    }\n",
       "\n",
       "    .dataframe tbody tr th {\n",
       "        vertical-align: top;\n",
       "    }\n",
       "\n",
       "    .dataframe thead th {\n",
       "        text-align: right;\n",
       "    }\n",
       "</style>\n",
       "<table border=\"1\" class=\"dataframe\">\n",
       "  <thead>\n",
       "    <tr style=\"text-align: right;\">\n",
       "      <th></th>\n",
       "      <th>valid_import</th>\n",
       "      <th>item</th>\n",
       "      <th>importer_id</th>\n",
       "      <th>exporter_id</th>\n",
       "      <th>country_of_origin</th>\n",
       "      <th>declared_quantity</th>\n",
       "      <th>declared_cost</th>\n",
       "      <th>mode_of_transport</th>\n",
       "      <th>route</th>\n",
       "      <th>date_of_departure</th>\n",
       "      <th>date_of_arrival</th>\n",
       "      <th>declared_weight</th>\n",
       "      <th>actual_weight</th>\n",
       "      <th>days_in_transit</th>\n",
       "    </tr>\n",
       "  </thead>\n",
       "  <tbody>\n",
       "    <tr>\n",
       "      <th>0</th>\n",
       "      <td>True</td>\n",
       "      <td>cigar</td>\n",
       "      <td>111</td>\n",
       "      <td>222</td>\n",
       "      <td>India</td>\n",
       "      <td>129</td>\n",
       "      <td>3784.402551</td>\n",
       "      <td>sea</td>\n",
       "      <td>asia</td>\n",
       "      <td>04/25/2019</td>\n",
       "      <td>05/13/2019</td>\n",
       "      <td>1608.605135</td>\n",
       "      <td>1637.661221</td>\n",
       "      <td>18.232857</td>\n",
       "    </tr>\n",
       "    <tr>\n",
       "      <th>1</th>\n",
       "      <td>True</td>\n",
       "      <td>cigar</td>\n",
       "      <td>111</td>\n",
       "      <td>222</td>\n",
       "      <td>India</td>\n",
       "      <td>104</td>\n",
       "      <td>3081.350806</td>\n",
       "      <td>sea</td>\n",
       "      <td>america</td>\n",
       "      <td>04/22/2019</td>\n",
       "      <td>05/24/2019</td>\n",
       "      <td>831.719301</td>\n",
       "      <td>848.273419</td>\n",
       "      <td>32.436029</td>\n",
       "    </tr>\n",
       "    <tr>\n",
       "      <th>2</th>\n",
       "      <td>True</td>\n",
       "      <td>cigar</td>\n",
       "      <td>111</td>\n",
       "      <td>222</td>\n",
       "      <td>India</td>\n",
       "      <td>130</td>\n",
       "      <td>4414.125741</td>\n",
       "      <td>sea</td>\n",
       "      <td>europe</td>\n",
       "      <td>04/29/2019</td>\n",
       "      <td>05/16/2019</td>\n",
       "      <td>1527.704165</td>\n",
       "      <td>1582.063911</td>\n",
       "      <td>16.996206</td>\n",
       "    </tr>\n",
       "    <tr>\n",
       "      <th>3</th>\n",
       "      <td>True</td>\n",
       "      <td>cigar</td>\n",
       "      <td>111</td>\n",
       "      <td>222</td>\n",
       "      <td>India</td>\n",
       "      <td>143</td>\n",
       "      <td>2533.535991</td>\n",
       "      <td>sea</td>\n",
       "      <td>panama</td>\n",
       "      <td>05/05/2019</td>\n",
       "      <td>05/25/2019</td>\n",
       "      <td>1138.680563</td>\n",
       "      <td>1179.993817</td>\n",
       "      <td>19.965886</td>\n",
       "    </tr>\n",
       "    <tr>\n",
       "      <th>4</th>\n",
       "      <td>True</td>\n",
       "      <td>cigar</td>\n",
       "      <td>111</td>\n",
       "      <td>222</td>\n",
       "      <td>China</td>\n",
       "      <td>141</td>\n",
       "      <td>4396.397887</td>\n",
       "      <td>sea</td>\n",
       "      <td>asia</td>\n",
       "      <td>05/14/2019</td>\n",
       "      <td>06/05/2019</td>\n",
       "      <td>761.744581</td>\n",
       "      <td>781.735080</td>\n",
       "      <td>22.160034</td>\n",
       "    </tr>\n",
       "  </tbody>\n",
       "</table>\n",
       "</div>"
      ],
      "text/plain": [
       "   valid_import   item  importer_id  exporter_id country_of_origin  \\\n",
       "0          True  cigar          111          222             India   \n",
       "1          True  cigar          111          222             India   \n",
       "2          True  cigar          111          222             India   \n",
       "3          True  cigar          111          222             India   \n",
       "4          True  cigar          111          222             China   \n",
       "\n",
       "   declared_quantity  declared_cost mode_of_transport    route  \\\n",
       "0                129    3784.402551               sea     asia   \n",
       "1                104    3081.350806               sea  america   \n",
       "2                130    4414.125741               sea   europe   \n",
       "3                143    2533.535991               sea   panama   \n",
       "4                141    4396.397887               sea     asia   \n",
       "\n",
       "  date_of_departure date_of_arrival  declared_weight  actual_weight  \\\n",
       "0        04/25/2019      05/13/2019      1608.605135    1637.661221   \n",
       "1        04/22/2019      05/24/2019       831.719301     848.273419   \n",
       "2        04/29/2019      05/16/2019      1527.704165    1582.063911   \n",
       "3        05/05/2019      05/25/2019      1138.680563    1179.993817   \n",
       "4        05/14/2019      06/05/2019       761.744581     781.735080   \n",
       "\n",
       "   days_in_transit  \n",
       "0        18.232857  \n",
       "1        32.436029  \n",
       "2        16.996206  \n",
       "3        19.965886  \n",
       "4        22.160034  "
      ]
     },
     "execution_count": 3,
     "metadata": {},
     "output_type": "execute_result"
    }
   ],
   "source": [
    "#apresentando as 5 primeiras linhas do dataset\n",
    "dataframe_envio_portos.head()"
   ]
  },
  {
   "cell_type": "code",
   "execution_count": 4,
   "metadata": {
    "colab": {
     "base_uri": "https://localhost:8080/",
     "height": 397
    },
    "colab_type": "code",
    "executionInfo": {
     "elapsed": 801,
     "status": "ok",
     "timestamp": 1594826216317,
     "user": {
      "displayName": "fernandes macedo",
      "photoUrl": "https://lh3.googleusercontent.com/a-/AOh14GhJ9tjvclcdi3RHHRxHgDuwJ2JOnJiNPr2TJokJ=s64",
      "userId": "06599801896491279741"
     },
     "user_tz": 180
    },
    "id": "OL2cLcK_mPBO",
    "outputId": "598af660-da72-4eb3-a16d-04813f079aa4"
   },
   "outputs": [
    {
     "name": "stdout",
     "output_type": "stream",
     "text": [
      "<class 'pandas.core.frame.DataFrame'>\n",
      "RangeIndex: 120 entries, 0 to 119\n",
      "Data columns (total 14 columns):\n",
      " #   Column             Non-Null Count  Dtype  \n",
      "---  ------             --------------  -----  \n",
      " 0   valid_import       120 non-null    bool   \n",
      " 1   item               120 non-null    object \n",
      " 2   importer_id        120 non-null    int64  \n",
      " 3   exporter_id        120 non-null    int64  \n",
      " 4   country_of_origin  120 non-null    object \n",
      " 5   declared_quantity  120 non-null    int64  \n",
      " 6   declared_cost      120 non-null    float64\n",
      " 7   mode_of_transport  120 non-null    object \n",
      " 8   route              120 non-null    object \n",
      " 9   date_of_departure  120 non-null    object \n",
      " 10  date_of_arrival    120 non-null    object \n",
      " 11  declared_weight    120 non-null    float64\n",
      " 12  actual_weight      120 non-null    float64\n",
      " 13  days_in_transit    120 non-null    float64\n",
      "dtypes: bool(1), float64(4), int64(3), object(6)\n",
      "memory usage: 12.4+ KB\n"
     ]
    }
   ],
   "source": [
    "dataframe_envio_portos.info() #verificando os tipos de variáveis e se existem ou não valores nulos"
   ]
  },
  {
   "cell_type": "markdown",
   "metadata": {
    "colab_type": "text",
    "id": "6H6KdP5EomAM"
   },
   "source": [
    "**Existem Colunas Com Valores Nulos?**"
   ]
  },
  {
   "cell_type": "code",
   "execution_count": 5,
   "metadata": {
    "colab": {
     "base_uri": "https://localhost:8080/",
     "height": 34
    },
    "colab_type": "code",
    "executionInfo": {
     "elapsed": 822,
     "status": "ok",
     "timestamp": 1594826436161,
     "user": {
      "displayName": "fernandes macedo",
      "photoUrl": "https://lh3.googleusercontent.com/a-/AOh14GhJ9tjvclcdi3RHHRxHgDuwJ2JOnJiNPr2TJokJ=s64",
      "userId": "06599801896491279741"
     },
     "user_tz": 180
    },
    "id": "6E-2Hd7tyBXA",
    "outputId": "595cab87-0763-46c8-8519-12df0bff6d0e"
   },
   "outputs": [
    {
     "data": {
      "text/plain": [
       "(120, 14)"
      ]
     },
     "execution_count": 5,
     "metadata": {},
     "output_type": "execute_result"
    }
   ],
   "source": [
    "dataframe_envio_portos.shape"
   ]
  },
  {
   "cell_type": "markdown",
   "metadata": {
    "colab_type": "text",
    "id": "mKtkghQso5X3"
   },
   "source": [
    "**Quantas Instâncias e Características Existem no Dataset?**\n",
    "\n"
   ]
  },
  {
   "cell_type": "code",
   "execution_count": 6,
   "metadata": {
    "colab": {
     "base_uri": "https://localhost:8080/",
     "height": 315
    },
    "colab_type": "code",
    "executionInfo": {
     "elapsed": 883,
     "status": "ok",
     "timestamp": 1594826440122,
     "user": {
      "displayName": "fernandes macedo",
      "photoUrl": "https://lh3.googleusercontent.com/a-/AOh14GhJ9tjvclcdi3RHHRxHgDuwJ2JOnJiNPr2TJokJ=s64",
      "userId": "06599801896491279741"
     },
     "user_tz": 180
    },
    "id": "EK9PIlANo1NA",
    "outputId": "f21fdef2-2c3f-4562-c815-7076f4dd7555"
   },
   "outputs": [
    {
     "data": {
      "text/html": [
       "<div>\n",
       "<style scoped>\n",
       "    .dataframe tbody tr th:only-of-type {\n",
       "        vertical-align: middle;\n",
       "    }\n",
       "\n",
       "    .dataframe tbody tr th {\n",
       "        vertical-align: top;\n",
       "    }\n",
       "\n",
       "    .dataframe thead th {\n",
       "        text-align: right;\n",
       "    }\n",
       "</style>\n",
       "<table border=\"1\" class=\"dataframe\">\n",
       "  <thead>\n",
       "    <tr style=\"text-align: right;\">\n",
       "      <th></th>\n",
       "      <th>importer_id</th>\n",
       "      <th>exporter_id</th>\n",
       "      <th>declared_quantity</th>\n",
       "      <th>declared_cost</th>\n",
       "      <th>declared_weight</th>\n",
       "      <th>actual_weight</th>\n",
       "      <th>days_in_transit</th>\n",
       "    </tr>\n",
       "  </thead>\n",
       "  <tbody>\n",
       "    <tr>\n",
       "      <th>count</th>\n",
       "      <td>120.0</td>\n",
       "      <td>120.0</td>\n",
       "      <td>120.000000</td>\n",
       "      <td>120.000000</td>\n",
       "      <td>120.000000</td>\n",
       "      <td>120.000000</td>\n",
       "      <td>120.000000</td>\n",
       "    </tr>\n",
       "    <tr>\n",
       "      <th>mean</th>\n",
       "      <td>111.0</td>\n",
       "      <td>222.0</td>\n",
       "      <td>127.458333</td>\n",
       "      <td>6743.649881</td>\n",
       "      <td>1264.702934</td>\n",
       "      <td>1306.429806</td>\n",
       "      <td>35.424705</td>\n",
       "    </tr>\n",
       "    <tr>\n",
       "      <th>std</th>\n",
       "      <td>0.0</td>\n",
       "      <td>0.0</td>\n",
       "      <td>14.641311</td>\n",
       "      <td>2991.797050</td>\n",
       "      <td>633.149971</td>\n",
       "      <td>656.911704</td>\n",
       "      <td>26.571591</td>\n",
       "    </tr>\n",
       "    <tr>\n",
       "      <th>min</th>\n",
       "      <td>111.0</td>\n",
       "      <td>222.0</td>\n",
       "      <td>100.000000</td>\n",
       "      <td>1441.012419</td>\n",
       "      <td>18.459509</td>\n",
       "      <td>19.275241</td>\n",
       "      <td>12.410325</td>\n",
       "    </tr>\n",
       "    <tr>\n",
       "      <th>25%</th>\n",
       "      <td>111.0</td>\n",
       "      <td>222.0</td>\n",
       "      <td>115.750000</td>\n",
       "      <td>4442.903914</td>\n",
       "      <td>820.314400</td>\n",
       "      <td>841.763738</td>\n",
       "      <td>18.225625</td>\n",
       "    </tr>\n",
       "    <tr>\n",
       "      <th>50%</th>\n",
       "      <td>111.0</td>\n",
       "      <td>222.0</td>\n",
       "      <td>131.500000</td>\n",
       "      <td>6010.218745</td>\n",
       "      <td>1255.597743</td>\n",
       "      <td>1305.716419</td>\n",
       "      <td>27.044293</td>\n",
       "    </tr>\n",
       "    <tr>\n",
       "      <th>75%</th>\n",
       "      <td>111.0</td>\n",
       "      <td>222.0</td>\n",
       "      <td>139.000000</td>\n",
       "      <td>8887.095370</td>\n",
       "      <td>1711.314045</td>\n",
       "      <td>1763.681083</td>\n",
       "      <td>44.356374</td>\n",
       "    </tr>\n",
       "    <tr>\n",
       "      <th>max</th>\n",
       "      <td>111.0</td>\n",
       "      <td>222.0</td>\n",
       "      <td>149.000000</td>\n",
       "      <td>14281.325362</td>\n",
       "      <td>2806.338955</td>\n",
       "      <td>2918.681683</td>\n",
       "      <td>147.787560</td>\n",
       "    </tr>\n",
       "  </tbody>\n",
       "</table>\n",
       "</div>"
      ],
      "text/plain": [
       "       importer_id  exporter_id  declared_quantity  declared_cost  \\\n",
       "count        120.0        120.0         120.000000     120.000000   \n",
       "mean         111.0        222.0         127.458333    6743.649881   \n",
       "std            0.0          0.0          14.641311    2991.797050   \n",
       "min          111.0        222.0         100.000000    1441.012419   \n",
       "25%          111.0        222.0         115.750000    4442.903914   \n",
       "50%          111.0        222.0         131.500000    6010.218745   \n",
       "75%          111.0        222.0         139.000000    8887.095370   \n",
       "max          111.0        222.0         149.000000   14281.325362   \n",
       "\n",
       "       declared_weight  actual_weight  days_in_transit  \n",
       "count       120.000000     120.000000       120.000000  \n",
       "mean       1264.702934    1306.429806        35.424705  \n",
       "std         633.149971     656.911704        26.571591  \n",
       "min          18.459509      19.275241        12.410325  \n",
       "25%         820.314400     841.763738        18.225625  \n",
       "50%        1255.597743    1305.716419        27.044293  \n",
       "75%        1711.314045    1763.681083        44.356374  \n",
       "max        2806.338955    2918.681683       147.787560  "
      ]
     },
     "execution_count": 6,
     "metadata": {},
     "output_type": "execute_result"
    }
   ],
   "source": [
    "#analisando a \"estatística\" do dataset\n",
    "dataframe_envio_portos.describe()"
   ]
  },
  {
   "cell_type": "markdown",
   "metadata": {
    "colab_type": "text",
    "id": "rMDw3h6RwmEh"
   },
   "source": [
    "**Qual é o Valor Médio Para os Pesos Declarados?**"
   ]
  },
  {
   "cell_type": "code",
   "execution_count": 7,
   "metadata": {
    "colab": {
     "base_uri": "https://localhost:8080/",
     "height": 268
    },
    "colab_type": "code",
    "executionInfo": {
     "elapsed": 1408,
     "status": "ok",
     "timestamp": 1594827126030,
     "user": {
      "displayName": "fernandes macedo",
      "photoUrl": "https://lh3.googleusercontent.com/a-/AOh14GhJ9tjvclcdi3RHHRxHgDuwJ2JOnJiNPr2TJokJ=s64",
      "userId": "06599801896491279741"
     },
     "user_tz": 180
    },
    "id": "dcWZdA5EwlCu",
    "outputId": "ce51e2d0-2fe4-4e0a-a64a-bd9471d9ff9e"
   },
   "outputs": [
    {
     "data": {
      "text/plain": [
       "<AxesSubplot:>"
      ]
     },
     "execution_count": 7,
     "metadata": {},
     "output_type": "execute_result"
    },
    {
     "data": {
      "image/png": "[encoded data removed]",
      "text/plain": [
       "<Figure size 432x288 with 1 Axes>"
      ]
     },
     "metadata": {
      "needs_background": "light"
     },
     "output_type": "display_data"
    }
   ],
   "source": [
    "#identificando possíveis outliers\n",
    "dataframe_envio_portos[['declared_quantity','days_in_transit']].boxplot()"
   ]
  },
  {
   "cell_type": "markdown",
   "metadata": {
    "colab_type": "text",
    "id": "ZqxbwHTtxM6A"
   },
   "source": [
    "**Existem Possíveis Outliers?**"
   ]
  },
  {
   "cell_type": "code",
   "execution_count": 8,
   "metadata": {
    "colab": {},
    "colab_type": "code",
    "id": "IECULZZuxMC_"
   },
   "outputs": [],
   "source": [
    "#realizando a análise de regressão\n",
    "x = dataframe_envio_portos['declared_weight'].values  #variável independente \n",
    "Y = dataframe_envio_portos['actual_weight'].values #variável dependente "
   ]
  },
  {
   "cell_type": "code",
   "execution_count": 9,
   "metadata": {
    "colab": {},
    "colab_type": "code",
    "id": "pSoJQBOMy7F8"
   },
   "outputs": [],
   "source": [
    "#importa o modelo de regressão linear univariada\n",
    "from sklearn.linear_model import LinearRegression"
   ]
  },
  {
   "cell_type": "code",
   "execution_count": 10,
   "metadata": {
    "colab": {},
    "colab_type": "code",
    "id": "AWHHadB4x9_k"
   },
   "outputs": [],
   "source": [
    "#Realiza a construção do modelo de regressão\n",
    "reg = LinearRegression()\n",
    "x_Reshaped = x.reshape((-1, 1)) #coloca os dados no formato 2D\n",
    "regressao = reg.fit (x_Reshaped,Y) # encontra os coeficientes (realiza a regressão)"
   ]
  },
  {
   "cell_type": "code",
   "execution_count": 11,
   "metadata": {
    "colab": {},
    "colab_type": "code",
    "id": "nvBdinlry6VR"
   },
   "outputs": [],
   "source": [
    "#realiza a previsão\n",
    "previsao = reg.predict(x_Reshaped)"
   ]
  },
  {
   "cell_type": "code",
   "execution_count": 12,
   "metadata": {
    "colab": {},
    "colab_type": "code",
    "id": "kYdLgLmOzhBr"
   },
   "outputs": [],
   "source": [
    "#análise do modelo\n",
    "from sklearn.metrics import r2_score #método para o cálculo do R2 (coeficiente de determinação)"
   ]
  },
  {
   "cell_type": "code",
   "execution_count": 13,
   "metadata": {
    "colab": {
     "base_uri": "https://localhost:8080/",
     "height": 68
    },
    "colab_type": "code",
    "executionInfo": {
     "elapsed": 86790,
     "status": "ok",
     "timestamp": 1594648103876,
     "user": {
      "displayName": "fernandes macedo",
      "photoUrl": "https://lh3.googleusercontent.com/a-/AOh14GhJ9tjvclcdi3RHHRxHgDuwJ2JOnJiNPr2TJokJ=s64",
      "userId": "06599801896491279741"
     },
     "user_tz": 180
    },
    "id": "2JBYpbs5za47",
    "outputId": "65253035-3031-4e2b-959e-4699c8080e80"
   },
   "outputs": [
    {
     "name": "stdout",
     "output_type": "stream",
     "text": [
      "Y = [1.03718115] \n",
      "X = -5.296233030439225\n",
      "Coeficiente de Determinação (R2): 0.9993288165644932\n"
     ]
    }
   ],
   "source": [
    "#parâmetros encontrados\n",
    "print('Y = {} \\nX = {}'.format(reg.coef_, reg.intercept_))\n",
    "\n",
    "R_2 = r2_score(Y, previsao)  #realiza o cálculo do R2\n",
    "\n",
    "print(\"Coeficiente de Determinação (R2):\", R_2)\n"
   ]
  },
  {
   "cell_type": "markdown",
   "metadata": {
    "colab_type": "text",
    "id": "BlguRh0t0oU6"
   },
   "source": [
    "**Pelo Coefiente de Determinação, o Que É Possível Afirmar Sobre a Relação Entre as Variáveis Peso Real x Peso Declarado?**"
   ]
  },
  {
   "cell_type": "code",
   "execution_count": 14,
   "metadata": {
    "colab": {
     "base_uri": "https://localhost:8080/",
     "height": 382
    },
    "colab_type": "code",
    "executionInfo": {
     "elapsed": 87148,
     "status": "ok",
     "timestamp": 1594648104270,
     "user": {
      "displayName": "fernandes macedo",
      "photoUrl": "https://lh3.googleusercontent.com/a-/AOh14GhJ9tjvclcdi3RHHRxHgDuwJ2JOnJiNPr2TJokJ=s64",
      "userId": "06599801896491279741"
     },
     "user_tz": 180
    },
    "id": "Dl1idrd7zuJM",
    "outputId": "c4836eca-8843-406e-ef31-02aeb7e87fa9"
   },
   "outputs": [
    {
     "data": {
      "image/png": "[encoded data removed]",
      "text/plain": [
       "<Figure size 400x400 with 1 Axes>"
      ]
     },
     "metadata": {
      "needs_background": "light"
     },
     "output_type": "display_data"
    }
   ],
   "source": [
    "#realiza o plot dos dados\n",
    "plt.figure(figsize=(4, 4), dpi=100)\n",
    "plt.scatter(x, Y,  color='gray') #realiza o plot do gráfico de dispersão\n",
    "plt.plot(x, previsao, color='red', linewidth=2) # realiza o plto da \"linha\"\n",
    "plt.xlabel(\"Peso Declarado\")\n",
    "plt.ylabel(\"Peso Real\")\n",
    "plt.show()"
   ]
  },
  {
   "cell_type": "markdown",
   "metadata": {
    "colab_type": "text",
    "id": "b1WQ-eFIKFRm"
   },
   "source": [
    "#### Pergunta 1\n",
    "Qual é a biblioteca em Python utilizada para criação de dataframes?\n",
    "- Seaborn \n",
    "- ***Pandas*** \n",
    "- Numpy \n",
    "- Matplotlib "
   ]
  },
  {
   "cell_type": "markdown",
   "metadata": {
    "colab_type": "text",
    "id": "J6kvG8NFKKWl"
   },
   "source": [
    "#### Pergunta 2\n",
    "A função head (pandas.head( )) mostra quantas linhas no modo \"padrão\" (default)?\n",
    "- 10 \n",
    "- 3 \n",
    "- ***5*** \n",
    "- 15 "
   ]
  },
  {
   "cell_type": "markdown",
   "metadata": {
    "colab_type": "text",
    "id": "Fx4IXZ4jKKiG"
   },
   "source": [
    "#### Pergunta 3\n",
    "Para o dataset presente no trabalho prático, quantas linhas existem?\n",
    " - 33 \n",
    " - 14 \n",
    " - 100 \n",
    " - ***120*** "
   ]
  },
  {
   "cell_type": "markdown",
   "metadata": {
    "colab_type": "text",
    "id": "FijX-6CjKKpZ"
   },
   "source": [
    "#### Pergunta 4\n",
    "Para o dataset utilizado no trabalho prático, quantas colunas estão presentes?\n",
    "- 18 \n",
    "- 13 \n",
    "- 20 \n",
    "- ***14*** "
   ]
  },
  {
   "cell_type": "markdown",
   "metadata": {
    "colab_type": "text",
    "id": "YR88NlSkKKwF"
   },
   "source": [
    "#### Pergunta 5\n",
    "Após a execução da função pd.info() para o dataset presente no trabalho prático, quantos tipos diferentes de variáveis foram mostrados?\n",
    "- 8 \n",
    "- 5 \n",
    "- 6 \n",
    "- ***4*** "
   ]
  },
  {
   "cell_type": "markdown",
   "metadata": {
    "colab_type": "text",
    "id": "NpbVrLbOKK1j"
   },
   "source": [
    "#### Pergunta 6\n",
    "Para o dataset presente no trabalho prático, quantas colunas são do tipo inteiro (int64)?\n",
    "- 1 \n",
    "- ***3*** \n",
    "- 0 \n",
    "- 4 "
   ]
  },
  {
   "cell_type": "markdown",
   "metadata": {
    "colab_type": "text",
    "id": "mNuTLcShKK8O"
   },
   "source": [
    "#### Pergunta 7\n",
    "Qual é o valor médio para a varíavel \"declared_quantity\" presente no dataset?\n",
    "- 14.67 \n",
    "- ***127.45*** \n",
    "- 34.42 \n",
    "- 1306.42 "
   ]
  },
  {
   "cell_type": "markdown",
   "metadata": {
    "colab_type": "text",
    "id": "-g7Pd04VKLC6"
   },
   "source": [
    "#### Pergunta 8\n",
    "Qual é o valor do desvio padrão para a variável \"declared_weight\" presente no dataset do trabalho prático?\n",
    "- ***633.14*** \n",
    "- 128,47 \n",
    "- 13.04 \n",
    "- 1005.36 "
   ]
  },
  {
   "cell_type": "markdown",
   "metadata": {
    "colab_type": "text",
    "id": "-nVB--DaKLJn"
   },
   "source": [
    "#### Pergunta 9\n",
    "Analisando o boxplot das variáveis 'declared_quantity' e 'days_in_transit' é possível afirmar:\n",
    "- ***Para a variável \"days_in_transit\" existem possíveis outliers.*** \n",
    "- Possuem a mesma mediana. \n",
    "- Não existem evidências de outliers. \n",
    "- Ambas são valores inteiros. "
   ]
  },
  {
   "cell_type": "markdown",
   "metadata": {
    "colab_type": "text",
    "id": "rzoKyerPKLQQ"
   },
   "source": [
    "#### Pergunta 10\n",
    "Qual das variáveis abaixo é do tipo booleana?\n",
    "- declared_quantity \n",
    "- importer_id \n",
    "- item \n",
    "- ***valid_import***"
   ]
  },
  {
   "cell_type": "markdown",
   "metadata": {
    "colab_type": "text",
    "id": "FKFU8nxLKLW8"
   },
   "source": [
    "#### Pergunta 11\n",
    "Para a análise de regressão empregada no trabalho prático, qual é a variável preditora?\n",
    "- days_in_transit \n",
    "- exporter_id \n",
    "- actual_weight \n",
    "- ***declared_weight***"
   ]
  },
  {
   "cell_type": "markdown",
   "metadata": {
    "colab_type": "text",
    "id": "vHXZ8lMnKLeM"
   },
   "source": [
    "#### Pergunta 12\n",
    "Qual foi a métrica utilizada para avaliar o modelo de regressão do trabalho prático?\n",
    "- Poisson \n",
    "- ***Coeficiente de determinação*** \n",
    "- Erro absoluto \n",
    "- Erro médio quadrático "
   ]
  },
  {
   "cell_type": "markdown",
   "metadata": {
    "colab_type": "text",
    "id": "fKDAcc_dKLk3"
   },
   "source": [
    "#### Pergunta 13\n",
    "Para a reta de regressão encontrada no trabalho, qual é o coeficiente angular da reta?\n",
    "- ***1.03*** \n",
    "- -5.8 \n",
    "- 3.04 \n",
    "- 5.8 "
   ]
  },
  {
   "cell_type": "markdown",
   "metadata": {
    "colab_type": "text",
    "id": "92po9ZaDKLsK"
   },
   "source": [
    "#### Pergunta 14\n",
    "Para a reta de regressão encontrada no trabalho, qual é o coeficiente linear da reta?\n",
    "- -5.8 \n",
    "- 8.7 \n",
    "- ***-5.29*** \n",
    "- 1.03 "
   ]
  },
  {
   "cell_type": "markdown",
   "metadata": {
    "colab_type": "text",
    "id": "-ee0cQSYKZW6"
   },
   "source": [
    "#### Pergunta 15\n",
    "Sobre o coeficiente de determinação encontrado para a reta do trabalho prático, é correto afirmar:\n",
    "- Apresenta valor negativo \n",
    "- Nada pode ser dito, pois apresenta um valor próximo a zero. \n",
    "- Não pode ser calculado. \n",
    "- ***Possui um valor muito próximo de 1, indicando que ocorreu um bom \"fit\" para os dados*** "
   ]
  }
 ],
 "metadata": {
  "colab": {
   "collapsed_sections": [],
   "name": "trabalho_pratico_FAM.ipynb",
   "provenance": []
  },
  "kernelspec": {
   "display_name": "Python 3",
   "language": "python",
   "name": "python3"
  },
  "language_info": {
   "codemirror_mode": {
    "name": "ipython",
    "version": 3
   },
   "file_extension": ".py",
   "mimetype": "text/x-python",
   "name": "python",
   "nbconvert_exporter": "python",
   "pygments_lexer": "ipython3",
   "version": "3.8.5"
  }
 },
 "nbformat": 4,
 "nbformat_minor": 4
}
