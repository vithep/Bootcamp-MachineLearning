{
 "cells": [
  {
   "cell_type": "markdown",
   "metadata": {},
   "source": [
    "# 1. Identificando Outliers"
   ]
  },
  {
   "cell_type": "code",
   "execution_count": 1,
   "metadata": {},
   "outputs": [],
   "source": [
    "import pandas as pd\n",
    "import numpy as np\n",
    "import matplotlib.pyplot as plt\n",
    "import scipy as stats"
   ]
  },
  {
   "cell_type": "markdown",
   "metadata": {},
   "source": [
    "#### Base de Dados"
   ]
  },
  {
   "cell_type": "code",
   "execution_count": 2,
   "metadata": {},
   "outputs": [],
   "source": [
    "xi = [3246, 3476, 3724, 3773, 3837, 3968, 4198, 4048, 4170, 4226, 4788, 4009, 3568, 4357]"
   ]
  },
  {
   "cell_type": "code",
   "execution_count": 3,
   "metadata": {},
   "outputs": [],
   "source": [
    "xy = [6799, 3476, 3724, 3773, 3837, 3968, 4198, 4048, 4170, 4226, 4788, 4009, 3568, 4357]"
   ]
  },
  {
   "cell_type": "code",
   "execution_count": 4,
   "metadata": {},
   "outputs": [],
   "source": [
    "def print_full(x):\n",
    "    pd.set_option('display.max_rows',len(x))\n",
    "    pd.set_option('display.max_columns',len(x))\n",
    "    print(x)\n",
    "    pd.reset_option('display.max_rows')\n",
    "    pd.reset_option('display.max_columns')"
   ]
  },
  {
   "cell_type": "markdown",
   "metadata": {},
   "source": [
    "#### Media"
   ]
  },
  {
   "cell_type": "code",
   "execution_count": 5,
   "metadata": {},
   "outputs": [],
   "source": [
    "xi_mean=np.mean(xi)\n",
    "xy_mean=np.mean(xy)"
   ]
  },
  {
   "cell_type": "markdown",
   "metadata": {},
   "source": [
    "#### Mediana"
   ]
  },
  {
   "cell_type": "code",
   "execution_count": 6,
   "metadata": {},
   "outputs": [],
   "source": [
    "mediana_xi = np.median(xi)\n",
    "mediana_xy = np.median(xy)"
   ]
  },
  {
   "cell_type": "code",
   "execution_count": 9,
   "metadata": {},
   "outputs": [
    {
     "name": "stdout",
     "output_type": "stream",
     "text": [
      "Minha lista sem anomalias:  [3246, 3476, 3724, 3773, 3837, 3968, 4198, 4048, 4170, 4226, 4788, 4009, 3568, 4357]\n",
      "A mediana da minha lista é  3988.5\n",
      "Minha lista com anomalias:  [6799, 3476, 3724, 3773, 3837, 3968, 4198, 4048, 4170, 4226, 4788, 4009, 3568, 4357]\n",
      "A mediana da minha lista é  4028.5\n"
     ]
    }
   ],
   "source": [
    "print('Minha lista sem anomalias: ', str(xi))\n",
    "print('A mediana da minha lista é ', str(mediana_xi))\n",
    "print('Minha lista com anomalias: ', str(xy))\n",
    "print('A mediana da minha lista é ', str(mediana_xy))"
   ]
  },
  {
   "cell_type": "markdown",
   "metadata": {},
   "source": [
    "#### Desvio Padrão"
   ]
  },
  {
   "cell_type": "code",
   "execution_count": 10,
   "metadata": {},
   "outputs": [],
   "source": [
    "xi_sd = np.std(xi,ddof=1)\n",
    "xy_sd = np.std(xy,ddof=1)"
   ]
  },
  {
   "cell_type": "markdown",
   "metadata": {},
   "source": [
    "#### Z-score"
   ]
  },
  {
   "cell_type": "code",
   "execution_count": 11,
   "metadata": {},
   "outputs": [],
   "source": [
    "z_score_i = (xi - xi_mean)/xi_sd\n",
    "z_score_y = (xy - xy_mean)/xy_sd"
   ]
  },
  {
   "cell_type": "code",
   "execution_count": 12,
   "metadata": {},
   "outputs": [
    {
     "name": "stdout",
     "output_type": "stream",
     "text": [
      "    Base (sem anomalias)  Z-score (sem anomalias)  Base (com anomalias)  \\\n",
      "0                   3246                -1.798239                  6799   \n",
      "1                   3476                -1.215945                  3476   \n",
      "2                   3724                -0.588080                  3724   \n",
      "3                   3773                -0.464027                  3773   \n",
      "4                   3837                -0.301997                  3837   \n",
      "5                   3968                 0.029657                  3968   \n",
      "6                   4198                 0.611951                  4198   \n",
      "7                   4048                 0.232194                  4048   \n",
      "8                   4170                 0.541063                  4170   \n",
      "9                   4226                 0.682839                  4226   \n",
      "10                  4788                 2.105661                  4788   \n",
      "11                  4009                 0.133457                  4009   \n",
      "12                  3568                -0.983028                  3568   \n",
      "13                  4357                 1.014493                  4357   \n",
      "\n",
      "    Z-score (com anomalias)  \n",
      "0                  3.164145  \n",
      "1                 -0.897170  \n",
      "2                 -0.594068  \n",
      "3                 -0.534181  \n",
      "4                 -0.455962  \n",
      "5                 -0.295856  \n",
      "6                 -0.014753  \n",
      "7                 -0.198081  \n",
      "8                 -0.048975  \n",
      "9                  0.019468  \n",
      "10                 0.706335  \n",
      "11                -0.245746  \n",
      "12                -0.784729  \n",
      "13                 0.179574  \n"
     ]
    }
   ],
   "source": [
    "df = pd.DataFrame({'Base (sem anomalias)':xi,'Z-score (sem anomalias)':z_score_i,\n",
    "                   'Base (com anomalias)':xy,'Z-score (com anomalias)':z_score_y})\n",
    "df.round(2)\n",
    "cols = ['Base (sem anomalias)','Z-score (sem anomalias)','Base (com anomalias)','Z-score (com anomalias)']\n",
    "df = df[cols]\n",
    "print_full(df)"
   ]
  },
  {
   "cell_type": "markdown",
   "metadata": {},
   "source": [
    "#### Plot da Distribuição Normal"
   ]
  },
  {
   "cell_type": "code",
   "execution_count": 22,
   "metadata": {},
   "outputs": [
    {
     "data": {
      "image/png": "[encoded data removed]",
      "text/plain": [
       "<Figure size 720x288 with 1 Axes>"
      ]
     },
     "metadata": {
      "needs_background": "light"
     },
     "output_type": "display_data"
    }
   ],
   "source": [
    "fig,ax = plt.subplots(figsize=(10,4))\n",
    "ax.hist(xi);"
   ]
  },
  {
   "cell_type": "code",
   "execution_count": 17,
   "metadata": {},
   "outputs": [
    {
     "data": {
      "image/png": "[encoded data removed]",
      "text/plain": [
       "<Figure size 720x288 with 1 Axes>"
      ]
     },
     "metadata": {
      "needs_background": "light"
     },
     "output_type": "display_data"
    }
   ],
   "source": [
    "fig,ax = plt.subplots(figsize=(10,4))\n",
    "ax.hist(xy);"
   ]
  },
  {
   "cell_type": "code",
   "execution_count": 18,
   "metadata": {},
   "outputs": [
    {
     "data": {
      "image/png": "[encoded data removed]",
      "text/plain": [
       "<Figure size 432x288 with 1 Axes>"
      ]
     },
     "metadata": {
      "needs_background": "light"
     },
     "output_type": "display_data"
    },
    {
     "data": {
      "image/png": "[encoded data removed]",
      "text/plain": [
       "<Figure size 432x288 with 1 Axes>"
      ]
     },
     "metadata": {
      "needs_background": "light"
     },
     "output_type": "display_data"
    }
   ],
   "source": [
    "fig_xi = plt.figure(1, figsize=(6,4))\n",
    "axi = fig_xi.add_subplot(111)\n",
    "bp_xi = axi.boxplot(xi)\n",
    "\n",
    "fig_xy = plt.figure(2, figsize=(6,4))\n",
    "axy = fig_xy.add_subplot(111)\n",
    "bp_xy = axy.boxplot(xy)"
   ]
  }
 ],
 "metadata": {
  "kernelspec": {
   "display_name": "Python 3",
   "language": "python",
   "name": "python3"
  },
  "language_info": {
   "codemirror_mode": {
    "name": "ipython",
    "version": 3
   },
   "file_extension": ".py",
   "mimetype": "text/x-python",
   "name": "python",
   "nbconvert_exporter": "python",
   "pygments_lexer": "ipython3",
   "version": "3.8.5"
  }
 },
 "nbformat": 4,
 "nbformat_minor": 4
}
